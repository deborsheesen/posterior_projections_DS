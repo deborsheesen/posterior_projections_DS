{
 "cells": [
  {
   "cell_type": "code",
   "execution_count": 1,
   "metadata": {
    "collapsed": true
   },
   "outputs": [],
   "source": [
    "import numpy as np\n",
    "from scipy import optimize"
   ]
  },
  {
   "cell_type": "code",
   "execution_count": 2,
   "metadata": {
    "collapsed": true
   },
   "outputs": [],
   "source": [
    "c = np.zeros(2)\n",
    "A_ub = np.array([[-1, -1]])\n",
    "b_ub = np.array([-180])\n",
    "A_eq = np.array([[3, 12]])\n",
    "b_eq = np.array([1000])\n",
    "bounds = [(30, 160), (10, 60)]"
   ]
  },
  {
   "cell_type": "code",
   "execution_count": 3,
   "metadata": {},
   "outputs": [
    {
     "data": {
      "text/plain": [
       "     fun: -0.0\n",
       " message: 'Optimization terminated successfully.'\n",
       "     nit: 5\n",
       "   slack: array([31.11111111, 98.88888889,  0.        , 41.11111111,  8.88888889])\n",
       "  status: 0\n",
       " success: True\n",
       "       x: array([128.88888889,  51.11111111])"
      ]
     },
     "execution_count": 3,
     "metadata": {},
     "output_type": "execute_result"
    }
   ],
   "source": [
    "optimize.linprog(c, A_ub, b_ub, A_eq, b_eq, bounds, method=\"simplex\")"
   ]
  },
  {
   "cell_type": "code",
   "execution_count": 8,
   "metadata": {},
   "outputs": [
    {
     "name": "stdout",
     "output_type": "stream",
     "text": [
      "Minimum value of y = 43.333333333333336\n",
      "Maximum value of y = 51.111111111111114\n"
     ]
    }
   ],
   "source": [
    "from scipy.optimize import linprog\n",
    "\n",
    "# Set up values relating to both minimum and maximum values of y\n",
    "coefficients_inequalities = [[-1, -1], [-2, -3]]  # require -1*x + -1*y <= -180\n",
    "constants_inequalities = [-180, -10]\n",
    "coefficients_equalities = [[3, 12]]  # require 3*x + 12*y = 1000\n",
    "constants_equalities = [1000]\n",
    "bounds_x = (30, 160)  # require 30 <= x <= 160\n",
    "bounds_y = (10, 60)  # require 10 <= y <= 60\n",
    "\n",
    "# Find and print the minimal value of y\n",
    "coefficients_min_y = [0, 1]  # minimize 0*x + 1*y\n",
    "res = linprog(coefficients_min_y,\n",
    "              A_ub=coefficients_inequalities,\n",
    "              b_ub=constants_inequalities,\n",
    "              A_eq=coefficients_equalities,\n",
    "              b_eq=constants_equalities,\n",
    "              bounds=(bounds_x, bounds_y))\n",
    "print('Minimum value of y =', res.fun)\n",
    "\n",
    "# Find and print the maximal value of y = minimal value of -y\n",
    "coefficients_max_y = [0, -1]  # minimize 0*x + -1*y\n",
    "res = linprog(coefficients_max_y,\n",
    "              A_ub=coefficients_inequalities,\n",
    "              b_ub=constants_inequalities,\n",
    "              A_eq=coefficients_equalities,\n",
    "              b_eq=constants_equalities,\n",
    "              bounds=(bounds_x, bounds_y))\n",
    "print('Maximum value of y =', -res.fun)  # opposite of value of -y"
   ]
  },
  {
   "cell_type": "code",
   "execution_count": 9,
   "metadata": {},
   "outputs": [
    {
     "name": "stdout",
     "output_type": "stream",
     "text": [
      "Minimum value of y = 20.0\n",
      "Maximum value of y = 60.0\n"
     ]
    }
   ],
   "source": [
    "from scipy.optimize import linprog\n",
    "\n",
    "# Set up values relating to both minimum and maximum values of y\n",
    "coefficients_inequalities = [[-1, -1], [-2, -3]]  # require -1*x + -1*y <= -180\n",
    "constants_inequalities = [-180, -10]\n",
    "coefficients_equalities = [[3, 12]]  # require 3*x + 12*y = 1000\n",
    "constants_equalities = [1000]\n",
    "bounds_x = (30, 160)  # require 30 <= x <= 160\n",
    "bounds_y = (10, 60)  # require 10 <= y <= 60\n",
    "\n",
    "# Find and print the minimal value of y\n",
    "coefficients_min_y = [0, 1]  # minimize 0*x + 1*y\n",
    "res = linprog(coefficients_min_y,\n",
    "              A_ub=coefficients_inequalities,\n",
    "              b_ub=constants_inequalities,\n",
    "              bounds=(bounds_x, bounds_y))\n",
    "print('Minimum value of y =', res.fun)\n",
    "\n",
    "# Find and print the maximal value of y = minimal value of -y\n",
    "coefficients_max_y = [0, -1]  # minimize 0*x + -1*y\n",
    "res = linprog(coefficients_max_y,\n",
    "              A_ub=coefficients_inequalities,\n",
    "              b_ub=constants_inequalities,\n",
    "              bounds=(bounds_x, bounds_y))\n",
    "print('Maximum value of y =', -res.fun)  # opposite of value of -y"
   ]
  },
  {
   "cell_type": "code",
   "execution_count": null,
   "metadata": {
    "collapsed": true
   },
   "outputs": [],
   "source": []
  },
  {
   "cell_type": "code",
   "execution_count": null,
   "metadata": {
    "collapsed": true
   },
   "outputs": [],
   "source": []
  },
  {
   "cell_type": "code",
   "execution_count": null,
   "metadata": {
    "collapsed": true
   },
   "outputs": [],
   "source": [
    "def find_bounds(γ, i, j) :\n",
    "    I, J = np.shape(γ)\n",
    "    \n",
    "    \n",
    "    if i == 1 :\n",
    "        coefficients_inequalities = \n",
    "    \n",
    "    if i == I :\n",
    "        \n",
    "    else :"
   ]
  }
 ],
 "metadata": {
  "kernelspec": {
   "display_name": "Python 3",
   "language": "python",
   "name": "python3"
  },
  "language_info": {
   "codemirror_mode": {
    "name": "ipython",
    "version": 3
   },
   "file_extension": ".py",
   "mimetype": "text/x-python",
   "name": "python",
   "nbconvert_exporter": "python",
   "pygments_lexer": "ipython3",
   "version": "3.6.2"
  }
 },
 "nbformat": 4,
 "nbformat_minor": 2
}
