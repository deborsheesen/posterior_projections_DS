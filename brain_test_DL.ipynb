{
 "cells": [
  {
   "cell_type": "code",
   "execution_count": 11,
   "metadata": {
    "collapsed": true
   },
   "outputs": [],
   "source": [
    "import matplotlib.pyplot as plt, numpy as np, numpy.random as npr, pystan as ps, matplotlib.pyplot as plt\n",
    "from tqdm import trange\n",
    "import scipy\n",
    "%matplotlib inline\n",
    "from time import time\n",
    "from pylab import plot, show, legend"
   ]
  },
  {
   "cell_type": "code",
   "execution_count": 2,
   "metadata": {},
   "outputs": [
    {
     "name": "stderr",
     "output_type": "stream",
     "text": [
      "INFO:pystan:COMPILING THE C++ CODE FOR MODEL anon_model_d6b2d0b798f12e3033751722baf72ffd NOW.\n"
     ]
    }
   ],
   "source": [
    "sm = ps.StanModel(file=\"brain_DL.stan\")"
   ]
  },
  {
   "cell_type": "code",
   "execution_count": null,
   "metadata": {
    "collapsed": true
   },
   "outputs": [],
   "source": [
    "from numpy import loadtxt\n",
    "\n",
    "X = np.zeros((68,68,42))\n",
    "for i in range(42) :\n",
    "    name = \"brain_data/data_column\"+str(i+1)\n",
    "    X[:,:,i] = loadtxt(\"brain_data/data_column1\", comments=\"#\", delimiter=\" \", unpack=False)\n",
    "X = X.astype(int)"
   ]
  },
  {
   "cell_type": "code",
   "execution_count": 3,
   "metadata": {
    "collapsed": true
   },
   "outputs": [],
   "source": [
    "N = 21 \n",
    "m = 10\n",
    "p = 4\n",
    "X = npr.binomial(1,0.2,size=[N,m,m]);"
   ]
  },
  {
   "cell_type": "code",
   "execution_count": 25,
   "metadata": {
    "collapsed": true
   },
   "outputs": [],
   "source": [
    "np.save(\"synthetic_data.npy\", X)"
   ]
  },
  {
   "cell_type": "code",
   "execution_count": 4,
   "metadata": {
    "collapsed": true
   },
   "outputs": [],
   "source": [
    "data = dict(N=N, p=p, m=m, a=0.5, X=X);"
   ]
  },
  {
   "cell_type": "code",
   "execution_count": 5,
   "metadata": {
    "scrolled": true
   },
   "outputs": [
    {
     "name": "stderr",
     "output_type": "stream",
     "text": [
      "WARNING:pystan:Rhat above 1.1 or below 0.9 indicates that the chains very likely have not mixed\n",
      "WARNING:pystan:3000 of 3000 iterations saturated the maximum tree depth of 10 (100 %)\n",
      "WARNING:pystan:Run again with max_treedepth larger than 10 to avoid saturation\n"
     ]
    },
    {
     "name": "stdout",
     "output_type": "stream",
     "text": [
      "31.54 minutes to run\n",
      "Inference for Stan model: anon_model_d6b2d0b798f12e3033751722baf72ffd.\n",
      "6 chains, each with iter=1000; warmup=500; thin=1; \n",
      "post-warmup draws per chain=500, total post-warmup draws=3000.\n",
      "\n",
      "               mean se_mean     sd   2.5%    25%    50%    75%  97.5%  n_eff   Rhat\n",
      "Z[1,1]        -0.68    0.27    0.5  -1.73  -0.77  -0.64  -0.42   0.13      4   3.24\n",
      "Z[2,1]        -1.15    0.28    0.5  -1.75  -1.46  -1.33  -1.05  -0.02      3   5.77\n",
      "Z[3,1]        -1.82    0.44   0.79  -2.65   -2.4  -2.03  -1.75  -0.03      3    7.0\n",
      "Z[4,1]         -0.2    0.27   0.48  -1.06   -0.7  -0.05   0.17   0.47      3   4.63\n",
      "Z[5,1]        -1.24    0.36   0.63   -2.2  -1.71  -1.37  -0.92   0.08      3   6.79\n",
      "Z[6,1]        -0.68    0.34   0.61  -1.72  -1.14  -0.75  -0.04   0.25      3   4.13\n",
      "Z[7,1]        -0.08    0.17   0.33  -0.66  -0.37   -0.1   0.24   0.52      4   3.14\n",
      "Z[8,1]        -0.62    0.25   0.44  -1.13   -1.0  -0.76  -0.14    0.2      3   5.93\n",
      "Z[9,1]        -1.46    0.55   0.98  -3.02  -2.39  -1.58  -0.67   0.12      3   6.86\n",
      "Z[10,1]       -1.43     0.4    0.7  -2.14  -1.96  -1.79  -0.85  -0.04      3   7.18\n",
      "Z[1,2]        -1.89    0.61   1.13  -3.67  -2.82  -1.96  -1.08   0.07      3   4.42\n",
      "Z[2,2]        -2.05    0.52   0.93  -3.31  -2.57   -2.3  -2.02   0.24      3   6.98\n",
      "Z[3,2]        -0.46    0.25   0.47  -1.41  -0.83  -0.41  -0.23   0.38      4   3.77\n",
      "Z[4,2]        -0.95    0.33    0.6  -2.02   -1.3  -0.99  -0.71   0.22      3   5.53\n",
      "Z[5,2]         -0.9     0.4   0.71  -2.13  -1.46   -0.8   -0.6   0.31      3   6.79\n",
      "Z[6,2]        -0.49     0.2   0.38  -1.01  -0.73  -0.54  -0.35   0.45      3   4.52\n",
      "Z[7,2]        -1.47    0.42   0.73  -2.49  -1.97  -1.61  -1.31   0.08      3   8.01\n",
      "Z[8,2]        -0.82    0.27   0.48  -1.45  -1.23  -0.89  -0.54   0.26      3   4.08\n",
      "Z[9,2]        -0.86    0.29   0.53  -1.71  -1.31   -0.8  -0.53   0.11      3    5.8\n",
      "Z[10,2]       -1.15    0.36   0.64   -2.1   -1.7  -1.15  -0.92   0.15      3   6.09\n",
      "Z[1,3]         -1.1    0.35   0.63  -2.09  -1.42  -1.16   -1.0   0.27      3   5.17\n",
      "Z[2,3]        -0.26    0.19   0.35  -0.93  -0.52  -0.29   0.05   0.26      4   4.47\n",
      "Z[3,3]        -2.35    0.56   1.02  -3.78  -3.03  -2.65  -2.04   -0.1      3   5.57\n",
      "Z[4,3]        -0.59    0.24   0.45  -1.25  -0.89  -0.68  -0.33   0.33      3   3.62\n",
      "Z[5,3]        -1.31    0.32   0.58  -1.93  -1.65  -1.51  -1.31   0.11      3   5.44\n",
      "Z[6,3]        -1.21    0.41   0.73  -2.32  -1.75  -1.32  -0.73   0.23      3   6.22\n",
      "Z[7,3]        -0.91    0.27   0.53  -1.89  -1.28  -0.89  -0.61    0.1      4   4.51\n",
      "Z[8,3]         -0.6    0.27   0.49  -1.25  -1.11  -0.63  -0.18   0.27      3   5.89\n",
      "Z[9,3]        -1.32    0.43   0.75  -2.53  -1.69  -1.46  -0.82   0.13      3   6.74\n",
      "Z[10,3]       -1.01    0.34    0.6   -1.8  -1.46  -1.11   -0.8   0.23      3    5.4\n",
      "Z[1,4]         -0.5    0.22   0.41  -1.19  -0.86  -0.59  -0.09   0.12      3   4.18\n",
      "Z[2,4]        -0.39    0.13   0.31  -1.06  -0.58  -0.42  -0.17   0.28      6   2.45\n",
      "Z[3,4]         -2.3    0.58   1.07  -3.55  -3.01  -2.69  -1.96-2.4e-3      3   5.81\n",
      "Z[4,4]        -2.03    0.64   1.13  -3.97  -3.02  -2.09  -1.29   0.05      3   8.69\n",
      "Z[5,4]        -1.39    0.34   0.62  -2.09   -1.8  -1.65  -1.21   0.04      3   4.22\n",
      "Z[6,4]        -1.12    0.43   0.75  -2.19  -1.62  -1.31  -0.54    0.3      3   7.92\n",
      "Z[7,4]        -1.08     0.3   0.54  -1.82  -1.37  -1.21  -1.13   0.19      3   5.15\n",
      "Z[8,4]        -1.18    0.41   0.74  -2.19  -1.85  -1.39  -0.33    0.2      3   5.36\n",
      "Z[9,4]        -0.63     0.3   0.56  -1.79  -1.05  -0.57  -0.16    0.2      3   5.05\n",
      "Z[10,4]        -0.5    0.13   0.25  -0.97  -0.65  -0.55  -0.35   0.01      4   3.49\n",
      "Z[1,5]        -1.48    0.46   0.81  -2.53  -1.93  -1.77  -1.17   0.24      3  10.66\n",
      "Z[2,5]        -1.16    0.37   0.65   -2.3  -1.77  -1.14  -0.76  -0.03      3   6.35\n",
      "Z[3,5]        -0.74    0.27   0.47  -1.33  -1.16  -0.85  -0.29   0.14      3   5.34\n",
      "Z[4,5]         -1.5    0.52   0.92  -3.18  -1.98  -1.37  -1.06   0.11      3   7.64\n",
      "Z[5,5]        -2.04     0.8   1.39  -3.95  -3.61  -1.92  -0.75   0.08      3   9.39\n",
      "Z[6,5]        -2.35    0.66   1.15  -3.68  -3.28  -2.52  -2.06   0.06      3  11.04\n",
      "Z[7,5]        -1.57    0.41   0.72  -2.56  -2.15  -1.74  -1.19  -0.09      3   6.83\n",
      "Z[8,5]        -1.69    0.46   0.81  -2.85  -2.17  -1.94  -1.23  -0.09      3   7.01\n",
      "Z[9,5]        -1.11    0.45   0.79  -2.21  -1.91  -1.19  -0.41   0.19      3   9.18\n",
      "Z[10,5]       -1.05    0.32   0.57  -1.89  -1.45  -1.11  -0.71   0.11      3   4.98\n",
      "Z[1,6]        -0.95     0.3   0.55  -1.74  -1.41  -1.05  -0.63   0.25      3    4.8\n",
      "Z[2,6]        -1.05    0.35   0.63  -1.94  -1.56  -1.29  -0.35   0.04      3   6.88\n",
      "Z[3,6]        -2.18    0.65   1.15  -3.69  -3.21   -2.5  -1.02  -0.15      3   6.31\n",
      "Z[4,6]        -0.66    0.24   0.43  -1.26  -0.97   -0.7  -0.55   0.32      3   3.78\n",
      "Z[5,6]         -1.1    0.41   0.73  -2.39  -1.83  -1.04  -0.54   0.24      3   6.01\n",
      "Z[6,6]        -0.96    0.28   0.55   -1.9  -1.37  -0.99  -0.69   0.14      4   3.09\n",
      "Z[7,6]        -1.48    0.35   0.62  -2.04  -1.92  -1.73  -1.37 2.8e-3      3   6.66\n",
      "Z[8,6]        -1.31    0.34   0.61   -1.9  -1.66  -1.53  -1.37   0.14      3   5.91\n",
      "Z[9,6]         -1.2    0.34   0.63  -1.87  -1.65  -1.48  -0.93   0.21      3   4.26\n",
      "Z[10,6]        -2.0    0.49   0.89  -2.91   -2.6  -2.36  -1.61  -0.06      3   5.26\n",
      "Z[1,7]        -1.67    0.48   0.85  -2.66  -2.39  -1.98  -1.16    0.1      3   6.56\n",
      "Z[2,7]        -0.81    0.29   0.52  -1.67  -1.19  -0.77  -0.58   0.21      3   4.67\n",
      "Z[3,7]        -1.16    0.47   0.82  -2.54  -1.93  -0.88  -0.77   0.14      3    8.0\n",
      "Z[4,7]        -1.99    0.63   1.13  -4.18   -2.9  -1.86  -1.35  -0.06      3   6.37\n",
      "Z[5,7]        -0.53    0.18   0.34  -0.92  -0.79  -0.57  -0.49   0.35      4   3.51\n",
      "Z[6,7]        -1.57    0.41   0.75   -2.5  -2.19  -1.78  -1.13-8.2e-3      3   5.21\n",
      "Z[7,7]        -1.03    0.34   0.62  -2.14  -1.37  -1.22  -0.66   0.21      3   4.98\n",
      "Z[8,7]        -1.47    0.41   0.72  -2.37  -2.16  -1.61  -1.07  -0.01      3   6.95\n",
      "Z[9,7]        -1.03    0.28    0.5  -1.64  -1.44  -1.18  -0.77   0.07      3   5.01\n",
      "Z[10,7]       -0.74    0.28   0.49  -1.43  -1.05  -0.91  -0.47   0.25      3    6.3\n",
      "Z[1,8]        -0.61     0.2   0.38  -1.12  -0.89  -0.72  -0.42   0.18      3   3.96\n",
      "Z[2,8]        -0.85    0.27   0.48  -1.48  -1.19  -0.99  -0.63   0.27      3   5.34\n",
      "Z[3,8]        -1.43    0.44   0.77  -2.74  -1.83  -1.39  -1.15-6.5e-3      3   8.83\n",
      "Z[4,8]        -0.84    0.24   0.46  -1.66  -1.13  -0.95  -0.59   0.07      3   4.97\n",
      "Z[5,8]        -0.66    0.21   0.42  -1.24  -0.94  -0.83  -0.36    0.3      4   2.72\n",
      "Z[6,8]        -1.41    0.53   0.92   -3.2  -1.89  -1.39  -0.93   0.13      3   7.64\n",
      "Z[7,8]        -1.23     0.4    0.7  -2.43  -1.64  -1.24   -1.0   0.13      3   7.84\n",
      "Z[8,8]        -0.41    0.25   0.47  -1.38  -0.68  -0.25  -0.05   0.28      3   3.83\n",
      "Z[9,8]        -1.27    0.37   0.67  -2.06  -1.86  -1.35   -0.9   0.12      3   4.52\n",
      "Z[10,8]        -1.5    0.49   0.88  -2.74  -2.19  -1.82  -0.92   0.31      3    5.8\n",
      "Z[1,9]        -1.02    0.36   0.64  -2.26  -1.41   -1.1  -0.62   0.16      3   5.66\n",
      "Z[2,9]        -1.71    0.53   0.94  -3.15  -2.29  -2.01  -1.35   0.26      3   5.67\n",
      "Z[3,9]        -0.67    0.26   0.48  -1.41  -1.12  -0.74  -0.21   0.15      3   3.83\n",
      "Z[4,9]         -1.1    0.41   0.73  -2.19   -1.8  -0.95  -0.69   0.15      3   6.75\n",
      "Z[5,9]        -0.32    0.31   0.56  -1.36  -0.73  -0.39   0.08    0.7      3   4.58\n",
      "Z[6,9]        -1.15    0.31   0.64  -2.29  -1.53  -1.32  -0.67   0.06      4    3.3\n",
      "Z[7,9]        -1.81    0.55    1.0  -3.36  -2.53   -1.8  -1.24   0.04      3   3.98\n",
      "Z[8,9]        -1.18    0.32   0.57  -1.86  -1.64  -1.29  -1.07   0.07      3   5.07\n",
      "Z[9,9]        -0.38    0.24   0.46  -0.92  -0.77   -0.6    0.1   0.43      4    3.0\n",
      "Z[10,9]        -1.4    0.56   0.98  -3.26  -1.99  -1.35  -0.68    0.1      3    7.9\n",
      "Z[1,10]       -1.07    0.34   0.61  -1.95  -1.48  -1.09  -0.87   0.22      3   4.01\n",
      "Z[2,10]       -1.19    0.39   0.68  -2.12   -1.7  -1.44  -0.53   0.03      3   7.79\n",
      "Z[3,10]       -0.52    0.25   0.44  -1.23   -0.8  -0.57  -0.21   0.27      3   6.61\n",
      "Z[4,10]       -0.83    0.22   0.41  -1.31  -1.11  -0.98  -0.71   0.14      4   3.67\n",
      "Z[5,10]        -0.4    0.15   0.33  -1.09  -0.65  -0.32  -0.15   0.14      5   2.15\n",
      "Z[6,10]       -1.13    0.34    0.6  -1.89   -1.6  -1.32  -0.86   0.16      3   4.92\n",
      "Z[7,10]        -0.9    0.35   0.62   -1.8  -1.46  -0.95  -0.51   0.28      3   5.22\n",
      "Z[8,10]       -1.19     0.4   0.71  -2.02  -1.71  -1.43  -0.71   0.34      3   6.37\n",
      "Z[9,10]        -1.2     0.4   0.72  -2.02  -1.81  -1.41  -0.64   0.28      3   4.31\n",
      "Z[10,10]      -1.86    0.52   0.92  -2.83  -2.46  -2.07  -1.89   0.27      3    7.3\n",
      "u[1,1]         0.36    0.46   0.81  -0.71  -0.21  -0.07   1.38   1.71      3   9.13\n",
      "u[2,1]        -0.01    0.03   0.17  -0.38  -0.11-3.4e-3    0.1   0.34     25   1.26\n",
      "u[3,1]        -0.27    0.31   0.55  -1.61  -0.39   0.01   0.07   0.15      3   5.05\n",
      "u[4,1]        -0.13    0.45   0.79   -1.7  -0.32  -0.05   0.04   1.37      3   5.89\n",
      "u[5,1]        -0.11    0.09   0.25  -0.65  -0.33  -0.04   0.03   0.32      9   2.91\n",
      "u[6,1]        -0.16    0.13   0.25  -0.65  -0.43  -0.13   0.03    0.2      4   4.32\n",
      "u[7,1]         0.11    0.09   0.22  -0.19  -0.01 1.5e-5   0.26   0.68      6   2.54\n",
      "u[8,1]         0.23    0.45   0.78  -0.42  -0.26-3.7e-4   0.08   1.99      3   7.38\n",
      "u[9,1]         0.13    0.12   0.21  -0.04-4.2e-3 1.5e-3   0.21    0.6      3   6.48\n",
      "u[10,1]        0.16    0.23   0.42  -0.25  -0.05-6.0e-3   0.25   1.23      3   4.07\n",
      "u[1,2]         0.11    0.11   0.21  -0.14-2.9e-4   0.05   0.12   0.61      3   3.36\n",
      "u[2,2]         0.01    0.04    0.1  -0.16  -0.03   0.03   0.04   0.27      9   1.95\n",
      "u[3,2]        -0.19    0.14   0.25   -0.6  -0.51  -0.05  -0.02   0.09      3   6.08\n",
      "u[4,2]        -0.04    0.03   0.09  -0.28  -0.09-2.0e-3 5.5e-3   0.09      7   1.66\n",
      "u[5,2]        -0.04    0.03   0.07  -0.19  -0.08-8.4e-4 3.9e-4   0.05      5   2.21\n",
      "u[6,2]         0.07    0.07   0.13  -0.08-2.0e-3   0.01   0.08   0.39      3    6.0\n",
      "u[7,2]        -0.22    0.27   0.47  -0.98   -0.5  -0.23 4.5e-3   0.69      3   7.33\n",
      "u[8,2]         0.13    0.13   0.25  -0.21-7.0e-3 9.8e-3   0.15    0.7      3   3.84\n",
      "u[9,2]         0.76    0.95   1.75  -0.53  -0.01   0.02   0.35   5.99      3   4.17\n",
      "u[10,2]        0.13    0.14    0.3  -0.41  -0.04 5.0e-3   0.38   0.66      4   2.02\n",
      "u[1,3]         0.12    0.42   0.74  -1.09  -0.11   0.11    0.3   1.66      3   7.07\n",
      "u[2,3]        -0.02    0.31   0.55  -1.21  -0.16   0.14   0.36   0.64      3   10.7\n",
      "u[3,3]        -0.29    0.22   0.39  -1.17  -0.38  -0.12  -0.02   0.06      3    7.9\n",
      "u[4,3]        -0.16    0.26   0.47  -1.21  -0.21   0.01   0.13   0.46      3   4.67\n",
      "u[5,3]        -0.35    0.36   0.63  -1.33  -0.98  -0.13    0.1   0.59      3  11.24\n",
      "u[6,3]        -0.11    0.32   0.56  -1.41  -0.08-1.1e-3   0.14   0.63      3  10.39\n",
      "u[7,3]         0.13    0.52    0.9  -1.31  -0.05   0.04    0.1   1.96      3  23.48\n",
      "u[8,3]        -0.02    0.32   0.56  -1.16  -0.04 5.8e-3   0.12   1.05      3   7.27\n",
      "u[9,3]         -0.2     0.6   1.05   -1.7  -1.11  -0.18   0.03   1.92      3  15.16\n",
      "u[10,3]       -0.17    0.44   0.76  -1.42  -1.03-7.8e-4   0.48   0.94      3  12.46\n",
      "u[1,4]        -0.17    0.24   0.49  -0.89  -0.69-9.6e-3   0.29   0.78      4   2.93\n",
      "u[2,4]        -0.27    0.16   0.33   -1.1  -0.36  -0.22 3.5e-3   0.09      4   2.91\n",
      "u[3,4]         0.09    0.24   0.45  -0.89  -0.02   0.01   0.28   1.09      3   4.59\n",
      "u[4,4]       2.3e-3    0.03   0.11  -0.19  -0.07 6.7e-5   0.07   0.32     12   1.65\n",
      "u[5,4]        -0.23    0.16   0.28  -0.78  -0.47  -0.12   0.03   0.06      3   8.98\n",
      "u[6,4]       8.6e-3    0.04    0.1  -0.21  -0.04 6.7e-3   0.07   0.17      7   1.95\n",
      "u[7,4]        -0.08    0.26   0.46  -1.24  -0.02 5.0e-4   0.05   0.54      3   6.96\n",
      "u[8,4]        -0.17     0.2   0.37  -1.18  -0.07-5.6e-3 7.8e-4   0.08      3   5.55\n",
      "u[9,4]        -0.63    0.68   1.18   -3.4  -0.92-6.5e-3   0.07   0.21      3  11.86\n",
      "u[10,4]       -0.25     0.4   0.71  -1.52  -1.01  -0.08   0.41   0.67      3   7.29\n",
      "Lambda[1,1]    0.13     0.2   0.47  -0.28  -0.09 9.4e-3   0.12   1.67      5   2.66\n",
      "Lambda[2,1]    0.28    0.29   0.55   -0.3  -0.08   0.05   0.74    1.8      4    2.9\n",
      "Lambda[3,1]    0.03    0.13   0.38  -0.56  -0.16  -0.03   0.32   0.87      9   1.61\n",
      "Lambda[4,1]   -0.04    0.21   0.57  -1.27  -0.47  -0.07    0.5   0.88      7   2.47\n",
      "Lambda[5,1]    0.05     0.1   0.28  -0.35  -0.11-6.9e-3   0.13   1.02      8   2.12\n",
      "Lambda[6,1]    0.07    0.34   0.64  -0.77  -0.35  -0.04   0.25   1.64      4   3.62\n",
      "Lambda[7,1]    0.18    0.15   0.34  -0.38  -0.11   0.17   0.39   1.03      5   2.03\n",
      "Lambda[8,1]   -0.06    0.25    0.5  -1.19  -0.39   0.06   0.22   0.88      4   2.64\n",
      "Lambda[9,1]   -0.05    0.26   0.48  -0.72  -0.51  -0.13    0.4   0.67      4   3.19\n",
      "Lambda[10,1]   0.06    0.11   0.32  -0.75  -0.08   0.07   0.27    0.6      9   1.59\n",
      "Lambda[11,1] 9.4e-3    0.22   0.47  -0.81  -0.34   0.08   0.24   1.15      5   2.33\n",
      "Lambda[12,1]   -0.3    0.21   0.43  -1.27  -0.43  -0.32   0.05   0.37      4   2.35\n",
      "Lambda[13,1]   0.04    0.16   0.45  -0.66  -0.29 6.0e-3   0.43   0.95      7   2.42\n",
      "Lambda[14,1]   0.06    0.13   0.28  -0.55  -0.17   0.11   0.28   0.49      5   2.04\n",
      "Lambda[15,1]  -0.05    0.11   0.28  -0.56  -0.23  -0.04   0.08    0.5      7   1.92\n",
      "Lambda[16,1]   0.05    0.11   0.38  -0.54  -0.14 4.6e-3   0.28    1.0     11   2.45\n",
      "Lambda[17,1]  -0.15    0.18   0.38  -0.67  -0.43  -0.36   0.19    0.5      5   3.06\n",
      "Lambda[18,1]   0.11    0.11   0.36  -0.81  -0.09   0.06   0.26   0.92     10   1.57\n",
      "Lambda[19,1]   0.05    0.34   0.65  -0.98  -0.18  -0.06   0.35   1.71      4    2.9\n",
      "Lambda[20,1]  -0.01    0.26   0.47  -0.89  -0.32  -0.08   0.35   0.79      3   5.16\n",
      "Lambda[21,1]   0.06     0.2   0.38  -0.57  -0.26   0.09   0.41   0.66      4   2.81\n",
      "Lambda[1,2]    0.02    0.54   0.95  -1.17   -0.9  -0.16   0.49   2.03      3   7.31\n",
      "Lambda[2,2]   -0.47    0.53   0.94  -2.62  -0.73  -0.51   0.13   0.95      3   5.09\n",
      "Lambda[3,2]   -0.03    0.22   0.43  -1.22  -0.16   0.04    0.2   0.61      4   3.81\n",
      "Lambda[4,2]   -0.32    0.22   0.43  -1.44  -0.54  -0.17 4.4e-3   0.22      4   2.72\n",
      "Lambda[5,2]   -0.27    0.27   0.49  -1.36  -0.54   -0.1    0.1   0.35      3   4.64\n",
      "Lambda[6,2]     0.7    0.99   1.74  -0.62  -0.19   0.05   0.39   5.09      3   8.17\n",
      "Lambda[7,2]    0.04    0.51   0.92  -1.37  -0.46  -0.12   0.65   2.17      3   7.03\n",
      "Lambda[8,2]    0.15    0.31   0.58  -0.41  -0.28  -0.14   0.56   1.71      4   3.33\n",
      "Lambda[9,2]   -0.04    0.25   0.62   -1.3  -0.42  -0.12   0.39   1.23      6   3.41\n",
      "Lambda[10,2]  -0.48    0.42   0.77  -2.47  -0.74  -0.18 2.9e-3   0.33      3    4.7\n",
      "Lambda[11,2]  -0.24    0.13   0.37  -0.99  -0.47  -0.25 8.1e-3   0.46      9   2.61\n",
      "Lambda[12,2]  -0.08     0.5   0.89  -1.13   -0.6  -0.32   0.07   2.05      3   6.04\n",
      "Lambda[13,2]  -0.33    0.24   0.54  -1.93  -0.38  -0.24  -0.11   0.43      5   3.89\n",
      "Lambda[14,2]  -0.47    0.92   1.62  -4.54  -0.21   0.09   0.54   0.73      3   8.85\n",
      "Lambda[15,2]   0.17    0.32   0.56  -0.79  -0.28   0.23    0.7   1.01      3   6.81\n",
      "Lambda[16,2]   0.23    0.26   0.47  -0.57   -0.2   0.23   0.71   0.99      3   4.09\n",
      "Lambda[17,2]  -0.14    0.32   0.58  -0.98  -0.71  -0.11   0.37   0.89      3   4.91\n",
      "Lambda[18,2]   0.18    0.47   0.83  -0.77  -0.54   0.05   0.72   1.88      3   7.02\n",
      "Lambda[19,2]-4.8e-3    0.42   0.77  -1.94   -0.3   0.13   0.42   1.14      3   3.49\n",
      "Lambda[20,2]   0.11    0.38   0.68  -1.35   -0.1   0.29   0.63   0.95      3   5.62\n",
      "Lambda[21,2]   0.06    0.31   0.58  -0.96  -0.47    0.1   0.54   1.15      3   4.57\n",
      "Lambda[1,3]   -0.33     0.3   0.55  -1.21   -0.8  -0.28   0.13   0.61      3    4.1\n",
      "Lambda[2,3]   -0.24    0.18   0.33  -0.97  -0.48  -0.14  -0.03   0.26      3   3.99\n",
      "Lambda[3,3]    -0.2    0.23   0.43  -1.13  -0.39  -0.12   0.02   0.45      3   3.13\n",
      "Lambda[4,3]    -0.4    0.19   0.35  -0.99  -0.74  -0.31  -0.08   0.19      3   4.03\n",
      "Lambda[5,3]   -0.17    0.27   0.47  -1.34  -0.32  -0.03   0.13    0.4      3   5.07\n",
      "Lambda[6,3]    0.04    0.41   0.73  -1.45  -0.38   0.17   0.66   1.07      3   5.89\n",
      "Lambda[7,3]   -0.19    0.23   0.43  -1.14  -0.34  -0.24   0.18   0.54      3   5.39\n",
      "Lambda[8,3]   -0.45    0.26   0.47  -1.59  -0.81  -0.21   -0.1   0.02      3   4.48\n",
      "Lambda[9,3]    0.12    0.29   0.51  -1.05-2.9e-4   0.17   0.56    0.7      3   6.23\n",
      "Lambda[10,3]  -0.14    0.32   0.57  -1.22   -0.5  -0.09   0.32   0.62      3   6.12\n",
      "Lambda[11,3]  -0.18    0.23   0.42  -1.22  -0.18  -0.04   0.07   0.28      3   4.94\n",
      "Lambda[12,3]  -0.12    0.31   0.54   -1.4  -0.27    0.1   0.27   0.45      3   6.47\n",
      "Lambda[13,3]  -0.09    0.22   0.41  -0.92  -0.41-9.6e-3   0.09   0.67      3   4.17\n",
      "Lambda[14,3] 6.0e-4    0.24   0.44  -1.01  -0.24  -0.01   0.29   0.71      3   3.41\n",
      "Lambda[15,3]  -0.17     0.3   0.53  -1.31  -0.32  -0.09   0.21   0.53      3   7.21\n",
      "Lambda[16,3]  -0.53    0.22   0.41  -1.42  -0.83  -0.39   -0.3   0.17      3   3.76\n",
      "Lambda[17,3]  -0.37    0.32   0.56  -1.29   -1.0  -0.15  -0.01   0.43      3   6.82\n",
      "Lambda[18,3]   0.02    0.34   0.63  -1.16  -0.53   0.14   0.35   1.04      3   5.49\n",
      "Lambda[19,3]   0.04    0.42   0.74  -1.71  -0.13    0.2   0.57   0.97      3   8.03\n",
      "Lambda[20,3]   0.16     0.4   0.71   -1.5   0.11   0.26   0.61   1.23      3   6.91\n",
      "Lambda[21,3]  -0.15    0.29   0.51  -1.32  -0.41    0.1   0.19   0.37      3   4.62\n",
      "Lambda[1,4]   -0.45    0.58   1.05  -3.08  -0.47  -0.13   0.21   0.66      3   4.89\n",
      "Lambda[2,4]    0.02    0.35   0.64  -0.57  -0.45  -0.19   0.08   1.75      3   3.35\n",
      "Lambda[3,4]   -0.29    0.15   0.33  -0.94  -0.51  -0.29  -0.04    0.3      5    1.9\n",
      "Lambda[4,4]    -0.2    0.14   0.34   -1.0  -0.44  -0.22    0.1   0.32      6    1.8\n",
      "Lambda[5,4]   -1.74    2.01   3.49   -9.7  -0.82  -0.27   0.09   0.54      3   22.1\n",
      "Lambda[6,4]    0.21    0.61   1.09  -0.67  -0.46  -0.21   0.13   3.09      3   6.14\n",
      "Lambda[7,4]   -0.41    0.16   0.37  -0.87  -0.73  -0.45  -0.15   0.43      5   2.06\n",
      "Lambda[8,4]   -0.02    0.22   0.43  -0.78  -0.37  -0.11   0.39   0.81      4   2.77\n",
      "Lambda[9,4]   -0.28     1.0   1.75  -4.37    0.1   0.38   0.46   1.68      3   6.86\n",
      "Lambda[10,4]   0.09    0.47    0.9  -1.03  -0.57  -0.03   0.28   2.19      4   4.24\n",
      "Lambda[11,4]  -0.55     0.7   1.22  -3.13  -0.96  -0.09   0.22   0.96      3   6.91\n",
      "Lambda[12,4] 6.0e-3    0.44   0.95  -1.47  -0.36  -0.22   0.38   2.61      5   3.24\n",
      "Lambda[13,4]  -0.37    0.27   0.55  -1.48  -0.89  -0.15-4.3e-3   0.47      4   2.52\n",
      "Lambda[14,4]    0.2    0.59   1.05  -1.69  -0.59   0.26   0.69   2.11      3   6.39\n",
      "Lambda[15,4]  -0.85     1.1   1.94  -5.44  -0.54  -0.11   0.15    1.0      3   9.32\n",
      "Lambda[16,4]   0.07    0.26   0.49  -0.51  -0.29  -0.05   0.23   1.17      4   2.99\n",
      "Lambda[17,4]   -0.9    0.85    1.5  -4.85   -0.5  -0.28  -0.13   0.19      3    7.5\n",
      "Lambda[18,4]   -0.1    0.33    0.7  -2.14  -0.25   0.04   0.17   1.25      4   2.84\n",
      "Lambda[19,4]  -0.47    0.38   0.75  -2.32   -0.7  -0.19   0.01   0.46      4   3.57\n",
      "Lambda[20,4]  -0.29    0.22   0.43  -1.27  -0.53  -0.13  -0.03   0.43      4    2.4\n",
      "Lambda[21,4]   0.28    0.67    1.2   -1.1  -0.35  -0.02   0.24   3.37      3   6.11\n",
      "sigma_Z2        1.4    0.31   0.55   0.17   1.49    1.6   1.71   1.83      3  17.28\n",
      "sigma2[1]      0.45    0.11   0.21   0.23   0.29   0.39   0.54   0.99      3   3.94\n",
      "sigma2[2]      0.71    0.29   0.51   0.33   0.41   0.54   0.66   2.12      3   6.63\n",
      "sigma2[3]      0.56    0.19   0.35   0.17   0.36   0.48   0.58   1.39      3   5.41\n",
      "sigma2[4]      0.91    0.54   0.95   0.31   0.35   0.44   0.94   3.03      3  22.14\n",
      "tau[1]         5.44    0.84    1.9   2.54   3.82   5.05   7.28   8.85      5   2.71\n",
      "tau[2]         4.62    0.48   1.12   2.76   3.78   4.28   5.69    6.5      5   1.93\n",
      "tau[3]          9.3    1.65   3.39   5.77   7.23   8.17  10.38  19.49      4    2.9\n",
      "tau[4]         5.49    0.95   1.88    1.9   4.57   5.88   6.54   8.59      4   2.46\n",
      "phi[1,1]       0.12    0.07   0.13 3.1e-3   0.04   0.08   0.16   0.43      4   2.84\n",
      "phi[2,1]       0.13    0.08   0.15 3.9e-5   0.03   0.08   0.15   0.61      4   2.82\n",
      "phi[3,1]       0.12    0.06   0.12 3.3e-3   0.03   0.04   0.24   0.34      3   3.76\n",
      "phi[4,1]       0.11    0.04   0.09 4.8e-3   0.03   0.12   0.17   0.29      6   2.35\n",
      "phi[1,2]       0.12    0.06   0.13 3.2e-4   0.03   0.06   0.19   0.44      4   2.04\n",
      "phi[2,2]       0.05    0.03   0.07 1.5e-3 5.0e-3   0.01   0.06   0.22      6   2.32\n",
      "phi[3,2]        0.1    0.01   0.05   0.03   0.05    0.1   0.12   0.24     18   1.48\n",
      "phi[4,2]       0.15    0.08   0.15   0.02   0.05   0.09    0.2   0.49      3    3.2\n",
      "phi[1,3]       0.12    0.07   0.12 6.3e-3   0.02   0.08   0.16   0.43      3   3.82\n",
      "phi[2,3]       0.16    0.09   0.16 9.7e-3   0.02   0.11   0.21   0.56      3   3.84\n",
      "phi[3,3]       0.09    0.04    0.1 3.8e-3 9.1e-3   0.06   0.16   0.39      8   3.02\n",
      "phi[4,3]       0.06    0.03   0.08 3.2e-3 9.7e-3   0.04   0.08    0.3      5   1.83\n",
      "phi[1,4]       0.13    0.05   0.11 6.0e-3   0.02   0.13   0.21   0.36      4   2.27\n",
      "phi[2,4]       0.06    0.04   0.08 1.1e-4 2.2e-3   0.02    0.1   0.27      4   3.42\n",
      "phi[3,4]       0.11    0.03   0.07 2.6e-3   0.08    0.1   0.14   0.26      6   2.05\n",
      "phi[4,4]       0.06    0.05    0.1 2.6e-4   0.01   0.02   0.06   0.32      4   2.82\n",
      "phi[1,5]       0.11    0.06   0.12 1.6e-4   0.03   0.05    0.2   0.44      4    3.9\n",
      "phi[2,5]       0.03    0.02   0.05 8.4e-7 3.6e-4 2.0e-3   0.03   0.17      5   2.35\n",
      "phi[3,5]       0.13    0.09   0.16 8.3e-3   0.03   0.06   0.18   0.52      3   5.61\n",
      "phi[4,5]       0.05    0.03   0.0710.0e-6 1.7e-3   0.02   0.07   0.28      5   2.02\n",
      "phi[1,6]        0.1    0.03   0.07 3.1e-3   0.05   0.09   0.13   0.31      9   3.12\n",
      "phi[2,6]       0.14    0.12   0.21 2.2e-5   0.01   0.05   0.11   0.62      3   10.6\n",
      "phi[3,6]       0.09    0.06   0.11 2.1e-5 6.4e-3   0.04   0.15   0.33      3   6.15\n",
      "phi[4,6]       0.04    0.01   0.03 4.7e-3   0.01   0.03   0.05   0.12      5   1.85\n",
      "phi[1,7]       0.07    0.06   0.12 3.7e-6 4.6e-4   0.01   0.09   0.44      4   2.78\n",
      "phi[2,7]       0.12    0.04    0.1 1.6e-3   0.03    0.1   0.19   0.35      6   1.77\n",
      "phi[3,7]       0.15    0.14   0.24 7.2e-3   0.02   0.04   0.13   0.76      3   7.25\n",
      "phi[4,7]       0.17    0.12   0.21 7.1e-5 4.7e-3    0.1   0.17   0.66      3   7.12\n",
      "phi[1,8]       0.08    0.03   0.07 1.3e-4   0.02   0.06   0.12   0.24      5   2.19\n",
      "phi[2,8]       0.05    0.02   0.05 6.5e-4 3.0e-3   0.06   0.08   0.15      5    1.9\n",
      "phi[3,8]       0.08    0.04   0.07 2.1e-3 6.2e-3   0.04   0.15    0.2      4   3.09\n",
      "phi[4,8]       0.04    0.04   0.07 1.3e-4 9.3e-4 3.7e-3   0.03   0.25      3    5.3\n",
      "phi[1,9]       0.03    0.02   0.04 2.2e-5 1.9e-3 8.1e-3   0.04   0.12      3   3.16\n",
      "phi[2,9]       0.17     0.1   0.21 8.2e-5 4.9e-3    0.1   0.29   0.81      4    4.7\n",
      "phi[3,9]       0.06    0.03   0.06 3.5e-3   0.01   0.03   0.11   0.21      4   2.58\n",
      "phi[4,9]       0.16    0.12   0.22 1.8e-3   0.03   0.08   0.12   0.73      3   4.99\n",
      "phi[1,10]      0.11    0.07   0.12 6.4e-3   0.02   0.05   0.23   0.37      3   4.63\n",
      "phi[2,10]      0.09    0.04   0.08   0.01   0.03   0.06   0.13    0.3      6   1.81\n",
      "phi[3,10]      0.07    0.03   0.06 5.9e-5 8.2e-3   0.07   0.11   0.18      3   3.65\n",
      "phi[4,10]      0.16    0.07   0.13 2.7e-4   0.06    0.1   0.26    0.4      3   3.34\n",
      "lp__          -1100   39.62  69.33  -1152  -1141  -1127  -1110 -933.1      3  11.38\n",
      "\n",
      "Samples were drawn using NUTS at Tue Jan 21 14:51:15 2020.\n",
      "For each parameter, n_eff is a crude measure of effective sample size,\n",
      "and Rhat is the potential scale reduction factor on split chains (at \n",
      "convergence, Rhat=1).\n"
     ]
    }
   ],
   "source": [
    "control = dict(max_treedepth=12)\n",
    "start = time()\n",
    "fit = sm.sampling(data=data, thin=1, n_jobs=6, chains=6, iter=1_000, init=\"random\")\n",
    "print(round((time()-start)/60,2), \"minutes to run\")\n",
    "print(fit)\n",
    "trace = fit.extract()"
   ]
  },
  {
   "cell_type": "code",
   "execution_count": 27,
   "metadata": {
    "collapsed": true
   },
   "outputs": [],
   "source": [
    "n_samples = np.shape(trace['u'])[0]"
   ]
  },
  {
   "cell_type": "code",
   "execution_count": 6,
   "metadata": {},
   "outputs": [
    {
     "data": {
      "image/png": "[encoded data removed]",
      "text/plain": [
       "<Figure size 432x288 with 1 Axes>"
      ]
     },
     "metadata": {},
     "output_type": "display_data"
    }
   ],
   "source": [
    "i, j = 1, 3\n",
    "n = 20\n",
    "\n",
    "π = trace['Z'][:,i,j] + \\\n",
    "         [trace['u'][idx,i].dot(np.diag(trace['Lambda'][idx,n])).dot(trace['u'][idx,j]) \n",
    "          for idx in range(n_samples)]\n",
    "plt.plot(π);"
   ]
  },
  {
   "cell_type": "code",
   "execution_count": 7,
   "metadata": {
    "collapsed": true
   },
   "outputs": [],
   "source": [
    "π_chain = np.zeros((n_samples, N,m,m))\n",
    "for n in range(N) :\n",
    "    for i in range(m) :\n",
    "        for j in range(m) :\n",
    "            π_chain[:,n,i,j] = trace['Z'][:,i,j] + \\\n",
    "                          [trace['u'][idx,i].dot(np.diag(trace['Lambda'][idx,n])).dot(trace['u'][idx,j]) \n",
    "                           for idx in range(np.shape(trace['u'])[0])]"
   ]
  },
  {
   "cell_type": "code",
   "execution_count": 8,
   "metadata": {
    "collapsed": true
   },
   "outputs": [],
   "source": [
    "ll = np.zeros(n_samples)\n",
    "probs = 1/(1+np.exp(-π_chain))\n",
    "for itr in range(len(ll)) :\n",
    "    ll[itr] = np.sum(X*np.log(probs[itr]) + (1-X)*np.log(1-probs[itr]))"
   ]
  },
  {
   "cell_type": "code",
   "execution_count": 9,
   "metadata": {},
   "outputs": [
    {
     "data": {
      "text/plain": [
       "[<matplotlib.lines.Line2D at 0x7f9e20ae2438>]"
      ]
     },
     "execution_count": 9,
     "metadata": {},
     "output_type": "execute_result"
    },
    {
     "data": {
      "image/png": "[encoded data removed]",
      "text/plain": [
       "<Figure size 432x288 with 1 Axes>"
      ]
     },
     "metadata": {},
     "output_type": "display_data"
    }
   ],
   "source": [
    "plt.plot(ll)"
   ]
  },
  {
   "cell_type": "code",
   "execution_count": 12,
   "metadata": {},
   "outputs": [
    {
     "data": {
      "text/plain": [
       "[<matplotlib.lines.Line2D at 0x7f9e20e06e10>]"
      ]
     },
     "execution_count": 12,
     "metadata": {},
     "output_type": "execute_result"
    },
    {
     "data": {
      "image/png": "[encoded data removed]",
      "text/plain": [
       "<Figure size 432x288 with 1 Axes>"
      ]
     },
     "metadata": {},
     "output_type": "display_data"
    }
   ],
   "source": [
    "i = 2\n",
    "plt.plot([scipy.linalg.norm(trace['u'][itr,i,:]) for itr in range(n_samples)])"
   ]
  },
  {
   "cell_type": "code",
   "execution_count": 14,
   "metadata": {},
   "outputs": [
    {
     "data": {
      "text/plain": [
       "(3000, 10, 4)"
      ]
     },
     "execution_count": 14,
     "metadata": {},
     "output_type": "execute_result"
    }
   ],
   "source": [
    "np.shape(trace['u'])"
   ]
  },
  {
   "cell_type": "code",
   "execution_count": 20,
   "metadata": {},
   "outputs": [
    {
     "data": {
      "text/plain": [
       "<matplotlib.image.AxesImage at 0x7f9e20d0b940>"
      ]
     },
     "execution_count": 20,
     "metadata": {},
     "output_type": "execute_result"
    },
    {
     "data": {
      "image/png": "[encoded data removed]",
      "text/plain": [
       "<Figure size 432x288 with 1 Axes>"
      ]
     },
     "metadata": {},
     "output_type": "display_data"
    }
   ],
   "source": [
    "plt.imshow(np.mean(trace['u'],0), cmap=\"gray\")"
   ]
  },
  {
   "cell_type": "code",
   "execution_count": 22,
   "metadata": {},
   "outputs": [
    {
     "data": {
      "text/plain": [
       "<matplotlib.colorbar.Colorbar at 0x7f9e20d5ef60>"
      ]
     },
     "execution_count": 22,
     "metadata": {},
     "output_type": "execute_result"
    },
    {
     "data": {
      "image/png": "[encoded data removed]",
      "text/plain": [
       "<Figure size 288x720 with 2 Axes>"
      ]
     },
     "metadata": {},
     "output_type": "display_data"
    }
   ],
   "source": [
    "plt.matshow(np.mean(trace['u'],0))\n",
    "plt.colorbar()"
   ]
  },
  {
   "cell_type": "code",
   "execution_count": 26,
   "metadata": {},
   "outputs": [
    {
     "data": {
      "text/plain": [
       "(3000, 10, 4)"
      ]
     },
     "execution_count": 26,
     "metadata": {},
     "output_type": "execute_result"
    }
   ],
   "source": [
    "np.shape(trace['u'])"
   ]
  },
  {
   "cell_type": "code",
   "execution_count": 31,
   "metadata": {},
   "outputs": [
    {
     "data": {
      "text/plain": [
       "2.3828236660607733"
      ]
     },
     "execution_count": 31,
     "metadata": {},
     "output_type": "execute_result"
    }
   ],
   "source": [
    "np.max(np.linalg.svd(trace['u'][0])[1])"
   ]
  },
  {
   "cell_type": "code",
   "execution_count": 33,
   "metadata": {},
   "outputs": [],
   "source": [
    "U_normalised = [trace['u'][itr]/np.max(np.linalg.svd(trace['u'][itr])[1]) for itr in range(n_samples)]"
   ]
  },
  {
   "cell_type": "code",
   "execution_count": null,
   "metadata": {
    "collapsed": true
   },
   "outputs": [],
   "source": []
  }
 ],
 "metadata": {
  "kernelspec": {
   "display_name": "Python 3",
   "language": "python",
   "name": "python3"
  },
  "language_info": {
   "codemirror_mode": {
    "name": "ipython",
    "version": 3
   },
   "file_extension": ".py",
   "mimetype": "text/x-python",
   "name": "python",
   "nbconvert_exporter": "python",
   "pygments_lexer": "ipython3",
   "version": "3.6.2"
  }
 },
 "nbformat": 4,
 "nbformat_minor": 2
}
