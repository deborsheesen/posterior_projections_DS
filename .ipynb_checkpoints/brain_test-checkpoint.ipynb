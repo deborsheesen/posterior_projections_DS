{
 "cells": [
  {
   "cell_type": "code",
   "execution_count": 15,
   "metadata": {},
   "outputs": [
    {
     "ename": "ModuleNotFoundError",
     "evalue": "No module named 'numpy.transpose'",
     "output_type": "error",
     "traceback": [
      "\u001b[0;31m---------------------------------------------------------------------------\u001b[0m",
      "\u001b[0;31mModuleNotFoundError\u001b[0m                       Traceback (most recent call last)",
      "\u001b[0;32m<ipython-input-15-7ffafeed39be>\u001b[0m in \u001b[0;36m<module>\u001b[0;34m()\u001b[0m\n\u001b[1;32m      1\u001b[0m \u001b[0;32mimport\u001b[0m \u001b[0mmatplotlib\u001b[0m\u001b[0;34m.\u001b[0m\u001b[0mpyplot\u001b[0m \u001b[0;32mas\u001b[0m \u001b[0mplt\u001b[0m\u001b[0;34m,\u001b[0m \u001b[0mnumpy\u001b[0m \u001b[0;32mas\u001b[0m \u001b[0mnp\u001b[0m\u001b[0;34m,\u001b[0m \u001b[0mnumpy\u001b[0m\u001b[0;34m.\u001b[0m\u001b[0mrandom\u001b[0m \u001b[0;32mas\u001b[0m \u001b[0mnpr\u001b[0m\u001b[0;34m,\u001b[0m \u001b[0mpystan\u001b[0m \u001b[0;32mas\u001b[0m \u001b[0mps\u001b[0m\u001b[0;34m,\u001b[0m \u001b[0mmatplotlib\u001b[0m\u001b[0;34m.\u001b[0m\u001b[0mpyplot\u001b[0m \u001b[0;32mas\u001b[0m \u001b[0mplt\u001b[0m\u001b[0;34m\u001b[0m\u001b[0m\n\u001b[0;32m----> 2\u001b[0;31m \u001b[0;32mimport\u001b[0m \u001b[0mnumpy\u001b[0m\u001b[0;34m.\u001b[0m\u001b[0mtranspose\u001b[0m \u001b[0;32mas\u001b[0m \u001b[0mtr\u001b[0m\u001b[0;34m\u001b[0m\u001b[0m\n\u001b[0m\u001b[1;32m      3\u001b[0m \u001b[0;32mfrom\u001b[0m \u001b[0mtqdm\u001b[0m \u001b[0;32mimport\u001b[0m \u001b[0mtrange\u001b[0m\u001b[0;34m\u001b[0m\u001b[0m\n\u001b[1;32m      4\u001b[0m \u001b[0mget_ipython\u001b[0m\u001b[0;34m(\u001b[0m\u001b[0;34m)\u001b[0m\u001b[0;34m.\u001b[0m\u001b[0mmagic\u001b[0m\u001b[0;34m(\u001b[0m\u001b[0;34m'matplotlib inline'\u001b[0m\u001b[0;34m)\u001b[0m\u001b[0;34m\u001b[0m\u001b[0m\n\u001b[1;32m      5\u001b[0m \u001b[0;32mfrom\u001b[0m \u001b[0mtime\u001b[0m \u001b[0;32mimport\u001b[0m \u001b[0mtime\u001b[0m\u001b[0;34m\u001b[0m\u001b[0m\n",
      "\u001b[0;31mModuleNotFoundError\u001b[0m: No module named 'numpy.transpose'"
     ]
    }
   ],
   "source": [
    "import matplotlib.pyplot as plt, numpy as np, numpy.random as npr, pystan as ps, matplotlib.pyplot as plt\n",
    "from tqdm import trange\n",
    "%matplotlib inline\n",
    "from time import time\n",
    "from pylab import plot, show, legend"
   ]
  },
  {
   "cell_type": "code",
   "execution_count": 2,
   "metadata": {},
   "outputs": [
    {
     "name": "stderr",
     "output_type": "stream",
     "text": [
      "INFO:pystan:COMPILING THE C++ CODE FOR MODEL anon_model_388ad65a3dfea4092ebe64bea9b8beb4 NOW.\n"
     ]
    }
   ],
   "source": [
    "sm = ps.StanModel(file=\"brain.stan\")"
   ]
  },
  {
   "cell_type": "code",
   "execution_count": 5,
   "metadata": {
    "collapsed": true
   },
   "outputs": [],
   "source": [
    "N = 20 \n",
    "m = 5\n",
    "p = 2\n",
    "X = npr.binomial(1,0.2,size=[N,m,m]);"
   ]
  },
  {
   "cell_type": "code",
   "execution_count": 6,
   "metadata": {
    "collapsed": true
   },
   "outputs": [],
   "source": [
    "data = dict(N=N, p=p, m=m, a=0.5, X=X);"
   ]
  },
  {
   "cell_type": "code",
   "execution_count": 7,
   "metadata": {
    "scrolled": true
   },
   "outputs": [
    {
     "name": "stderr",
     "output_type": "stream",
     "text": [
      "WARNING:pystan:Rhat above 1.1 or below 0.9 indicates that the chains very likely have not mixed\n",
      "WARNING:pystan:600 of 600 iterations saturated the maximum tree depth of 10 (100 %)\n",
      "WARNING:pystan:Run again with max_treedepth larger than 10 to avoid saturation\n"
     ]
    },
    {
     "name": "stdout",
     "output_type": "stream",
     "text": [
      "1.08 minutes to run\n",
      "Inference for Stan model: anon_model_388ad65a3dfea4092ebe64bea9b8beb4.\n",
      "6 chains, each with iter=200; warmup=100; thin=1; \n",
      "post-warmup draws per chain=100, total post-warmup draws=600.\n",
      "\n",
      "                    mean se_mean     sd   2.5%    25%    50%    75%  97.5%  n_eff   Rhat\n",
      "Z[1,1]             -1.59    0.25   0.71  -3.41  -1.91  -1.42  -1.04  -0.73      8   1.51\n",
      "Z[2,1]             -1.13    0.12   0.53  -2.68  -1.42  -1.04  -0.72  -0.38     20   1.22\n",
      "Z[3,1]             -1.56     0.1    0.5  -2.78  -1.88   -1.5  -1.25  -0.51     26   1.28\n",
      "Z[4,1]             -0.58    0.14   0.54  -1.62  -0.93  -0.48  -0.17   0.25     15   1.32\n",
      "Z[5,1]             -1.31    0.06   0.41  -2.12  -1.59  -1.29  -1.08   -0.5     41   1.17\n",
      "Z[1,2]             -1.16    0.08   0.46  -2.02  -1.53  -1.16  -0.86   -0.2     32   1.17\n",
      "Z[2,2]             -1.18    0.35   0.74  -2.84  -1.48  -1.03   -0.7  -0.04      5   1.97\n",
      "Z[3,2]             -2.23     0.2   0.56  -3.31  -2.64  -2.22  -1.85  -1.07      8   1.45\n",
      "Z[4,2]              -1.3    0.06   0.46  -2.29  -1.57  -1.28  -1.04   -0.4     58   1.07\n",
      "Z[5,2]             -1.92    0.11   0.54  -3.33  -2.18  -1.82  -1.59  -1.05     22   1.24\n",
      "Z[1,3]             -1.78    0.11    0.5  -2.68  -2.15  -1.77  -1.38  -0.88     22   1.31\n",
      "Z[2,3]             -1.05    0.23   0.57  -2.14  -1.44  -1.05  -0.69   0.14      6   1.71\n",
      "Z[3,3]             -0.53     0.2   0.69  -1.66  -1.01  -0.67  -0.05   1.09     12   1.44\n",
      "Z[4,3]             -1.85    0.09   0.53  -2.99  -2.15  -1.81  -1.56  -0.82     33   1.21\n",
      "Z[5,3]              -2.5    0.51   1.11  -5.51  -2.92  -2.24  -1.72  -1.09      5   1.92\n",
      "Z[1,4]             -1.17    0.14   0.53   -2.3  -1.47  -1.19  -0.87  -0.11     14   1.24\n",
      "Z[2,4]             -1.01    0.22   0.62  -2.03  -1.51  -1.01   -0.5   0.07      8   1.55\n",
      "Z[3,4]             -2.28    0.07    0.5   -3.4  -2.55  -2.28  -1.98   -1.3     47   1.17\n",
      "Z[4,4]             -1.05     0.2   0.58  -2.38  -1.49  -0.99  -0.62  -0.15      9   1.51\n",
      "Z[5,4]             -2.69    0.19   0.81  -4.35  -3.27  -2.62  -1.99  -1.31     19   1.48\n",
      "Z[1,5]              -0.5    0.06   0.41  -1.24  -0.79  -0.52  -0.25    0.4     52    1.1\n",
      "Z[2,5]             -0.81    0.16   0.46   -1.8  -1.11   -0.8  -0.46  -0.07      8   1.42\n",
      "Z[3,5]             -2.52    0.43   1.07   -4.6  -3.44  -2.27  -1.69  -0.83      6   1.86\n",
      "Z[4,5]             -0.75    0.17   0.54  -1.87  -1.16  -0.67  -0.39   0.17     11   1.45\n",
      "Z[5,5]             -1.61    0.15   0.53  -2.55  -2.05  -1.57  -1.22  -0.59     12   1.53\n",
      "u[1,1]              0.33    0.39   0.88   -1.1  -0.21    0.1   0.97   2.29      5    2.7\n",
      "u[2,1]             -0.57    0.65   1.15  -3.39  -0.43  -0.03   0.02   0.36      3   5.97\n",
      "u[3,1]             -0.06    0.05   0.24  -0.65  -0.15-7.8e-3   0.01   0.49     22   1.18\n",
      "u[4,1]             -0.08    0.29    0.6  -1.49  -0.18-3.0e-3   0.03   1.36      4    2.2\n",
      "u[5,1]              0.09     0.1   0.28   -0.4  -0.01 6.0e-3   0.13   0.84      8   1.59\n",
      "u[1,2]           -1.8e-3    0.06    0.3  -0.84  -0.06 2.2e-4   0.08   0.65     23   1.29\n",
      "u[2,2]              0.05    0.09    0.3  -0.44  -0.03-4.4e-4   0.04   1.06     11   2.11\n",
      "u[3,2]              0.62    0.78   1.54  -1.22  -0.07   0.04    0.8    5.2      4   2.52\n",
      "u[4,2]              0.06    0.13   0.48  -1.07  -0.12   0.06   0.29   0.96     13   1.68\n",
      "u[5,2]              0.08    0.24   0.57  -1.15  -0.11 3.8e-4   0.33   1.54      5   1.94\n",
      "lambda_diag[1,1]    0.44    0.28   0.62  -0.99   0.19   0.72   0.91    1.0      5   1.89\n",
      "lambda_diag[2,1]    0.09    0.34   0.75   -1.0  -0.76   0.12   0.85    1.0      5   2.31\n",
      "lambda_diag[3,1]   -0.01    0.15   0.62  -0.99  -0.55 8.5e-3   0.47   0.98     17   1.51\n",
      "lambda_diag[4,1]    0.23    0.22   0.64  -0.97   -0.3   0.46   0.81    1.0      8   1.58\n",
      "lambda_diag[5,1]   -0.14    0.17   0.56   -1.0  -0.62  -0.15   0.29   0.96     11   1.36\n",
      "lambda_diag[6,1]    0.16    0.29   0.69   -1.0  -0.51   0.37   0.77    1.0      6   1.77\n",
      "lambda_diag[7,1]    0.07    0.14   0.58  -0.99  -0.44   0.21   0.52   0.96     16   1.45\n",
      "lambda_diag[8,1]    0.22    0.15   0.54  -0.98  -0.13   0.26   0.65   0.99     12    1.4\n",
      "lambda_diag[9,1]    0.18    0.33    0.7  -0.99  -0.46   0.49   0.83   0.99      4   1.99\n",
      "lambda_diag[10,1]  -0.29    0.28   0.62   -1.0  -0.87  -0.45   0.28    0.9      5   1.79\n",
      "lambda_diag[11,1]   -0.4     0.2   0.62   -1.0  -0.94  -0.74   0.18   0.83      9   1.46\n",
      "lambda_diag[12,1]  -0.15    0.41   0.79   -1.0  -0.94  -0.58   0.78    1.0      4   2.61\n",
      "lambda_diag[13,1]  -0.26    0.11   0.54   -1.0   -0.7  -0.32   0.15   0.89     25   1.26\n",
      "lambda_diag[14,1]   0.24    0.23   0.69  -0.98  -0.44   0.49   0.86    1.0      9   1.51\n",
      "lambda_diag[15,1]  -0.17    0.26   0.64   -1.0  -0.82  -0.15   0.42   0.96      6   1.71\n",
      "lambda_diag[16,1]  -0.26    0.32    0.7   -1.0  -0.89   -0.5   0.42    1.0      5   2.24\n",
      "lambda_diag[17,1]  -0.33    0.12   0.55   -1.0  -0.83   -0.5   0.08   0.96     20   1.33\n",
      "lambda_diag[18,1]   0.37    0.19   0.47  -0.67 7.2e-3   0.43   0.79   0.99      6   1.63\n",
      "lambda_diag[19,1]  -0.34     0.2   0.63   -1.0  -0.96  -0.56   0.19   0.85     10   1.82\n",
      "lambda_diag[20,1]  -0.28    0.36   0.77   -1.0  -0.93  -0.74   0.64   0.99      5   2.12\n",
      "lambda_diag[1,2]   -0.17    0.25   0.63  -0.99  -0.78  -0.25   0.43   0.95      7   1.63\n",
      "lambda_diag[2,2]    0.28    0.15   0.59  -0.94  -0.17   0.33   0.83    1.0     16   1.53\n",
      "lambda_diag[3,2]    0.02    0.35   0.78   -1.0  -0.86   0.13   0.86    1.0      5   2.11\n",
      "lambda_diag[4,2]   -0.24    0.28    0.7   -1.0  -0.86   -0.5   0.45   0.99      6    1.9\n",
      "lambda_diag[5,2] -3.4e-3    0.36   0.82   -1.0  -0.91  -0.07   0.92    1.0      5   1.78\n",
      "lambda_diag[6,2]   -0.12     0.3   0.69  -0.99  -0.82   -0.2   0.51   0.99      5    2.0\n",
      "lambda_diag[7,2]   -0.11    0.34   0.81  -0.99  -0.87  -0.49   0.88    1.0      5   1.77\n",
      "lambda_diag[8,2]   -0.21    0.37   0.78   -1.0  -0.96  -0.59   0.64    1.0      4   2.14\n",
      "lambda_diag[9,2]   -0.42    0.22   0.55   -1.0  -0.87   -0.6  -0.16   0.82      6   1.76\n",
      "lambda_diag[10,2]  -0.22    0.31   0.69   -1.0   -0.8  -0.49   0.25   0.97      5   2.32\n",
      "lambda_diag[11,2]  -0.43    0.17   0.52   -1.0  -0.91  -0.56  -0.07   0.65      9   1.51\n",
      "lambda_diag[12,2]  -0.22    0.16   0.54   -1.0  -0.66  -0.29   0.08   0.91     12   1.55\n",
      "lambda_diag[13,2]  -0.32    0.32   0.73   -1.0  -0.94  -0.65   0.47   0.99      5   1.63\n",
      "lambda_diag[14,2]    0.3    0.16   0.62  -0.98  -0.05   0.52   0.81   0.99     16   1.94\n",
      "lambda_diag[15,2]   0.49    0.25   0.58  -0.76   0.13   0.77   0.97    1.0      5   1.86\n",
      "lambda_diag[16,2]   0.21    0.24   0.64  -0.96  -0.31   0.34   0.77   0.99      7   1.69\n",
      "lambda_diag[17,2]  -0.09    0.32   0.76   -1.0  -0.84  -0.34   0.79    1.0      6   2.13\n",
      "lambda_diag[18,2]   0.24    0.36   0.76  -0.99  -0.57   0.64   0.96    1.0      4   2.47\n",
      "lambda_diag[19,2]  -0.42    0.19   0.56   -1.0  -0.94  -0.63   0.17   0.72      8   1.84\n",
      "lambda_diag[20,2]   0.12     0.2   0.56  -0.95  -0.37   0.13   0.58   0.99      8   1.61\n",
      "sigma_Z2            1.69    0.09   0.31   1.16   1.48   1.65   1.85   2.37     11   1.24\n",
      "sigma2[1]           0.71    0.02   0.13    0.5   0.62   0.69    0.8   1.05     55    1.1\n",
      "sigma2[2]           0.75    0.03   0.14   0.52   0.65   0.73   0.85   1.06     32   1.22\n",
      "tau[1]              3.43    0.57    2.2   0.46    2.2   3.07   4.25   9.78     15   1.36\n",
      "tau[2]              3.09    0.77   2.22   0.89   1.47   2.23    4.1   8.94      8   1.43\n",
      "phi[1,1]            0.46    0.18   0.33   0.01   0.12   0.52   0.72   0.93      3   3.79\n",
      "phi[2,1]            0.12    0.06   0.14 5.7e-4 3.3e-3   0.08   0.22   0.45      5   1.97\n",
      "phi[1,2]            0.15    0.08   0.17 9.1e-4   0.02   0.07   0.25   0.61      4   2.32\n",
      "phi[2,2]             0.1    0.07   0.12 7.1e-4 6.5e-3   0.03   0.23   0.36      3   3.97\n",
      "phi[1,3]            0.15    0.11   0.21 9.4e-4   0.01   0.05   0.18   0.69      4   4.78\n",
      "phi[2,3]            0.34    0.14   0.27   0.01   0.04   0.35   0.59   0.79      4   2.91\n",
      "phi[1,4]            0.13    0.08   0.16 1.8e-3 4.8e-3   0.05   0.21   0.55      4   2.23\n",
      "phi[2,4]            0.27     0.1   0.19   0.01   0.13   0.22   0.34   0.66      4   3.22\n",
      "phi[1,5]            0.11    0.06   0.14 3.2e-4 7.1e-3   0.05   0.18   0.54      6   2.19\n",
      "phi[2,5]            0.17    0.08   0.16 3.9e-4 9.2e-3    0.1   0.29   0.49      4   2.49\n",
      "lp__              -297.4    3.36   9.53 -314.4 -303.9 -297.6 -290.8 -277.0      8   1.56\n",
      "\n",
      "Samples were drawn using NUTS at Mon Jan 20 15:17:33 2020.\n",
      "For each parameter, n_eff is a crude measure of effective sample size,\n",
      "and Rhat is the potential scale reduction factor on split chains (at \n",
      "convergence, Rhat=1).\n"
     ]
    }
   ],
   "source": [
    "start = time()\n",
    "fit = sm.sampling(data=data, thin=1, n_jobs=6, chains=6, iter=200, init=\"random\")\n",
    "print(round((time()-start)/60,2), \"minutes to run\")\n",
    "print(fit);\n",
    "trace = fit.extract()"
   ]
  },
  {
   "cell_type": "code",
   "execution_count": 8,
   "metadata": {
    "collapsed": true
   },
   "outputs": [],
   "source": []
  },
  {
   "cell_type": "code",
   "execution_count": 39,
   "metadata": {},
   "outputs": [
    {
     "data": {
      "image/png": "[encoded data removed]",
      "text/plain": [
       "<Figure size 432x288 with 1 Axes>"
      ]
     },
     "metadata": {},
     "output_type": "display_data"
    }
   ],
   "source": [
    "i, j = 1, 3\n",
    "n = 4\n",
    "\n",
    "π = trace['Z'][:,i,j] + \\\n",
    "         [trace['u'][idx,i].dot(np.diag(trace['lambda_diag'][idx,n])).dot(trace['u'][idx,j]) \n",
    "          for idx in range(np.shape(trace['u'])[0])]\n",
    "plt.plot(π);"
   ]
  },
  {
   "cell_type": "code",
   "execution_count": null,
   "metadata": {
    "collapsed": true
   },
   "outputs": [],
   "source": []
  }
 ],
 "metadata": {
  "kernelspec": {
   "display_name": "Python 3",
   "language": "python",
   "name": "python3"
  },
  "language_info": {
   "codemirror_mode": {
    "name": "ipython",
    "version": 3
   },
   "file_extension": ".py",
   "mimetype": "text/x-python",
   "name": "python",
   "nbconvert_exporter": "python",
   "pygments_lexer": "ipython3",
   "version": "3.6.2"
  }
 },
 "nbformat": 4,
 "nbformat_minor": 2
}
