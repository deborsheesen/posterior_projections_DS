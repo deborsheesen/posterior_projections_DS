{
 "cells": [
  {
   "cell_type": "code",
   "execution_count": 6,
   "metadata": {},
   "outputs": [],
   "source": [
    "a = normrnd(0,1,10,2);"
   ]
  },
  {
   "cell_type": "code",
   "execution_count": 7,
   "metadata": {
    "scrolled": true
   },
   "outputs": [
    {
     "name": "stderr",
     "output_type": "stream",
     "text": [
      "\u001b[0;31mError: Indexing with parentheses '()' must appear as the last operation of a valid indexing expression.\n",
      "\n",
      "\u001b[0m"
     ]
    }
   ],
   "source": [
    "run(\"stiefproj.m\")(a,1)"
   ]
  },
  {
   "cell_type": "code",
   "execution_count": 11,
   "metadata": {},
   "outputs": [
    {
     "name": "stdout",
     "output_type": "stream",
     "text": [
      "                                            f: +3.747449e+00   |grad|: 1.887243e+00\n",
      "acc TR+   k:     1     num_inner:     1     f: +3.410196e+00   |grad|: 1.962333e+00   negative curvature\n",
      "acc TR+   k:     2     num_inner:     1     f: +2.733955e+00   |grad|: 1.977445e+00   negative curvature\n",
      "acc TR+   k:     3     num_inner:     1     f: +1.598663e+00   |grad|: 1.573607e+00   exceeded trust region\n",
      "acc TR+   k:     4     num_inner:     1     f: +6.426392e-01   |grad|: 5.815377e-01   exceeded trust region\n",
      "acc       k:     5     num_inner:     3     f: +4.251169e-01   |grad|: 2.203212e-01   reached target residual-kappa (linear)\n",
      "acc       k:     6     num_inner:     2     f: +4.070228e-01   |grad|: 3.061638e-03   reached target residual-kappa (linear)\n",
      "acc       k:     7     num_inner:     3     f: +4.070165e-01   |grad|: 6.785963e-06   reached target residual-theta (superlinear)\n",
      "acc       k:     8     num_inner:     3     f: +4.070165e-01   |grad|: 9.281850e-13   reached target residual-theta (superlinear)\n",
      "Gradient norm tolerance reached; options.tolgradnorm = 1e-06.\n",
      "Total time is 0.010068 [s] (excludes statsfun)\n"
     ]
    }
   ],
   "source": [
    "x=stiefproj(a,1);"
   ]
  },
  {
   "cell_type": "code",
   "execution_count": 13,
   "metadata": {},
   "outputs": [
    {
     "name": "stdout",
     "output_type": "stream",
     "text": [
      "\n",
      "ans =\n",
      "\n",
      "    10     2\n",
      "\n"
     ]
    }
   ],
   "source": [
    "size(x)"
   ]
  },
  {
   "cell_type": "code",
   "execution_count": 15,
   "metadata": {},
   "outputs": [
    {
     "name": "stdout",
     "output_type": "stream",
     "text": [
      "\n",
      "ans =\n",
      "\n",
      "    1.0000   -0.0000\n",
      "   -0.0000    1.0000\n",
      "\n"
     ]
    }
   ],
   "source": [
    "x'*x"
   ]
  },
  {
   "cell_type": "code",
   "execution_count": null,
   "metadata": {
    "collapsed": true
   },
   "outputs": [],
   "source": []
  }
 ],
 "metadata": {
  "kernelspec": {
   "display_name": "Matlab",
   "language": "matlab",
   "name": "matlab"
  },
  "language_info": {
   "codemirror_mode": "octave",
   "file_extension": ".m",
   "help_links": [
    {
     "text": "MetaKernel Magics",
     "url": "https://metakernel.readthedocs.io/en/latest/source/README.html"
    }
   ],
   "mimetype": "text/x-octave",
   "name": "matlab",
   "version": "0.16.7"
  }
 },
 "nbformat": 4,
 "nbformat_minor": 2
}
