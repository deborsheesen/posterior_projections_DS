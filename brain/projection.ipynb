{
 "cells": [
  {
   "cell_type": "code",
   "execution_count": 1,
   "metadata": {
    "collapsed": true
   },
   "outputs": [],
   "source": [
    "a = normrnd(0,1,10,2);"
   ]
  },
  {
   "cell_type": "code",
   "execution_count": 3,
   "metadata": {},
   "outputs": [
    {
     "name": "stdout",
     "output_type": "stream",
     "text": [
      "\n",
      "ans =\n",
      "\n",
      "    1.5377   -0.3499\n",
      "    2.8339    4.0349\n",
      "   -1.2588    1.7254\n",
      "    1.8622    0.9369\n",
      "    1.3188    1.7147\n",
      "   -0.3077    0.7950\n",
      "    0.5664    0.8759\n",
      "    1.3426    2.4897\n",
      "    4.5784    2.4090\n",
      "    3.7694    2.4172\n",
      "\n"
     ]
    }
   ],
   "source": [
    "a+1"
   ]
  },
  {
   "cell_type": "code",
   "execution_count": null,
   "metadata": {
    "collapsed": true
   },
   "outputs": [],
   "source": []
  },
  {
   "cell_type": "code",
   "execution_count": 5,
   "metadata": {},
   "outputs": [
    {
     "name": "stdout",
     "output_type": "stream",
     "text": [
      "                                            f: +3.021497e+00   |grad|: 1.846596e+00\n",
      "acc TR+   k:     1     num_inner:     1     f: +2.704929e+00   |grad|: 1.779100e+00   exceeded trust region\n",
      "acc TR+   k:     2     num_inner:     1     f: +2.133109e+00   |grad|: 1.569889e+00   exceeded trust region\n",
      "acc TR+   k:     3     num_inner:     1     f: +1.292509e+00   |grad|: 1.099701e+00   exceeded trust region\n",
      "acc       k:     4     num_inner:     1     f: +5.702392e-01   |grad|: 7.372924e-01   exceeded trust region\n",
      "acc       k:     5     num_inner:     2     f: +3.214211e-01   |grad|: 1.696645e-01   reached target residual-kappa (linear)\n",
      "acc       k:     6     num_inner:     1     f: +3.108278e-01   |grad|: 1.085286e-02   reached target residual-kappa (linear)\n",
      "acc       k:     7     num_inner:     3     f: +3.107932e-01   |grad|: 1.180465e-05   reached target residual-theta (superlinear)\n",
      "acc       k:     8     num_inner:     3     f: +3.107932e-01   |grad|: 7.826148e-12   reached target residual-theta (superlinear)\n",
      "Gradient norm tolerance reached; options.tolgradnorm = 1e-06.\n",
      "Total time is 0.231228 [s] (excludes statsfun)\n"
     ]
    }
   ],
   "source": [
    "x=stiefproj(a,1);"
   ]
  },
  {
   "cell_type": "code",
   "execution_count": 6,
   "metadata": {},
   "outputs": [
    {
     "name": "stdout",
     "output_type": "stream",
     "text": [
      "\n",
      "ans =\n",
      "\n",
      "    10     2\n",
      "\n"
     ]
    }
   ],
   "source": [
    "size(x)"
   ]
  },
  {
   "cell_type": "code",
   "execution_count": 7,
   "metadata": {},
   "outputs": [
    {
     "name": "stdout",
     "output_type": "stream",
     "text": [
      "\n",
      "ans =\n",
      "\n",
      "    1.0000   -0.0000\n",
      "   -0.0000    1.0000\n",
      "\n"
     ]
    }
   ],
   "source": [
    "x'*x"
   ]
  },
  {
   "cell_type": "code",
   "execution_count": null,
   "metadata": {
    "collapsed": true
   },
   "outputs": [],
   "source": []
  }
 ],
 "metadata": {
  "kernelspec": {
   "display_name": "Matlab",
   "language": "matlab",
   "name": "matlab"
  },
  "language_info": {
   "codemirror_mode": "octave",
   "file_extension": ".m",
   "help_links": [
    {
     "text": "MetaKernel Magics",
     "url": "https://metakernel.readthedocs.io/en/latest/source/README.html"
    }
   ],
   "mimetype": "text/x-octave",
   "name": "matlab",
   "version": "0.16.7"
  }
 },
 "nbformat": 4,
 "nbformat_minor": 2
}
