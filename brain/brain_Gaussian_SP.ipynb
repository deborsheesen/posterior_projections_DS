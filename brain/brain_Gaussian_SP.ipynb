{
 "cells": [
  {
   "cell_type": "markdown",
   "metadata": {},
   "source": [
    "### Unconstrained sampling with $\\mathrm{Normal}(0,1)$ prior:"
   ]
  },
  {
   "cell_type": "code",
   "execution_count": 1,
   "metadata": {
    "collapsed": true
   },
   "outputs": [],
   "source": [
    "import matplotlib.pyplot as plt, numpy as np, numpy.random as npr, pystan as ps, matplotlib.pyplot as plt\n",
    "from tqdm import trange\n",
    "import scipy\n",
    "%matplotlib inline\n",
    "from time import time\n",
    "from pylab import plot, show, legend"
   ]
  },
  {
   "cell_type": "markdown",
   "metadata": {},
   "source": [
    "#### Compile Stan model:"
   ]
  },
  {
   "cell_type": "code",
   "execution_count": 3,
   "metadata": {},
   "outputs": [
    {
     "name": "stderr",
     "output_type": "stream",
     "text": [
      "INFO:pystan:COMPILING THE C++ CODE FOR MODEL anon_model_7dd29383df470e25f78e4c647a95e4a8 NOW.\n"
     ]
    }
   ],
   "source": [
    "sm = ps.StanModel(file=\"brain_sayan_Gaussian.stan\")"
   ]
  },
  {
   "cell_type": "markdown",
   "metadata": {},
   "source": [
    "#### Load data from file and prepare stan data list:"
   ]
  },
  {
   "cell_type": "code",
   "execution_count": 4,
   "metadata": {},
   "outputs": [
    {
     "name": "stdout",
     "output_type": "stream",
     "text": [
      "0.3888888888888889\n"
     ]
    }
   ],
   "source": [
    "from numpy import loadtxt\n",
    "\n",
    "X = np.zeros((42,68,68))\n",
    "for i in range(42) :\n",
    "    name = \"/home/postdoc/dsen/Desktop/projeted_posterior/brain_data/data_column\"+str(i+1)\n",
    "    X[i] = loadtxt(name, comments=\"#\", delimiter=\" \", unpack=False)\n",
    "X = X.astype(int)\n",
    "\n",
    "# N = 21 \n",
    "# m = np.shape(X)[1]\n",
    "# p = 10\n",
    "# a = 1/m\n",
    "# data = dict(N=N, R=m, d=p, X=X[:N], alpha=1/m, lmbda=0.5)\n",
    "\n",
    "N = 10 \n",
    "m = 6\n",
    "p = 3\n",
    "a = 1/m\n",
    "data = dict(N=N, p=p, m=m, X=X[:N,:m,:m])\n",
    "\n",
    "print(np.mean(X[:N,:m,:m]))"
   ]
  },
  {
   "cell_type": "raw",
   "metadata": {
    "collapsed": true
   },
   "source": [
    "N = 21\n",
    "m = 10\n",
    "X = npr.binomial(n=1,p=0.3,size=(N,m,m))\n",
    "p = 5\n",
    "a = 1/m\n",
    "data = dict(N=N, p=p, m=m, a=a, X=X[:N])"
   ]
  },
  {
   "cell_type": "markdown",
   "metadata": {
    "collapsed": true
   },
   "source": [
    "#### Sample using stan:"
   ]
  },
  {
   "cell_type": "code",
   "execution_count": 5,
   "metadata": {
    "scrolled": true
   },
   "outputs": [
    {
     "name": "stderr",
     "output_type": "stream",
     "text": [
      "WARNING:pystan:Rhat above 1.1 or below 0.9 indicates that the chains very likely have not mixed\n",
      "WARNING:pystan:238 of 2000 iterations ended with a divergence (11.9 %).\n",
      "WARNING:pystan:Try running with adapt_delta larger than 0.8 to remove the divergences.\n",
      "WARNING:pystan:403 of 2000 iterations saturated the maximum tree depth of 12 (20.1 %)\n",
      "WARNING:pystan:Run again with max_treedepth larger than 12 to avoid saturation\n",
      "WARNING:pystan:Chain 1: E-BFMI = 0.0251\n",
      "WARNING:pystan:Chain 2: E-BFMI = 0.0563\n",
      "WARNING:pystan:Chain 3: E-BFMI = 0.055\n",
      "WARNING:pystan:Chain 4: E-BFMI = 0.0338\n",
      "WARNING:pystan:E-BFMI below 0.2 indicates you may need to reparameterize your model\n"
     ]
    },
    {
     "name": "stdout",
     "output_type": "stream",
     "text": [
      "1.6 minutes to run\n",
      "Inference for Stan model: anon_model_7dd29383df470e25f78e4c647a95e4a8.\n",
      "4 chains, each with iter=1000; warmup=500; thin=1; \n",
      "post-warmup draws per chain=500, total post-warmup draws=2000.\n",
      "\n",
      "            mean se_mean     sd   2.5%    25%    50%    75%  97.5%  n_eff   Rhat\n",
      "Z[1,1]      8.15    9.93 189.93 -419.0 -26.89   4.89  42.95 421.26    366    1.0\n",
      "Z[2,1]    -42.93   21.88   72.3 -258.5 -48.91  -17.2  -6.37   0.67     11   1.24\n",
      "Z[3,1]    139.68   99.33 228.46   6.68  27.92  61.86 116.67 887.32      5   1.57\n",
      "Z[4,1]      24.6   12.61  52.57 -16.49   1.86    9.3  25.12 189.99     17   1.19\n",
      "Z[5,1]     55.01   34.34 105.83  -1.11   7.68  22.46  49.66  382.4      9   1.31\n",
      "Z[6,1]     -77.6   49.26 129.93 -530.5 -74.69 -28.39 -12.49  -2.39      7   1.43\n",
      "Z[1,2]    -23.64   17.51 229.07 -734.6 -39.66  -3.09  26.33 322.38    171   1.03\n",
      "Z[2,2]      10.5   22.42 225.75 -318.9 -40.28  -2.89  23.39 465.29    101   1.06\n",
      "Z[3,2]     127.1   78.22  197.1   5.84  24.27   53.6 142.33  799.1      6   1.47\n",
      "Z[4,2]    126.35   86.19 209.86   5.69  23.28  55.26 116.77 816.26      6   1.44\n",
      "Z[5,2]    -141.2   86.68 210.92 -803.0 -156.4 -60.89 -27.28  -7.14      6   1.47\n",
      "Z[6,2]    -137.5   86.39 223.48 -893.5 -138.6 -57.89 -25.86  -5.83      7    1.4\n",
      "Z[1,3]      8.01   10.15 198.11 -362.7 -29.48   1.37  35.33 439.27    381    1.0\n",
      "Z[2,3]    -30.41   26.61 241.89 -719.2 -41.77  -1.49  29.38 301.87     83   1.07\n",
      "Z[3,3]       4.5    9.55 178.78 -427.4  -33.2   0.36  42.34 394.47    350   1.01\n",
      "Z[4,3]    138.69   88.18 216.22   7.63  28.61  60.88 130.05 861.72      6   1.48\n",
      "Z[5,3]     -55.2   36.87 119.19 -388.7 -46.14 -19.47  -8.33  -0.95     10   1.29\n",
      "Z[6,3]    -74.56   52.37 153.34 -604.8 -55.39 -23.51 -10.82  -1.87      9   1.43\n",
      "Z[1,4]     12.82   13.26 239.06 -403.6  -27.2   3.74  44.42 519.56    325   1.02\n",
      "Z[2,4]     -26.0   20.51 231.44 -605.7  -43.1  -3.89  29.39 364.49    127   1.03\n",
      "Z[3,4]    -12.41   31.18 228.79 -685.2 -34.83   0.39  41.63 406.51     54   1.01\n",
      "Z[4,4]      4.95    7.15 164.05 -345.6 -32.96   0.44  33.35 423.87    526    1.0\n",
      "Z[5,4]     61.06   35.43  99.81   2.14  10.46   22.6  60.91 361.85      8   1.42\n",
      "Z[6,4]    -76.31   53.01 153.42 -544.1 -63.14 -27.23 -11.48  -1.11      8   1.35\n",
      "Z[1,5]    -15.96   27.72 227.94 -649.2 -33.49  -1.11  31.02 424.32     68   1.03\n",
      "Z[2,5]      5.29   13.41 204.78 -423.7 -31.96    0.2  41.18 479.71    233   1.01\n",
      "Z[3,5]      0.77   13.33 216.83 -390.1 -43.96  -2.53  30.06 484.85    265   1.02\n",
      "Z[4,5]      6.46   10.23 201.08 -384.0 -37.93   0.54  39.56 549.35    387   1.02\n",
      "Z[5,5]      8.15    7.09 186.64 -401.6 -29.33    3.4  40.89 444.49    693    1.0\n",
      "Z[6,5]    -156.9  103.72 253.39 -975.6 -159.8 -65.48 -28.98  -7.46      6   1.54\n",
      "Z[1,6]      6.27   16.31 228.04 -383.6 -34.59  -1.91  26.76 362.06    196   1.01\n",
      "Z[2,6]     -8.61   10.61 199.12 -537.0 -35.16  -1.12  32.88 414.89    352    1.0\n",
      "Z[3,6]     22.96   14.91 214.87 -358.9 -29.34   1.31  41.67  622.5    208   1.02\n",
      "Z[4,6]    -10.18   10.66 181.19 -446.9 -37.57  -2.28  34.55 360.52    289   1.01\n",
      "Z[5,6]      2.65    8.51 205.03 -470.7 -29.74    2.9  48.32 418.59    581   1.02\n",
      "Z[6,6]     12.61   12.13 230.81 -422.2 -32.85   1.34  44.91 470.89    362   1.01\n",
      "U[1,1]      0.39    0.27   1.25  -2.17  -0.51   0.64   1.29   2.49     22   1.27\n",
      "U[2,1]     -0.01    0.11   0.84  -1.66  -0.53  -0.05   0.51   1.68     59   1.06\n",
      "U[3,1]     -0.06     0.1   0.81  -1.84  -0.54 1.4e-3   0.44    1.5     64   1.05\n",
      "U[4,1]     -0.29    0.16   1.03  -2.26  -0.97   -0.3   0.33   1.86     44   1.11\n",
      "U[5,1]      0.02    0.21   1.08  -1.92  -0.85   0.11   0.84   2.06     26   1.21\n",
      "U[6,1]     -0.21    0.13   0.92  -2.06  -0.81  -0.22   0.38   1.71     51   1.07\n",
      "U[1,2]     -0.08    0.46   1.23  -2.33  -0.96  -0.08   0.85   2.21      7   1.24\n",
      "U[2,2]     -0.13    0.06   0.72  -1.81  -0.49  -0.09   0.28   1.23    133   1.03\n",
      "U[3,2]      0.11    0.12   0.87  -1.65  -0.41   0.09   0.67   1.92     52   1.07\n",
      "U[4,2]      0.13    0.27   1.11  -2.02  -0.68   0.27   0.93   2.08     17   1.19\n",
      "U[5,2]      0.23    0.12   0.97  -1.63  -0.48    0.3   0.91   1.98     71   1.06\n",
      "U[6,2]      0.23    0.22   1.06  -1.88  -0.54   0.31   0.97   2.14     23   1.16\n",
      "U[1,3]     -0.16    0.28   1.25  -2.38  -1.15  -0.11   0.77   2.23     20   1.16\n",
      "U[2,3]      0.09    0.13   0.84  -1.68  -0.43   0.12   0.64   1.69     40   1.09\n",
      "U[3,3]     -0.04    0.11   0.86  -1.72  -0.55  -0.05   0.41   1.83     59   1.07\n",
      "U[4,3]      0.05    0.16   1.03  -1.94  -0.66-1.1e-3    0.8    2.1     40   1.11\n",
      "U[5,3]      0.06    0.22   1.06  -1.85  -0.76   0.14   0.85    2.0     23   1.15\n",
      "U[6,3]      0.09    0.21   0.98  -1.76  -0.57   0.09   0.74   2.03     21   1.14\n",
      "D[1,1]      0.99    2.23  41.32 -79.94  -7.37  -0.26   6.09  90.56    342   1.01\n",
      "D[2,1]     19.03   25.95  96.61 -89.39 -10.22   0.57   14.9  326.5     14   1.44\n",
      "D[3,1]     -2.57    2.56  43.95 -91.79  -8.73  -0.82    5.2  86.08    295   1.01\n",
      "D[4,1]    -20.78    10.7  78.57 -220.4 -32.53  -5.06   2.63  91.65     54   1.17\n",
      "D[5,1]     -9.93    7.85  67.19 -171.9  -18.4  -1.89   8.61  94.55     73   1.04\n",
      "D[6,1]      1.47    3.18  43.44 -84.32  -7.03   -0.1   9.22  86.26    187   1.02\n",
      "D[7,1]     -5.63    8.82  73.35 -144.7 -19.87  -1.18   8.29 136.51     69   1.04\n",
      "D[8,1]     -0.89    2.74   44.7 -96.61  -7.52  -0.35   6.58  80.67    267   1.01\n",
      "D[9,1]     -0.76     2.1  39.34  -92.9  -7.52  -0.07   7.95  79.28    351   1.02\n",
      "D[10,1]    28.63   10.93  74.05 -72.89  -1.59   8.48  41.04 228.12     46   1.13\n",
      "D[1,2]      -5.4    2.39  50.06 -123.4 -13.15  -1.83   4.13  81.51    440    1.0\n",
      "D[2,2]      3.37    8.35  68.53 -173.4  -8.77   1.37  21.72  141.8     67   1.09\n",
      "D[3,2]     -1.17    3.16  53.46 -102.0  -9.64  -1.15   5.17  95.55    286    1.0\n",
      "D[4,2]    -12.28    6.28  70.14 -171.7 -21.21  -2.74   5.25 119.12    125   1.04\n",
      "D[5,2]    -28.58   17.25 101.75 -294.8 -36.05  -8.16   1.17   93.2     35   1.04\n",
      "D[6,2]      -4.3     2.3  41.54 -94.21 -10.89  -1.21   4.72  80.74    325   1.01\n",
      "D[7,2]     10.36   14.07  94.79 -110.6   -5.2   3.22  18.69 209.44     45   1.01\n",
      "D[8,2]      -2.7    3.12  48.76 -135.6  -9.84  -0.97   5.41  84.56    245   1.03\n",
      "D[9,2]     -2.94    2.78  47.85 -109.4 -10.51  -1.36   4.18  95.12    296    1.0\n",
      "D[10,2]    50.25   30.36 141.99 -82.33  -0.73  14.59  49.86 498.93     22   1.17\n",
      "D[1,3]     -1.38    4.31  56.16 -126.4  -6.46   0.37   8.14  92.77    169   1.01\n",
      "D[2,3]      -0.1    6.25  72.61 -173.3 -13.57   0.12  12.31 160.41    135   1.03\n",
      "D[3,3]     -2.35    4.49  54.42 -109.2  -7.41  -0.05   7.59  85.83    147   1.02\n",
      "D[4,3]    -16.94    8.46  63.03 -208.9  -21.0   -3.6    3.8  67.41     56   1.07\n",
      "D[5,3]     -7.49   15.55 105.13 -334.0  -16.3  -0.73  10.65 138.94     46   1.04\n",
      "D[6,3]     -4.74     4.0  44.34 -105.3  -9.93  -0.74   5.16  63.26    123   1.02\n",
      "D[7,3]     -6.24   12.34  80.97 -207.3 -16.01  -1.31   8.58 152.92     43   1.02\n",
      "D[8,3]      1.12     5.0  49.71 -109.0  -5.94   0.44   9.41  89.72     99   1.02\n",
      "D[9,3]     -2.35    4.07  57.94 -111.2  -7.95  -0.03   6.51  98.44    202   1.01\n",
      "D[10,3]    32.93   28.67 117.31 -102.3  -2.53   6.83  29.87 412.59     17   1.15\n",
      "sigsqZ     4.6e4   4.7e4  1.3e5  75.91 856.66 3178.4  1.4e4  4.8e5      7   1.53\n",
      "sigsqD[1] 5636.0  4629.6  2.1e4   2.59  47.53 307.14 2801.3  4.8e4     21   1.11\n",
      "sigsqD[2] 7475.5  5495.7  2.7e4   2.85  57.71 326.78 2178.5  8.5e4     25    1.2\n",
      "sigsqD[3] 6732.1  5069.0  2.4e4   2.05  47.14 311.69 1946.3  7.9e4     22   1.16\n",
      "lp__      -360.7    32.5  67.09 -507.7 -407.5 -351.2 -316.1 -247.7      4   1.64\n",
      "\n",
      "Samples were drawn using NUTS at Sun Mar  1 20:24:56 2020.\n",
      "For each parameter, n_eff is a crude measure of effective sample size,\n",
      "and Rhat is the potential scale reduction factor on split chains (at \n",
      "convergence, Rhat=1).\n"
     ]
    }
   ],
   "source": [
    "control = dict(max_treedepth=12)\n",
    "start = time()\n",
    "fit = sm.sampling(data=data, thin=1, n_jobs=4, chains=4, iter=1_000, init=\"random\", control=control)\n",
    "print(round((time()-start)/60,2), \"minutes to run\")\n",
    "print(fit)\n",
    "trace = fit.extract()"
   ]
  },
  {
   "cell_type": "markdown",
   "metadata": {
    "collapsed": true
   },
   "source": [
    "#### Plot posterior samples of $Z + U^T \\Lambda U$:"
   ]
  },
  {
   "cell_type": "code",
   "execution_count": 10,
   "metadata": {},
   "outputs": [
    {
     "data": {
      "image/png": "[encoded data removed]",
      "text/plain": [
       "<Figure size 432x288 with 1 Axes>"
      ]
     },
     "metadata": {},
     "output_type": "display_data"
    }
   ],
   "source": [
    "n = 0\n",
    "\n",
    "Nsamples = np.shape(trace['U'])[0]\n",
    "ZUDU = np.zeros((Nsamples, m, m))\n",
    "for idx in range(Nsamples) :\n",
    "    ZUDU[idx] = np.matmul(np.matmul(trace['U'][idx], np.diag(trace['D'][idx,n])), trace['U'][idx].transpose())\n",
    "ZUDU += trace['Z']\n",
    "\n",
    "i, j = 3, 3\n",
    "plt.plot(ZUDU[:,i,j])\n",
    "plt.grid(True)"
   ]
  },
  {
   "cell_type": "code",
   "execution_count": null,
   "metadata": {
    "collapsed": true
   },
   "outputs": [],
   "source": []
  }
 ],
 "metadata": {
  "kernelspec": {
   "display_name": "Python 3",
   "language": "python",
   "name": "python3"
  },
  "language_info": {
   "codemirror_mode": {
    "name": "ipython",
    "version": 3
   },
   "file_extension": ".py",
   "mimetype": "text/x-python",
   "name": "python",
   "nbconvert_exporter": "python",
   "pygments_lexer": "ipython3",
   "version": "3.6.2"
  }
 },
 "nbformat": 4,
 "nbformat_minor": 2
}
