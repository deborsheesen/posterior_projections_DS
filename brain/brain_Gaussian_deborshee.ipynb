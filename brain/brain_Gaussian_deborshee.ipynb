{
 "cells": [
  {
   "cell_type": "markdown",
   "metadata": {},
   "source": [
    "### Unconstrained sampling with $\\mathrm{Normal}(0,1)$ prior:"
   ]
  },
  {
   "cell_type": "code",
   "execution_count": 1,
   "metadata": {
    "collapsed": true
   },
   "outputs": [],
   "source": [
    "import matplotlib.pyplot as plt, numpy as np, numpy.random as npr, pystan as ps, matplotlib.pyplot as plt\n",
    "from tqdm import trange\n",
    "import scipy\n",
    "%matplotlib inline\n",
    "from time import time\n",
    "from pylab import plot, show, legend"
   ]
  },
  {
   "cell_type": "markdown",
   "metadata": {},
   "source": [
    "#### Compile Stan model:"
   ]
  },
  {
   "cell_type": "code",
   "execution_count": 2,
   "metadata": {},
   "outputs": [
    {
     "name": "stderr",
     "output_type": "stream",
     "text": [
      "INFO:pystan:COMPILING THE C++ CODE FOR MODEL anon_model_094e216bcd2f5e3be629b99f112c2b47 NOW.\n"
     ]
    }
   ],
   "source": [
    "sm = ps.StanModel(file=\"brain_Gaussian.stan\")"
   ]
  },
  {
   "cell_type": "markdown",
   "metadata": {},
   "source": [
    "#### Load data from file and prepare stan data list:"
   ]
  },
  {
   "cell_type": "code",
   "execution_count": 3,
   "metadata": {},
   "outputs": [
    {
     "name": "stdout",
     "output_type": "stream",
     "text": [
      "0.3888888888888889\n"
     ]
    }
   ],
   "source": [
    "from numpy import loadtxt\n",
    "\n",
    "X = np.zeros((42,68,68))\n",
    "for i in range(42) :\n",
    "    name = \"/home/postdoc/dsen/Desktop/projeted_posterior/brain_data/data_column\"+str(i+1)\n",
    "    X[i] = loadtxt(name, comments=\"#\", delimiter=\" \", unpack=False)\n",
    "X = X.astype(int)\n",
    "\n",
    "# N = 21 \n",
    "# m = np.shape(X)[1]\n",
    "# p = 10\n",
    "# a = 1/m\n",
    "# data = dict(N=N, R=m, d=p, X=X[:N], alpha=1/m, lmbda=0.5)\n",
    "\n",
    "N = 10 \n",
    "m = 6\n",
    "p = 3\n",
    "a = 1/m\n",
    "data = dict(N=N, p=p, m=m, a=a, X=X[:N,:m,:m])\n",
    "\n",
    "print(np.mean(X[:N,:m,:m]))"
   ]
  },
  {
   "cell_type": "raw",
   "metadata": {
    "collapsed": true
   },
   "source": [
    "N = 21\n",
    "m = 10\n",
    "X = npr.binomial(n=1,p=0.3,size=(N,m,m))\n",
    "p = 5\n",
    "a = 1/m\n",
    "data = dict(N=N, p=p, m=m, a=a, X=X[:N])"
   ]
  },
  {
   "cell_type": "markdown",
   "metadata": {
    "collapsed": true
   },
   "source": [
    "#### Sample using stan:"
   ]
  },
  {
   "cell_type": "code",
   "execution_count": 13,
   "metadata": {
    "scrolled": true
   },
   "outputs": [
    {
     "name": "stderr",
     "output_type": "stream",
     "text": [
      "WARNING:pystan:Rhat above 1.1 or below 0.9 indicates that the chains very likely have not mixed\n",
      "WARNING:pystan:32 of 1000 iterations ended with a divergence (3.2 %).\n",
      "WARNING:pystan:Try running with adapt_delta larger than 0.8 to remove the divergences.\n",
      "WARNING:pystan:2 of 1000 iterations saturated the maximum tree depth of 12 (0.2 %)\n",
      "WARNING:pystan:Run again with max_treedepth larger than 12 to avoid saturation\n",
      "WARNING:pystan:Chain 1: E-BFMI = 0.177\n",
      "WARNING:pystan:Chain 2: E-BFMI = 0.153\n",
      "WARNING:pystan:Chain 3: E-BFMI = 0.122\n",
      "WARNING:pystan:E-BFMI below 0.2 indicates you may need to reparameterize your model\n"
     ]
    },
    {
     "name": "stdout",
     "output_type": "stream",
     "text": [
      "3.05 minutes to run\n",
      "Inference for Stan model: anon_model_094e216bcd2f5e3be629b99f112c2b47.\n",
      "4 chains, each with iter=500; warmup=250; thin=1; \n",
      "post-warmup draws per chain=250, total post-warmup draws=1000.\n",
      "\n",
      "               mean se_mean     sd   2.5%    25%    50%    75%  97.5%  n_eff   Rhat\n",
      "Z[1,1]       -70.97   15.27  51.55 -196.6 -99.02 -53.63 -32.04 -11.43     11   1.23\n",
      "Z[2,1]        -14.4    2.41  15.38 -50.28 -21.92 -11.16  -4.58  10.38     41   1.09\n",
      "Z[3,1]        46.23   10.65  42.03   5.19  17.35   32.9  58.55 161.64     16   1.15\n",
      "Z[4,1]         9.26    3.04  16.45 -14.16  -0.48   5.73  15.78  55.21     29   1.13\n",
      "Z[5,1]        21.19    4.29  20.93  -8.51   8.55  16.31  28.83  74.69     24   1.14\n",
      "Z[6,1]       -31.92    6.73  26.04 -97.11 -43.28  -23.4 -13.79  -3.46     15   1.14\n",
      "Z[1,2]       -14.52    2.87  15.62 -49.05 -22.22 -11.34  -4.86  11.55     30   1.11\n",
      "Z[2,2]       -41.17    16.7  58.49 -185.2  -56.6 -27.43  -8.22   32.3     12   1.22\n",
      "Z[3,2]        45.04   11.39  47.74  -2.97   12.4  30.25  60.48 182.85     18   1.17\n",
      "Z[4,2]        39.25    6.07  38.34  -2.23   13.5  28.12  55.08 138.66     40   1.07\n",
      "Z[5,2]       -41.37   15.16  45.03 -156.3 -62.33 -31.24 -13.36  23.93      9   1.21\n",
      "Z[6,2]       -44.24   14.22  61.24 -203.4 -59.43 -30.41 -13.79  22.03     19   1.15\n",
      "Z[1,3]        50.04   11.85  44.05   5.48  19.85  37.01  62.58 186.27     14   1.16\n",
      "Z[2,3]        41.59    8.68  40.22  -1.39  12.93  28.23   56.0 154.75     21    1.1\n",
      "Z[3,3]       -50.32   13.08  48.42 -189.8  -71.5 -33.18 -16.19  -3.11     14   1.17\n",
      "Z[4,3]        57.96   11.36  51.17   8.74  23.67   41.6  72.21 202.51     20   1.17\n",
      "Z[5,3]       -25.24    3.17  19.41 -77.48 -33.53 -21.14 -11.28  -1.58     38   1.13\n",
      "Z[6,3]       -27.13    4.07  20.92 -82.57 -36.36 -21.64 -12.03  -1.42     26   1.15\n",
      "Z[1,4]         8.15    2.56  15.72 -20.41  -0.21   5.23  14.25  52.53     38   1.09\n",
      "Z[2,4]        42.92    10.0  39.79  -6.72  13.77  32.12  62.45 146.09     16   1.15\n",
      "Z[3,4]        53.51   14.57  43.58   8.29  23.07  40.32  68.62 183.22      9    1.2\n",
      "Z[4,4]        -59.9   17.99  52.25 -198.6  -77.8 -42.13 -24.34  -6.96      8   1.22\n",
      "Z[5,4]        20.19   10.53  26.19  -14.9   3.05  13.79   29.8  84.78      6   1.28\n",
      "Z[6,4]        -32.0    3.75  24.55 -93.03 -45.82 -25.85 -13.52  -0.28     43   1.12\n",
      "Z[1,5]        21.82    4.55  21.28  -6.78   8.64  16.94  29.88  77.19     22   1.13\n",
      "Z[2,5]       -46.29    14.1  54.47 -183.5 -66.18 -32.56 -15.61  26.14     15   1.17\n",
      "Z[3,5]       -25.25    3.33  18.63 -76.17  -33.4 -20.99 -11.96   -1.1     31   1.14\n",
      "Z[4,5]        20.56   10.86  28.11  -15.2   4.03  13.95  29.49  88.69      7   1.27\n",
      "Z[5,5]        -45.5    18.0  50.76 -181.8 -70.73 -33.97 -11.42  27.91      8   1.24\n",
      "Z[6,5]        -44.6   17.78  49.65 -164.2 -65.96 -31.09  -11.6  21.97      8   1.25\n",
      "Z[1,6]       -32.26    5.35   26.9 -107.5 -43.32 -23.13 -13.82  -2.83     25   1.11\n",
      "Z[2,6]       -42.94   13.26  49.07 -168.9  -62.6 -29.43 -11.56   23.4     14   1.15\n",
      "Z[3,6]        -26.2    3.34  20.87 -84.55 -34.09 -20.93 -12.05  -1.26     39   1.13\n",
      "Z[4,6]       -34.44    5.14  26.68 -95.66  -48.7 -26.96 -14.02  -0.14     27   1.17\n",
      "Z[5,6]        -41.5   15.28  46.08 -155.3 -63.97 -31.55 -11.03   29.1      9   1.22\n",
      "Z[6,6]       -53.73   23.08  58.16 -211.6 -76.94  -36.7 -14.34  20.71      6   1.32\n",
      "u[1,1]         3.77    3.95   6.91 -11.86   0.64   5.06   7.88  15.91      3   1.98\n",
      "u[2,1]        -0.49    1.45   4.86  -9.49  -3.34  -0.77   1.85  12.26     11   1.24\n",
      "u[3,1]        -0.32    0.36   2.82  -7.49   -1.6 8.3e-3   1.34   4.54     60   1.04\n",
      "u[4,1]        -3.78    1.76   5.09 -12.84  -6.78  -4.36  -1.42   8.12      8   1.38\n",
      "u[5,1]         2.74    2.86   5.92  -7.71  -2.45   3.56   6.73  14.26      4   1.43\n",
      "u[6,1]        -1.13    1.42   4.98  -10.8  -3.86  -1.59   1.43  10.59     12   1.25\n",
      "u[1,2]         3.14    2.84   6.25   -8.9  -0.63   2.82   7.36  15.69      5    1.6\n",
      "u[2,2]         1.57    1.98   6.18  -11.9  -1.79   1.18    5.2  14.15     10   1.37\n",
      "u[3,2]         1.18    1.45   3.76  -5.64   -1.2   0.59   3.46   9.16      7   1.38\n",
      "u[4,2]         0.87    2.52   4.95  -8.79  -2.55    0.7   4.61   9.99      4   1.71\n",
      "u[5,2]         -2.6    3.51   6.79 -15.61  -7.04  -3.87   3.08  10.41      4   1.76\n",
      "u[6,2]        -1.42    2.11   6.11 -12.83   -5.4  -2.24   3.34  10.53      8   1.59\n",
      "u[1,3]         1.49     1.6    5.8  -9.87  -1.53   0.17    5.6  12.29     13   1.54\n",
      "u[2,3]        -3.23    3.13   7.18 -20.68  -5.68  -1.67   0.63   9.23      5   1.45\n",
      "u[3,3]         0.29    0.86    3.6  -7.77  -1.21   0.62   1.93   7.15     18   1.19\n",
      "u[4,3]        -0.88    2.79   5.31 -12.11  -4.83    0.6   2.76   8.56      4    1.7\n",
      "u[5,3]         -1.2    3.65    7.5 -17.47   -6.3   1.26   4.41   9.84      4   1.52\n",
      "u[6,3]        -1.52    2.95   6.32 -13.35  -5.98  -1.99   3.55  10.34      5   1.51\n",
      "Lambda[1,1]   -0.11    0.08   0.49   -1.5  -0.26  -0.07   0.13   0.68     35   1.09\n",
      "Lambda[2,1]    0.09     0.2   0.84  -1.38  -0.47   0.09   0.55   1.88     17   1.22\n",
      "Lambda[3,1]   -0.12    0.08   0.49  -1.53  -0.28  -0.08   0.12    0.7     38    1.1\n",
      "Lambda[4,1]   -0.53    0.07    0.6  -2.07  -0.77  -0.46   -0.2   0.54     78   1.04\n",
      "Lambda[5,1]   -0.16    0.21   0.75  -1.67  -0.59  -0.15   0.31   1.17     13   1.24\n",
      "Lambda[6,1]   -0.07    0.09   0.42  -1.04  -0.22  -0.05   0.14   0.68     23   1.12\n",
      "Lambda[7,1]   -0.42    0.17   0.69  -2.06  -0.79  -0.26   0.03   0.65     17   1.22\n",
      "Lambda[8,1]   -0.11    0.08   0.48  -1.44  -0.26  -0.07   0.13   0.66     36   1.09\n",
      "Lambda[9,1]   -0.09    0.09   0.48  -1.06  -0.27  -0.06   0.13   0.77     28    1.1\n",
      "Lambda[10,1]   0.06    0.19   1.11  -2.74  -0.18    0.2   0.49   1.49     34   1.12\n",
      "Lambda[1,2]   -0.23    0.06   0.54  -1.49  -0.44  -0.17   0.04   0.66     79   1.06\n",
      "Lambda[2,2]   -0.03    0.15    0.7  -1.31  -0.43   -0.1   0.31   1.65     23   1.16\n",
      "Lambda[3,2]   -0.18    0.05   0.55  -1.56  -0.39  -0.13    0.1   0.71    105   1.05\n",
      "Lambda[4,2]   -0.08    0.19   0.73  -1.67  -0.46  -0.02   0.33   1.44     15    1.2\n",
      "Lambda[5,2]   -0.48    0.24   0.94   -2.6  -0.84  -0.36   0.05   0.97     15   1.22\n",
      "Lambda[6,2]   -0.23    0.05   0.54  -1.65  -0.43  -0.17   0.06   0.72    101   1.05\n",
      "Lambda[7,2]    0.02    0.26    0.8  -1.79  -0.39   0.09   0.46   1.48     10   1.26\n",
      "Lambda[8,2]   -0.23    0.05   0.56  -1.67  -0.44  -0.17   0.05   0.71    107   1.05\n",
      "Lambda[9,2]   -0.22    0.05   0.52  -1.46  -0.44  -0.17   0.05    0.7    106   1.06\n",
      "Lambda[10,2]  -0.63    0.34   1.34  -4.47  -1.15  -0.34   0.12   1.41     16   1.31\n",
      "Lambda[1,3]    -0.6    0.38   1.14  -3.93  -0.83  -0.26   0.01    0.5      9   1.32\n",
      "Lambda[2,3]   -0.42    0.26   1.15  -3.73  -0.76  -0.27   0.23   1.31     19   1.23\n",
      "Lambda[3,3]   -0.58    0.39   1.16  -4.29  -0.73  -0.21   0.06   0.49      9   1.32\n",
      "Lambda[4,3]   -0.76    0.28    1.1  -4.05  -1.11  -0.52  -0.17   0.78     16   1.25\n",
      "Lambda[5,3]   -0.89    0.46   1.69  -6.44  -1.22  -0.49   0.03   1.15     14   1.32\n",
      "Lambda[6,3]   -0.56    0.46   1.21  -4.59  -0.79  -0.19   0.08   0.69      7   1.39\n",
      "Lambda[7,3]   -0.63    0.34   1.28  -4.34  -0.93  -0.39 4.0e-3   1.02     14   1.24\n",
      "Lambda[8,3]   -0.62    0.44   1.26  -5.02  -0.81  -0.26   0.03   0.55      8   1.36\n",
      "Lambda[9,3]   -0.57     0.4   1.16  -4.18  -0.75  -0.25   0.02   0.62      8   1.36\n",
      "Lambda[10,3]  -1.34    1.79   4.08  -16.2  -1.58   0.09   0.64   1.91      5   1.61\n",
      "sigma_Z2      46.55   11.42  30.83   12.9   23.1  36.26  61.04 118.41      7    1.3\n",
      "sigma2[1]       0.6    0.07   0.44   0.19   0.33   0.47   0.71   1.98     45    1.1\n",
      "sigma2[2]       0.7    0.04   0.47    0.2   0.39   0.58   0.88   2.09    135   1.03\n",
      "sigma2[3]      1.24    0.54   1.83   0.21   0.43   0.68   1.31   6.33     11   1.34\n",
      "sigma_U2       6.29    0.38   2.59   2.69    4.5   5.94    7.4  12.58     46   1.07\n",
      "lp__         -203.7    7.18  25.14 -254.7 -220.3 -202.0 -184.2 -162.4     12   1.27\n",
      "\n",
      "Samples were drawn using NUTS at Sun Mar  1 20:01:24 2020.\n",
      "For each parameter, n_eff is a crude measure of effective sample size,\n",
      "and Rhat is the potential scale reduction factor on split chains (at \n",
      "convergence, Rhat=1).\n"
     ]
    }
   ],
   "source": [
    "control = dict(max_treedepth=12)\n",
    "start = time()\n",
    "fit = sm.sampling(data=data, thin=1, n_jobs=4, chains=4, iter=500, init=\"random\", control=control)\n",
    "print(round((time()-start)/60,2), \"minutes to run\")\n",
    "print(fit)\n",
    "trace = fit.extract()"
   ]
  },
  {
   "cell_type": "code",
   "execution_count": null,
   "metadata": {
    "collapsed": true
   },
   "outputs": [],
   "source": []
  },
  {
   "cell_type": "code",
   "execution_count": 14,
   "metadata": {},
   "outputs": [
    {
     "data": {
      "image/png": "[encoded data removed]",
      "text/plain": [
       "<Figure size 432x288 with 1 Axes>"
      ]
     },
     "metadata": {},
     "output_type": "display_data"
    }
   ],
   "source": [
    "i, j = 1, 1\n",
    "n = 0\n",
    "\n",
    "π = trace['Z'][:,i,j] + \\\n",
    "         [trace['u'][idx,i].dot(np.diag(trace['Lambda'][idx,n])).dot(trace['u'][idx,j]) \n",
    "          for idx in range(np.shape(trace['u'])[0])]\n",
    "plt.plot(π);"
   ]
  },
  {
   "cell_type": "code",
   "execution_count": 7,
   "metadata": {
    "collapsed": true
   },
   "outputs": [],
   "source": [
    "π_chain = np.zeros((np.shape(trace['u'])[0], N,m,m))\n",
    "for n in range(N) :\n",
    "    for i in range(m) :\n",
    "        for j in range(m) :\n",
    "            π_chain[:,n,i,j] = trace['Z'][:,i,j] + \\\n",
    "                          [trace['u'][idx,i].dot(np.diag(trace['Lambda'][idx,n])).dot(trace['u'][idx,j]) \n",
    "                           for idx in range(np.shape(trace['u'])[0])]"
   ]
  },
  {
   "cell_type": "code",
   "execution_count": 9,
   "metadata": {},
   "outputs": [
    {
     "name": "stderr",
     "output_type": "stream",
     "text": [
      "/auto/pkg/python-3.6/lib/python3.6/site-packages/ipykernel_launcher.py:2: RuntimeWarning: overflow encountered in exp\n",
      "  \n",
      "/auto/pkg/python-3.6/lib/python3.6/site-packages/ipykernel_launcher.py:4: RuntimeWarning: divide by zero encountered in log\n",
      "  after removing the cwd from sys.path.\n",
      "/auto/pkg/python-3.6/lib/python3.6/site-packages/ipykernel_launcher.py:4: RuntimeWarning: invalid value encountered in multiply\n",
      "  after removing the cwd from sys.path.\n"
     ]
    }
   ],
   "source": [
    "ll = np.zeros(np.shape(trace['u'])[0])\n",
    "probs = 1/(1+np.exp(-π_chain))\n",
    "for itr in range(len(ll)) :\n",
    "    ll[itr] = np.sum(X[:N,:m,:m]*np.log(probs[itr]) + (1-X[:N,:m,:m])*np.log(1-probs[itr]))"
   ]
  },
  {
   "cell_type": "code",
   "execution_count": null,
   "metadata": {
    "collapsed": true
   },
   "outputs": [],
   "source": []
  }
 ],
 "metadata": {
  "kernelspec": {
   "display_name": "Python 3",
   "language": "python",
   "name": "python3"
  },
  "language_info": {
   "codemirror_mode": {
    "name": "ipython",
    "version": 3
   },
   "file_extension": ".py",
   "mimetype": "text/x-python",
   "name": "python",
   "nbconvert_exporter": "python",
   "pygments_lexer": "ipython3",
   "version": "3.6.2"
  }
 },
 "nbformat": 4,
 "nbformat_minor": 2
}
