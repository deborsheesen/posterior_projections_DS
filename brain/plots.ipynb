{
 "cells": [
  {
   "cell_type": "code",
   "execution_count": 24,
   "metadata": {
    "collapsed": true
   },
   "outputs": [],
   "source": [
    "import matplotlib.pyplot as plt, numpy as np, numpy.random as npr, matplotlib.pyplot as plt, pickle\n",
    "from tqdm import trange\n",
    "import scipy, pystan as ps\n",
    "%matplotlib inline\n",
    "from time import time\n",
    "from pylab import plot, show, legend\n",
    "from Geyer_IACT import *"
   ]
  },
  {
   "cell_type": "code",
   "execution_count": 2,
   "metadata": {
    "collapsed": true
   },
   "outputs": [],
   "source": [
    "from numpy import loadtxt\n",
    "\n",
    "X = np.zeros((42,68,68))\n",
    "for i in range(42) :\n",
    "    name = \"/home/postdoc/dsen/Desktop/projeted_posterior/brain_data/data_column\"+str(i+1)\n",
    "    X[i] = loadtxt(name, comments=\"#\", delimiter=\" \", unpack=False)\n",
    "X = X.astype(int)\n",
    "\n",
    "N = 21 \n",
    "m = 68\n",
    "p = 10"
   ]
  },
  {
   "cell_type": "code",
   "execution_count": 3,
   "metadata": {
    "collapsed": true
   },
   "outputs": [],
   "source": [
    "name = '/xtmp/projected_posterior_data/brain_analysis/MCMC_output/trace_core'\n",
    "with open(name + '.pkl', 'rb') as f: trace_core = pickle.load(f)\n",
    "    \n",
    "name = '/xtmp/projected_posterior_data/brain_analysis/MCMC_output/trace_DL'\n",
    "with open(name + '.pkl', 'rb') as f: trace_unconstrained = pickle.load(f)"
   ]
  },
  {
   "cell_type": "code",
   "execution_count": 4,
   "metadata": {
    "collapsed": true
   },
   "outputs": [],
   "source": [
    "def project(U) :\n",
    "    m, p = np.shape(U)\n",
    "    assert p <= m\n",
    "    A, _, B = np.linalg.svd(U)\n",
    "    proj = np.zeros(np.shape(U))\n",
    "    for i in range(p) :\n",
    "        proj += np.matmul(np.reshape(A[:,i],(m,1)),np.reshape(B[i],(1,p)))\n",
    "    return proj"
   ]
  },
  {
   "cell_type": "code",
   "execution_count": 5,
   "metadata": {
    "collapsed": true
   },
   "outputs": [],
   "source": [
    "Nsamples = np.shape(trace_unconstrained['U'])[0]\n",
    "projU = np.zeros(np.shape(trace_unconstrained['U']))\n",
    "projD = np.zeros(np.shape(trace_unconstrained['D']))\n",
    "for i in range(Nsamples) :\n",
    "    projU[i] = project(trace_unconstrained['U'][i])\n",
    "    for n in range(np.shape(trace_unconstrained['D'])[1]) :\n",
    "        projD[i,n] = trace_unconstrained['D'][i,n]*np.linalg.norm(trace_unconstrained['U'][i], ord=2)**2"
   ]
  },
  {
   "cell_type": "code",
   "execution_count": 19,
   "metadata": {},
   "outputs": [
    {
     "data": {
      "image/png": "[encoded data removed]",
      "text/plain": [
       "<Figure size 648x288 with 1 Axes>"
      ]
     },
     "metadata": {},
     "output_type": "display_data"
    }
   ],
   "source": [
    "plt.figure(figsize=(9,4))\n",
    "plt.xticks(fontsize=13)\n",
    "plt.yticks(fontsize=13)\n",
    "plt.plot(np.sort(np.abs(np.mean(projU,0)).flatten()), 'b-', label=\"projected\")\n",
    "plt.plot(np.sort(np.abs(np.mean(trace_core['U'],0)).flatten()), 'r-', label=\"constraint relaxation\")\n",
    "plt.legend(ncol=2, fancybox=True, fontsize=14)\n",
    "plt.grid(True)\n",
    "plt.ylabel(\"Posterior mean\", fontsize=14)\n",
    "plt.title(r\"Posterior means of $|U_{ij}|$s in ascending order\", fontsize=15)\n",
    "plt.savefig(\"core_vs_proj.pdf\", dpi=2000, bbox_inches='tight')"
   ]
  },
  {
   "cell_type": "markdown",
   "metadata": {},
   "source": [
    "### Credible intervals:"
   ]
  },
  {
   "cell_type": "code",
   "execution_count": 7,
   "metadata": {},
   "outputs": [
    {
     "data": {
      "text/plain": [
       "(10000, 68, 10)"
      ]
     },
     "execution_count": 7,
     "metadata": {},
     "output_type": "execute_result"
    }
   ],
   "source": [
    "np.shape(projU)"
   ]
  },
  {
   "cell_type": "code",
   "execution_count": 8,
   "metadata": {},
   "outputs": [
    {
     "name": "stdout",
     "output_type": "stream",
     "text": [
      "2.450115660806033\n"
     ]
    }
   ],
   "source": [
    "CI_proj_len = 0\n",
    "CI_core_len = 0\n",
    "\n",
    "chains = 10\n",
    "\n",
    "for i in range(m) :\n",
    "    for j in range(p) :\n",
    "        for k in range(chains) :\n",
    "            CI_proj = np.percentile(projU[k*1000:(k+1)*1000,i,j], [2.5,97.5])\n",
    "            CI_proj_len += CI_proj[1]-CI_proj[0]\n",
    "            \n",
    "            CI_core = np.percentile(trace_core['U'][k*1000:(k+1)*1000,i,j], [2.5,97.5])\n",
    "            CI_core_len += CI_core[1]-CI_core[0]\n",
    "            \n",
    "print(CI_core_len/CI_proj_len)"
   ]
  },
  {
   "cell_type": "code",
   "execution_count": 9,
   "metadata": {},
   "outputs": [
    {
     "name": "stdout",
     "output_type": "stream",
     "text": [
      "1.7070349895128707\n"
     ]
    }
   ],
   "source": [
    "CI_proj_len = 0\n",
    "CI_core_len = 0\n",
    "\n",
    "for i in range(m) :\n",
    "    for j in range(p) :\n",
    "        CI_proj = np.percentile(projU[:,i,j], [2.5,97.5])\n",
    "        CI_proj_len += CI_proj[1]-CI_proj[0]\n",
    "            \n",
    "        CI_core = np.percentile(trace_core['U'][:,i,j], [2.5,97.5])\n",
    "        CI_core_len += CI_core[1]-CI_core[0]\n",
    "            \n",
    "print(CI_core_len/CI_proj_len)"
   ]
  },
  {
   "cell_type": "code",
   "execution_count": 27,
   "metadata": {
    "collapsed": true
   },
   "outputs": [],
   "source": [
    "IACT_proj = np.zeros((10,m,p))\n",
    "IACT_core = np.zeros((10,m,p))\n",
    "for i in range(m) :\n",
    "    for j in range(p) :\n",
    "        for k in range(chains) :\n",
    "            IACT_proj[k,i,j] = gewer_estimate_IAT(projU[k*1000:(k+1)*1000,i,j])\n",
    "            IACT_core[k,i,j] = gewer_estimate_IAT(trace_core['U'][k*1000:(k+1)*1000,i,j])"
   ]
  },
  {
   "cell_type": "code",
   "execution_count": 32,
   "metadata": {},
   "outputs": [
    {
     "data": {
      "text/plain": [
       "(680.628021527954, 614.0839776420702)"
      ]
     },
     "execution_count": 32,
     "metadata": {},
     "output_type": "execute_result"
    }
   ],
   "source": [
    "1000/np.max(IACT_proj), 1000/np.max(IACT_core)"
   ]
  },
  {
   "cell_type": "code",
   "execution_count": null,
   "metadata": {
    "collapsed": true
   },
   "outputs": [],
   "source": []
  }
 ],
 "metadata": {
  "kernelspec": {
   "display_name": "Python 3",
   "language": "python",
   "name": "python3"
  },
  "language_info": {
   "codemirror_mode": {
    "name": "ipython",
    "version": 3
   },
   "file_extension": ".py",
   "mimetype": "text/x-python",
   "name": "python",
   "nbconvert_exporter": "python",
   "pygments_lexer": "ipython3",
   "version": "3.6.2"
  }
 },
 "nbformat": 4,
 "nbformat_minor": 2
}
