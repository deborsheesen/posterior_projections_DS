{
 "cells": [
  {
   "cell_type": "markdown",
   "metadata": {},
   "source": [
    "### Unconstrained sampling with $\\mathrm{Normal}(0,1)$ prior:"
   ]
  },
  {
   "cell_type": "code",
   "execution_count": 1,
   "metadata": {
    "collapsed": true
   },
   "outputs": [],
   "source": [
    "import matplotlib.pyplot as plt, numpy as np, numpy.random as npr, pystan as ps, matplotlib.pyplot as plt\n",
    "from tqdm import trange\n",
    "import scipy\n",
    "%matplotlib inline\n",
    "from time import time\n",
    "from pylab import plot, show, legend"
   ]
  },
  {
   "cell_type": "markdown",
   "metadata": {},
   "source": [
    "#### Compile Stan model:"
   ]
  },
  {
   "cell_type": "code",
   "execution_count": 3,
   "metadata": {},
   "outputs": [
    {
     "name": "stderr",
     "output_type": "stream",
     "text": [
      "INFO:pystan:COMPILING THE C++ CODE FOR MODEL anon_model_7dd29383df470e25f78e4c647a95e4a8 NOW.\n"
     ]
    }
   ],
   "source": [
    "sm = ps.StanModel(file=\"brain_sayan_Gaussian.stan\")"
   ]
  },
  {
   "cell_type": "markdown",
   "metadata": {},
   "source": [
    "#### Load data from file and prepare stan data list:"
   ]
  },
  {
   "cell_type": "code",
   "execution_count": 4,
   "metadata": {},
   "outputs": [
    {
     "name": "stdout",
     "output_type": "stream",
     "text": [
      "0.3888888888888889\n"
     ]
    }
   ],
   "source": [
    "from numpy import loadtxt\n",
    "\n",
    "X = np.zeros((42,68,68))\n",
    "for i in range(42) :\n",
    "    name = \"/home/postdoc/dsen/Desktop/projeted_posterior/brain_data/data_column\"+str(i+1)\n",
    "    X[i] = loadtxt(name, comments=\"#\", delimiter=\" \", unpack=False)\n",
    "X = X.astype(int)\n",
    "\n",
    "# N = 21 \n",
    "# m = np.shape(X)[1]\n",
    "# p = 10\n",
    "# a = 1/m\n",
    "# data = dict(N=N, R=m, d=p, X=X[:N], alpha=1/m, lmbda=0.5)\n",
    "\n",
    "N = 10 \n",
    "m = 6\n",
    "p = 3\n",
    "a = 1/m\n",
    "data = dict(N=N, p=p, m=m, X=X[:N,:m,:m])\n",
    "\n",
    "print(np.mean(X[:N,:m,:m]))"
   ]
  },
  {
   "cell_type": "raw",
   "metadata": {
    "collapsed": true
   },
   "source": [
    "N = 21\n",
    "m = 10\n",
    "X = npr.binomial(n=1,p=0.3,size=(N,m,m))\n",
    "p = 5\n",
    "a = 1/m\n",
    "data = dict(N=N, p=p, m=m, a=a, X=X[:N])"
   ]
  },
  {
   "cell_type": "markdown",
   "metadata": {
    "collapsed": true
   },
   "source": [
    "#### Sample using stan:"
   ]
  },
  {
   "cell_type": "code",
   "execution_count": null,
   "metadata": {
    "scrolled": true
   },
   "outputs": [],
   "source": [
    "control = dict(max_treedepth=12)\n",
    "start = time()\n",
    "fit = sm.sampling(data=data, thin=1, n_jobs=4, chains=4, iter=1_000, init=\"random\", control=control)\n",
    "print(round((time()-start)/60,2), \"minutes to run\")\n",
    "print(fit)\n",
    "trace = fit.extract()"
   ]
  },
  {
   "cell_type": "code",
   "execution_count": null,
   "metadata": {
    "collapsed": true
   },
   "outputs": [],
   "source": []
  },
  {
   "cell_type": "code",
   "execution_count": 14,
   "metadata": {},
   "outputs": [
    {
     "data": {
      "image/png": "[encoded data removed]",
      "text/plain": [
       "<Figure size 432x288 with 1 Axes>"
      ]
     },
     "metadata": {},
     "output_type": "display_data"
    }
   ],
   "source": [
    "i, j = 1, 1\n",
    "n = 0\n",
    "\n",
    "π = trace['Z'][:,i,j] + \\\n",
    "         [trace['u'][idx,i].dot(np.diag(trace['Lambda'][idx,n])).dot(trace['u'][idx,j]) \n",
    "          for idx in range(np.shape(trace['u'])[0])]\n",
    "plt.plot(π);"
   ]
  },
  {
   "cell_type": "code",
   "execution_count": 7,
   "metadata": {
    "collapsed": true
   },
   "outputs": [],
   "source": [
    "π_chain = np.zeros((np.shape(trace['u'])[0], N,m,m))\n",
    "for n in range(N) :\n",
    "    for i in range(m) :\n",
    "        for j in range(m) :\n",
    "            π_chain[:,n,i,j] = trace['Z'][:,i,j] + \\\n",
    "                          [trace['u'][idx,i].dot(np.diag(trace['Lambda'][idx,n])).dot(trace['u'][idx,j]) \n",
    "                           for idx in range(np.shape(trace['u'])[0])]"
   ]
  },
  {
   "cell_type": "code",
   "execution_count": 9,
   "metadata": {},
   "outputs": [
    {
     "name": "stderr",
     "output_type": "stream",
     "text": [
      "/auto/pkg/python-3.6/lib/python3.6/site-packages/ipykernel_launcher.py:2: RuntimeWarning: overflow encountered in exp\n",
      "  \n",
      "/auto/pkg/python-3.6/lib/python3.6/site-packages/ipykernel_launcher.py:4: RuntimeWarning: divide by zero encountered in log\n",
      "  after removing the cwd from sys.path.\n",
      "/auto/pkg/python-3.6/lib/python3.6/site-packages/ipykernel_launcher.py:4: RuntimeWarning: invalid value encountered in multiply\n",
      "  after removing the cwd from sys.path.\n"
     ]
    }
   ],
   "source": [
    "ll = np.zeros(np.shape(trace['u'])[0])\n",
    "probs = 1/(1+np.exp(-π_chain))\n",
    "for itr in range(len(ll)) :\n",
    "    ll[itr] = np.sum(X[:N,:m,:m]*np.log(probs[itr]) + (1-X[:N,:m,:m])*np.log(1-probs[itr]))"
   ]
  },
  {
   "cell_type": "code",
   "execution_count": null,
   "metadata": {
    "collapsed": true
   },
   "outputs": [],
   "source": []
  }
 ],
 "metadata": {
  "kernelspec": {
   "display_name": "Python 3",
   "language": "python",
   "name": "python3"
  },
  "language_info": {
   "codemirror_mode": {
    "name": "ipython",
    "version": 3
   },
   "file_extension": ".py",
   "mimetype": "text/x-python",
   "name": "python",
   "nbconvert_exporter": "python",
   "pygments_lexer": "ipython3",
   "version": "3.6.2"
  }
 },
 "nbformat": 4,
 "nbformat_minor": 2
}
