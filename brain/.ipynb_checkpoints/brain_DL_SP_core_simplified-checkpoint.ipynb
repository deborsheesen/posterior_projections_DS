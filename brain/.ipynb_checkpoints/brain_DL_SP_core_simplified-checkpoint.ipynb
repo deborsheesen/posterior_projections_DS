{
 "cells": [
  {
   "cell_type": "markdown",
   "metadata": {},
   "source": [
    "### Sayan Patra's code:"
   ]
  },
  {
   "cell_type": "code",
   "execution_count": 1,
   "metadata": {
    "collapsed": true
   },
   "outputs": [],
   "source": [
    "import matplotlib.pyplot as plt, numpy as np, numpy.random as npr, matplotlib.pyplot as plt, pickle\n",
    "from tqdm import trange\n",
    "import scipy, pystan as ps\n",
    "%matplotlib inline\n",
    "from time import time\n",
    "from pylab import plot, show, legend"
   ]
  },
  {
   "cell_type": "markdown",
   "metadata": {},
   "source": [
    "#### Compile Stan model:"
   ]
  },
  {
   "cell_type": "code",
   "execution_count": 2,
   "metadata": {},
   "outputs": [
    {
     "name": "stderr",
     "output_type": "stream",
     "text": [
      "INFO:pystan:COMPILING THE C++ CODE FOR MODEL anon_model_cc22e6617bb703b07d6d9af0b6923715 NOW.\n"
     ]
    }
   ],
   "source": [
    "sm = ps.StanModel(file=\"brain_sayan_core.stan\")"
   ]
  },
  {
   "cell_type": "markdown",
   "metadata": {},
   "source": [
    "#### Load data from file and prepare stan data list:"
   ]
  },
  {
   "cell_type": "code",
   "execution_count": 12,
   "metadata": {},
   "outputs": [
    {
     "name": "stdout",
     "output_type": "stream",
     "text": [
      "0.566\n"
     ]
    }
   ],
   "source": [
    "from numpy import loadtxt\n",
    "\n",
    "X = np.zeros((42,68,68))\n",
    "for i in range(42) :\n",
    "    name = \"/home/postdoc/dsen/Desktop/projeted_posterior/brain_data/data_column\"+str(i+1)\n",
    "    X[i] = loadtxt(name, comments=\"#\", delimiter=\" \", unpack=False)\n",
    "X = X.astype(int)\n",
    "\n",
    "# N = 21 \n",
    "# m = np.shape(X)[1]\n",
    "# p = 10\n",
    "# a = 1/m\n",
    "# data = dict(N=N, m=m, p=p, X=X[:N], alpha=1/m, lmbda=0.5)\n",
    "\n",
    "N = 10\n",
    "m = 10\n",
    "p = 5\n",
    "data = dict(N=N, m=m, p=p, X=X[:N,:m,:m], alpha=1./m, tau=1e-3)\n",
    "\n",
    "print(np.mean(X[:N,:m,:m]))"
   ]
  },
  {
   "cell_type": "raw",
   "metadata": {
    "collapsed": true
   },
   "source": [
    "N = 21\n",
    "m = 10\n",
    "X = npr.binomial(n=1,p=0.3,size=(N,m,m))\n",
    "p = 5\n",
    "a = 1/m\n",
    "data = dict(N=N, p=p, m=m, X=X, alpha=1/m, lmbda=0.5)"
   ]
  },
  {
   "cell_type": "markdown",
   "metadata": {},
   "source": [
    "#### Initialise parameters for sampling:"
   ]
  },
  {
   "cell_type": "code",
   "execution_count": 13,
   "metadata": {
    "collapsed": true
   },
   "outputs": [],
   "source": [
    "Z_ini = npr.randn(m,m)\n",
    "pp = np.mean(X[:N,:m,:m],0)\n",
    "pp[pp==0] = 0.01\n",
    "pp[pp==1] = 0.99\n",
    "\n",
    "eg_p = np.linalg.eig(np.log(pp/(1-pp)))\n",
    "U_ini = eg_p[1][:,:p]\n",
    "D_ini = np.transpose(np.reshape(np.ravel([np.abs(eg_p[0][:p])]*N), (p,N), order='C'))\n",
    "\n",
    "etaU_ini= npr.rand(m,p)\n",
    "sigsqZ_ini = npr.rand()\n",
    "sigsqD_ini = npr.rand(p)\n",
    "\n",
    "def initfun():\n",
    "    return dict(Z=Z_ini, U=U_ini, D=D_ini, etaU=etaU_ini, sigsqZ=sigsqZ_ini, sigsqD=sigsqD_ini)"
   ]
  },
  {
   "cell_type": "markdown",
   "metadata": {
    "collapsed": true
   },
   "source": [
    "#### Sample using stan:"
   ]
  },
  {
   "cell_type": "code",
   "execution_count": 14,
   "metadata": {
    "scrolled": true
   },
   "outputs": [
    {
     "name": "stderr",
     "output_type": "stream",
     "text": [
      "WARNING:pystan:Rhat above 1.1 or below 0.9 indicates that the chains very likely have not mixed\n",
      "WARNING:pystan:2000 of 2000 iterations saturated the maximum tree depth of 10 (100 %)\n",
      "WARNING:pystan:Run again with max_treedepth larger than 10 to avoid saturation\n"
     ]
    },
    {
     "name": "stdout",
     "output_type": "stream",
     "text": [
      "2.11 minutes to run\n",
      "Inference for Stan model: anon_model_cc22e6617bb703b07d6d9af0b6923715.\n",
      "4 chains, each with iter=1000; warmup=500; thin=1; \n",
      "post-warmup draws per chain=500, total post-warmup draws=2000.\n",
      "\n",
      "             mean se_mean     sd   2.5%    25%    50%    75%  97.5%  n_eff   Rhat\n",
      "Z[1,1]      -1.36     0.6   1.34  -4.16  -2.43  -0.75  -0.47   0.89      5   1.57\n",
      "Z[2,1]      -1.19    0.24   0.44  -1.83  -1.75  -1.12  -0.83  -0.45      3   2.34\n",
      "Z[3,1]       2.64    0.34   0.68   1.49   2.21   2.58   2.91   4.14      4   1.87\n",
      "Z[4,1]       1.05    0.38   0.58   0.08   0.37   1.22   1.47   1.81      2   4.19\n",
      "Z[5,1]       0.97    0.17    0.4   0.26   0.71    0.9   1.13   1.91      6   1.46\n",
      "Z[6,1]      -1.91    0.44    0.7  -2.77  -2.67   -2.0  -1.06  -0.97      3   2.42\n",
      "Z[7,1]       1.96     0.4   0.67   0.86   1.31   2.09   2.71    2.8      3   2.91\n",
      "Z[8,1]       2.08    1.17   1.67  -0.23   0.66   1.87   3.54   4.74      2   9.58\n",
      "Z[9,1]       2.03    0.48   0.72    1.2   1.31   1.84   2.77   3.27      2   3.83\n",
      "Z[10,1]       1.9    0.63   0.91   0.74   1.29   1.67   1.96   3.85      2   5.26\n",
      "Z[1,2]        0.6    0.71    1.1  -2.06   0.08   0.76   1.46   2.03      2   5.25\n",
      "Z[2,2]       -1.0    1.36   1.94  -3.82  -2.81  -0.96   0.35   2.33      2   8.63\n",
      "Z[3,2]       1.89    1.11   1.61   0.26   0.66   1.54    2.8   5.41      2   5.12\n",
      "Z[4,2]        1.9    0.98   1.41  -0.39   0.86    1.8   2.94   4.15      2   7.11\n",
      "Z[5,2]      -1.96    0.88   1.32  -3.97  -2.91  -2.24  -0.48   0.15      2   3.38\n",
      "Z[6,2]      -2.41    0.36   0.58  -3.58  -2.81  -2.38  -1.79  -1.71      3   3.68\n",
      "Z[7,2]      -0.68    0.25    0.4  -1.19  -1.05  -0.83  -0.35   0.05      2   3.67\n",
      "Z[8,2]      -1.66    0.13   0.43  -2.38  -1.92  -1.66  -1.51  -0.41     11   1.57\n",
      "Z[9,2]      -2.73    0.51   0.76  -4.38   -2.9   -2.4  -2.33  -1.78      2   4.52\n",
      "Z[10,2]      0.98    0.29   0.45   0.13   0.67   0.97   1.31    1.7      2   3.81\n",
      "Z[1,3]       0.77    0.63    1.0  -0.54  -0.32   0.93   1.48   2.51      3   4.11\n",
      "Z[2,3]      -0.32    0.87   1.27  -2.33  -1.28  -0.76   0.92   1.37      2   4.65\n",
      "Z[3,3]       0.44    0.52   0.82  -0.94  -0.47    1.0   1.15   1.33      2   5.02\n",
      "Z[4,3]        1.8    0.24   0.39   1.33    1.5   1.68    2.0   2.81      3   2.68\n",
      "Z[5,3]      -1.75    0.41   0.63  -2.93  -2.07  -1.98  -1.06   -0.7      2   3.83\n",
      "Z[6,3]      -1.77    0.07   0.23  -2.34   -1.9   -1.7  -1.64  -1.35     11   1.39\n",
      "Z[7,3]      -0.05     0.5   0.76  -1.29  -0.99   0.15   0.66   0.85      2   3.09\n",
      "Z[8,3]       1.48    0.41   0.59   0.74   1.03   1.33   1.95   2.65      2   5.01\n",
      "Z[9,3]      -1.58    0.55   0.84  -2.77  -2.38  -1.73   -0.7  -0.21      2   4.66\n",
      "Z[10,3]     -0.09    0.44   0.75  -1.05  -0.55  -0.39   0.33   1.73      3   3.62\n",
      "Z[1,4]       0.46    0.68   1.35  -1.15  -0.89   0.16   1.19   3.43      4   1.82\n",
      "Z[2,4]        1.0    0.55   0.96  -0.21   -0.1   0.81    1.9   2.89      3   4.21\n",
      "Z[3,4]       -0.6    1.11    1.6  -2.89  -1.77  -0.89   0.28   2.47      2   5.71\n",
      "Z[4,4]      -0.67    0.58   0.89   -1.9  -1.44  -1.02   0.25   0.77      2   4.41\n",
      "Z[5,4]       1.77    0.33   0.79   0.87    1.2   1.49   2.14   4.13      6   2.28\n",
      "Z[6,4]      -1.78    0.42   0.73  -3.13  -2.42   -1.6   -1.4  -0.02      3   2.38\n",
      "Z[7,4]       0.39    0.37    0.6  -0.83   0.06   0.37   1.08    1.2      3   3.96\n",
      "Z[8,4]       2.42    0.66   1.01   1.12   1.42   2.26   3.51   4.12      2   3.74\n",
      "Z[9,4]      -1.19     0.2    0.4  -2.06  -1.48   -1.1  -0.95  -0.38      4   1.91\n",
      "Z[10,4]      1.86    0.37   0.73   0.97   1.36   1.81   2.02   3.99      4   2.24\n",
      "Z[1,5]       0.72    0.84   1.24  -1.48  -0.33   0.89   1.71   2.48      2   6.04\n",
      "Z[2,5]       1.12    0.81    1.2  -1.17   0.27   1.51   1.89   3.18      2   5.01\n",
      "Z[3,5]       0.01    0.26   0.41  -0.59  -0.34  -0.02   0.42   0.76      2   2.94\n",
      "Z[4,5]       0.37    1.13   1.64  -2.02  -0.53  -0.39   1.93   3.03      2   6.76\n",
      "Z[5,5]      -0.14    0.58   0.85  -1.21  -1.13  -0.35   0.66   1.25      2   5.32\n",
      "Z[6,5]      -2.44    0.35   0.63  -3.28  -2.81  -2.49  -2.37  -0.83      3   1.97\n",
      "Z[7,5]        0.7    0.24   0.49  -0.05   0.44   0.68   0.88    2.2      4   1.85\n",
      "Z[8,5]       2.28    0.41   0.71   1.37   1.72   2.11   2.65   3.99      3   2.93\n",
      "Z[9,5]       0.89     0.2   0.45   0.34   0.65   0.81   0.96   2.26      5   1.44\n",
      "Z[10,5]      2.17    0.42    0.8   0.75    1.5   2.21   2.52   4.24      4   2.23\n",
      "Z[1,6]       0.67    0.77   1.29  -2.52   0.16   0.75   1.97   2.33      3   2.56\n",
      "Z[2,6]      -0.24    0.63   0.89   -1.2  -0.81  -0.61   0.54   1.27      2  13.26\n",
      "Z[3,6]      -0.21    0.78   1.26  -1.93  -1.64  -0.22   0.66    2.7      3   2.44\n",
      "Z[4,6]      -1.03     1.3   1.95  -4.12  -3.06  -0.64   1.41   1.71      2   4.63\n",
      "Z[5,6]       0.42    0.68   1.13  -1.71  -0.53    0.6    1.1   2.72      3   4.64\n",
      "Z[6,6]        0.7    0.78   1.34  -2.58   0.23   1.13   1.69   2.12      3   2.61\n",
      "Z[7,6]       2.43    0.11   0.31   1.86   2.25   2.41   2.62   3.06      8   2.18\n",
      "Z[8,6]       -2.4    0.36   0.55  -3.56  -2.58  -2.21  -2.08   -1.6      2   3.97\n",
      "Z[9,6]       1.66    0.83   1.26   0.04   0.48   1.65   2.03   4.32      2   3.12\n",
      "Z[10,6]     -1.35    0.27   0.43  -1.96  -1.64  -1.48  -0.86  -0.61      2   3.27\n",
      "Z[1,7]      -0.56    0.26   0.47  -1.35  -0.88  -0.51  -0.45   0.34      3   2.13\n",
      "Z[2,7]     8.5e-3    1.83    2.6  -4.39  -2.28   0.76   2.17   2.54      2  12.86\n",
      "Z[3,7]      -0.05    0.55   0.84   -1.0  -0.91  -0.26   0.92   1.31      2   3.31\n",
      "Z[4,7]       -0.2     1.1   1.59  -2.41  -1.37  -0.43   1.19   2.42      2   6.02\n",
      "Z[5,7]       1.34    1.37   2.08   -2.1   0.06    1.5   3.58   4.48      2   3.17\n",
      "Z[6,7]      -0.17    0.98   1.42  -1.95  -1.58  -0.31   1.47   1.61      2   9.55\n",
      "Z[7,7]      -0.95    0.94   1.33  -3.27  -2.07  -0.48   0.03   0.53      2  18.95\n",
      "Z[8,7]       2.78    0.59   0.87   1.04   2.23    3.1   3.32   3.97      2   4.22\n",
      "Z[9,7]       2.42    0.89   1.31   0.38   0.86   2.88    3.5   4.22      2   4.41\n",
      "Z[10,7]      2.26    0.21   0.37   1.52   2.07   2.27   2.44   2.87      3   3.07\n",
      "Z[1,8]       0.09    0.96   1.38  -1.59  -1.23   0.31   1.26   2.38      2   5.79\n",
      "Z[2,8]      -0.38     0.6   1.16  -3.35  -1.03   0.22   0.36   1.11      4   2.67\n",
      "Z[3,8]       0.47     1.3   1.95  -2.96   -1.6    1.4   2.23   3.17      2   3.34\n",
      "Z[4,8]      -1.38    1.01   1.53  -4.14  -2.67  -1.52   0.45   0.63      2   4.27\n",
      "Z[5,8]       -0.9    1.02   1.49  -3.57  -1.88   -0.7   0.63    1.1      2   7.57\n",
      "Z[6,8]      -0.91    0.95   1.37  -2.11  -1.89  -1.64   0.39    1.5      2    7.2\n",
      "Z[7,8]       0.46    0.45   0.76  -0.58  -0.17   0.11   1.05   2.02      3   2.39\n",
      "Z[8,8]      -1.49    0.87   1.25   -3.9  -2.12   -1.2  -0.55   0.07      2   7.77\n",
      "Z[9,8]       1.84    0.19   0.37   0.84   1.56    1.9   2.11   2.44      4   1.85\n",
      "Z[10,8]       2.4    0.67   0.97   1.02   1.44   2.36   3.54   3.76      2   5.69\n",
      "Z[1,9]       0.71    1.18   2.09  -4.73  -0.62   1.94   2.63   2.66      3   3.18\n",
      "Z[2,9]      -1.31    0.76   1.18  -2.83  -2.02   -1.7  -1.32   1.46      2   2.88\n",
      "Z[3,9]       0.97    0.34   0.84   -1.4   0.62   0.91   1.74   1.91      6   1.62\n",
      "Z[4,9]      -0.89     0.7   1.12  -3.11   -1.5  -0.93  -0.42   1.56      3   2.86\n",
      "Z[5,9]      -0.22    0.44   0.67  -1.38  -0.78  -0.31   0.31   0.99      2   4.25\n",
      "Z[6,9]       0.76    0.65   1.19  -0.31  -0.19   0.49   0.88   3.86      3   4.17\n",
      "Z[7,9]      -0.34    0.74   1.15  -2.15  -1.41 3.4e-3   0.74   1.34      2   4.91\n",
      "Z[8,9]      -0.35    0.33   0.58  -1.98  -0.55  -0.33   0.08   0.46      3   1.96\n",
      "Z[9,9]       0.32    0.84   1.71  -2.51  -0.95  -0.04   1.03   4.39      4   2.98\n",
      "Z[10,9]      2.68    0.37   0.54   1.89   2.21   2.52   3.18   3.55      2   4.45\n",
      "Z[1,10]      0.12    0.62   1.19  -2.83   -1.0    0.7   1.14   1.26      4   2.83\n",
      "Z[2,10]      0.63    0.77   1.28  -2.05  -0.24   0.89   1.97   2.26      3   2.59\n",
      "Z[3,10]     -0.05    1.03   1.53  -2.27  -1.76   0.14   1.36    2.3      2   3.46\n",
      "Z[4,10]      1.76    0.31   0.45   1.05   1.29   1.81   2.23   2.36      2   4.76\n",
      "Z[5,10]      0.02    0.65    1.0  -2.15   -0.6   0.45   0.85   1.01      2   2.96\n",
      "Z[6,10]     -1.18    1.35   1.95  -4.52  -3.07  -0.35   0.26   0.76      2   7.13\n",
      "Z[7,10]      1.13    0.33   0.71   -0.1   0.41   1.17   1.61   2.49      5   1.88\n",
      "Z[8,10]     -0.88    0.92   1.31  -3.11  -2.07   -0.3 4.0e-3    0.6      2   9.01\n",
      "Z[9,10]     -0.41    0.83   1.21  -1.95  -1.45  -0.82   0.85   1.77      2   5.28\n",
      "Z[10,10]     -0.3    0.83   1.56  -3.87  -1.28   0.13   0.94   2.12      3   2.75\n",
      "U[1,1]       0.02    0.03   0.04-8.0e-3-7.5e-4 2.3e-4   0.04    0.1      2   7.69\n",
      "U[2,1]      -0.02    0.03   0.05  -0.11  -0.06-1.5e-3 6.9e-3   0.05      2   3.25\n",
      "U[3,1]    -1.2e-3  3.8e-3   0.01  -0.03-7.8e-3-2.2e-3 5.4e-3   0.03     15   1.41\n",
      "U[4,1]      -0.24    0.31   0.43  -0.99  -0.55 3.0e-3   0.02   0.03      2   99.7\n",
      "U[5,1]       0.01    0.03   0.04  -0.04  -0.02 2.1e-3   0.01   0.12      2   3.12\n",
      "U[6,1]      -0.25    0.31   0.44  -1.02  -0.58-1.3e-3 6.3e-3   0.02      2  30.14\n",
      "U[7,1]     4.0e-3  4.7e-3   0.02  -0.03-6.1e-3 5.4e-3   0.01   0.04     12   1.53\n",
      "U[8,1]      -0.25     0.3   0.43  -0.99  -0.55-3.6e-3 6.3e-3   0.01      2  92.58\n",
      "U[9,1]     9.2e-4  5.4e-3   0.02  -0.06-3.9e-3-6.2e-4 6.6e-3   0.05     18   1.11\n",
      "U[10,1]     -0.25     0.3   0.42  -0.98  -0.55-1.0e-3 5.8e-5 2.8e-3      2 147.25\n",
      "U[1,2]      -0.07    0.08   0.13  -0.42  -0.05  -0.02 5.0e-4   0.02      3   3.23\n",
      "U[2,2]       0.28    0.29   0.41  -0.05   0.01   0.04   0.68   0.98      2  12.52\n",
      "U[3,2]       0.27     0.3   0.42  -0.03-3.9e-5   0.05   0.59    1.0      2  53.61\n",
      "U[4,2]     5.5e-4  1.3e-3 4.1e-3-5.2e-3-9.0e-4-1.1e-6 2.1e-4   0.01     10   1.26\n",
      "U[5,2]      -0.32    0.29   0.41  -1.01  -0.67  -0.13-8.7e-4 8.1e-3      2  83.27\n",
      "U[6,2]    -3.2e-3  1.7e-3 6.1e-3  -0.02-5.9e-3-2.8e-3 2.3e-5 8.6e-3     13   1.77\n",
      "U[7,2]      -0.14    0.18   0.25  -0.63  -0.26-1.1e-4 4.8e-3   0.01      2  10.34\n",
      "U[8,2]    -3.7e-4  4.7e-4 2.7e-3-5.6e-3-2.1e-3-2.7e-4 1.1e-3 5.8e-3     33   1.17\n",
      "U[9,2]      -0.02    0.03   0.05  -0.16  -0.02-4.1e-4 1.8e-3   0.02      3   2.43\n",
      "U[10,2]      -0.2    0.22   0.31  -0.78  -0.38  -0.04-4.7e-4 8.9e-3      2  17.49\n",
      "U[1,3]     1.2e-3  3.2e-3   0.02  -0.04-2.7e-3 1.5e-4 8.5e-3   0.03     29   1.12\n",
      "U[2,3]     5.2e-3  2.2e-3 8.3e-3-9.1e-3-2.6e-5 2.4e-3   0.01   0.02     14   1.31\n",
      "U[3,3]      -0.03    0.03   0.04   -0.1  -0.07  -0.02-7.8e-6 6.5e-3      2   9.21\n",
      "U[4,3]    -6.3e-3  6.1e-3   0.01  -0.03  -0.01-4.3e-3-4.5e-4   0.01      3   2.13\n",
      "U[5,3]    -2.7e-3  6.6e-3   0.02  -0.05  -0.02-3.2e-6 9.0e-3   0.05     11   1.47\n",
      "U[6,3]       0.51    0.35   0.49-4.0e-5   0.02   0.51    1.0   1.02      2  75.11\n",
      "U[7,3]    -2.2e-3  6.9e-3   0.01  -0.03-1.4e-3-1.4e-6 1.5e-3   0.01      2    2.9\n",
      "U[8,3]      -0.51    0.35   0.49  -1.02  -0.99  -0.53  -0.02   0.02      2  30.47\n",
      "U[9,3]      -0.03    0.06   0.09  -0.17   -0.1  -0.01   0.03   0.09      2   6.57\n",
      "U[10,3]   -4.4e-3  2.2e-3   0.01  -0.04-9.1e-3-8.0e-4 6.4e-4   0.01     21   1.23\n",
      "U[1,4]       0.24    0.25   0.36  -0.03-2.6e-4   0.06    0.5   0.87      2   36.2\n",
      "U[2,4]       0.04    0.05   0.07  -0.01-6.5e-5 4.4e-4   0.04   0.24      2   2.66\n",
      "U[3,4]       0.24     0.3   0.42  -0.03-6.0e-3 6.5e-3   0.53   0.98      2  94.83\n",
      "U[4,4]       -0.2     0.3   0.43  -0.96  -0.49   0.02   0.06   0.14      2  35.62\n",
      "U[5,4]       0.02    0.02   0.03  -0.02-2.4e-3   0.01   0.05   0.08      2   4.91\n",
      "U[6,4]      -0.21    0.26   0.37  -0.86  -0.48-1.7e-4 4.7e-5 3.5e-3      2 175.85\n",
      "U[7,4]       0.07    0.16   0.23  -0.22  -0.09   0.01   0.24   0.46      2  16.82\n",
      "U[8,4]       0.02    0.04   0.05  -0.03-8.5e-3-2.0e-3   0.04   0.13      2   6.73\n",
      "U[9,4]      -0.14    0.13   0.19  -0.45  -0.34  -0.04 5.0e-3   0.04      2  10.88\n",
      "U[10,4]     -0.03    0.15   0.21  -0.41  -0.14-1.7e-3   0.12   0.28      2  13.38\n",
      "U[1,5]     4.3e-3    0.01   0.03  -0.04-7.4e-3-1.3e-4   0.01   0.07      5   1.46\n",
      "U[2,5]      -0.06    0.08   0.11  -0.27  -0.11-1.9e-5 1.1e-3   0.03      2  10.19\n",
      "U[3,5]       0.03    0.04   0.06  -0.05  -0.02   0.01   0.08   0.13      2   5.39\n",
      "U[4,5]      -0.49    0.35    0.5   -1.0  -0.99  -0.49 6.0e-3   0.02      2 102.13\n",
      "U[5,5]    -5.8e-3  8.2e-3   0.02  -0.09-5.2e-3 2.8e-5 3.5e-3   0.02      7   1.37\n",
      "U[6,5]     3.2e-3  3.3e-3   0.01  -0.03-6.0e-4 1.7e-4 6.3e-3   0.04     18   1.31\n",
      "U[7,5]       0.24     0.3   0.43  -0.02  -0.01 3.9e-4   0.53    1.0      2  61.92\n",
      "U[8,5]       0.03    0.04   0.05-9.5e-3-2.8e-3-3.0e-5   0.06   0.14      2    7.5\n",
      "U[9,5]       0.25     0.3   0.42  -0.02-3.1e-5   0.02   0.55   0.98      2  78.42\n",
      "U[10,5]   -7.8e-3  6.4e-3 9.7e-3  -0.03  -0.01-4.3e-3-2.0e-5 2.0e-3      2   3.63\n",
      "D[1,1]      14.87    1.22   1.94  11.84  13.14  14.94  17.44  17.77      3   2.93\n",
      "D[2,1]      13.47    1.63    2.4   9.88  11.64  13.47   14.5   18.2      2   6.63\n",
      "D[3,1]       1.33    1.99    3.0  -2.91   -0.8   0.24   2.08   7.81      2   4.57\n",
      "D[4,1]       6.32    1.58   2.24   2.77   4.45   6.58   7.95   9.54      2  19.29\n",
      "D[5,1]       16.2    1.78   2.61  12.23  13.83   16.8  18.66  19.85      2   6.56\n",
      "D[6,1]      16.63    3.37   4.86   6.51  15.23  18.38  19.13  21.72      2   8.28\n",
      "D[7,1]       8.14    2.55   3.87  -1.04   6.29   9.13  10.52  13.28      2   6.21\n",
      "D[8,1]       4.55     1.3    1.9   2.28   2.39   4.88   6.03   7.47      2   5.17\n",
      "D[9,1]       1.74    1.99   2.95  -4.97   0.81   2.78   4.01   4.82      2   4.22\n",
      "D[10,1]     14.96    4.88   6.97   1.24   10.6   16.7  20.92  21.39      2   9.57\n",
      "D[1,2]      16.74    1.36   1.94  13.35  14.81  17.36  18.27  19.16      2   9.33\n",
      "D[2,2]      10.13    1.35   1.97   7.22   8.33  10.49  10.97   13.8      2   5.91\n",
      "D[3,2]       1.04    1.92   2.85  -3.22  -1.49   1.39   1.94   6.93      2   3.84\n",
      "D[4,2]       5.21     1.8   2.58   2.02   2.59   5.17   8.03   8.78      2   6.89\n",
      "D[5,2]      17.31    1.41   2.03  14.42  15.43  16.93  18.87  20.59      2    8.1\n",
      "D[6,2]      17.37    1.84   2.65  12.63  15.49  18.14  18.94  20.98      2   9.47\n",
      "D[7,2]       9.53     1.9   2.71   5.92   6.32   9.87  12.13  13.66      2   8.52\n",
      "D[8,2]       1.97    1.26   1.78  -1.07   0.37   2.57   3.46    3.9      2  18.75\n",
      "D[9,2]       6.09    1.78   2.65   2.99   3.63   5.22   7.96  11.25      2   4.76\n",
      "D[10,2]     16.08    1.55    2.2   13.7  14.52  15.11  18.08  19.81      2  14.88\n",
      "D[1,3]      20.89     2.8   4.25   16.2   17.8  19.14  22.61  30.03      2   5.42\n",
      "D[2,3]       4.32    2.45   3.51  -0.27   1.29   3.58   8.09   9.65      2   7.98\n",
      "D[3,3]       0.72     1.5    2.3  -2.91  -1.66   2.24   2.36   3.71      2   4.43\n",
      "D[4,3]        3.7     3.4   4.91  -5.03   0.37   3.58   8.65   9.93      2   8.69\n",
      "D[5,3]      16.61    2.01   2.86  14.57  14.92  15.03  18.42  22.24      2  10.82\n",
      "D[6,3]       17.5    1.81   2.57   14.3  15.15  16.96  19.64  21.78      2  13.36\n",
      "D[7,3]      10.64    1.27   1.84   7.37   9.57  10.62  11.87  13.74      2   7.28\n",
      "D[8,3]        1.3    0.36   0.86   0.36   0.79   0.99   1.39   3.97      6   2.55\n",
      "D[9,3]       6.22    0.92    2.0   2.74   4.64   6.07   7.67  10.15      5   3.35\n",
      "D[10,3]     18.31    0.62   1.15  16.16  17.47  18.45   18.9   20.6      3   2.07\n",
      "D[1,4]      16.37    1.65   2.37  11.74  14.96  16.52  18.21  19.74      2  12.38\n",
      "D[2,4]       15.8    3.45   4.92  11.84  12.11  13.21  19.53  24.97      2   12.7\n",
      "D[3,4]       1.31    2.95   4.39  -2.92  -2.18   0.03   2.35  11.26      2   3.68\n",
      "D[4,4]       6.44    3.23   4.61   1.39   3.45   4.62   8.97  15.09      2   9.29\n",
      "D[5,4]       16.2    2.52   3.65  10.41  13.04   15.9  19.98  20.84      2   7.73\n",
      "D[6,4]      16.74    0.75   1.16  14.84  15.45  17.43  17.84  17.96      2   3.03\n",
      "D[7,4]      13.55    3.02   4.39   7.44   9.53  13.38   17.0  20.51      2   7.28\n",
      "D[8,4]       3.35    0.81   1.22   1.67    2.2    3.5   4.19   5.56      2   4.78\n",
      "D[9,4]        5.6    1.97   2.82   1.41   3.54   5.24   7.88  10.29      2   7.92\n",
      "D[10,4]     16.07    1.05   1.51  13.45   14.8  16.26  17.65  18.07      2   6.78\n",
      "D[1,5]      18.35    2.25   3.22  12.66  16.52  18.45  20.59  23.28      2   7.52\n",
      "D[2,5]       8.32    1.08   1.54   5.67   6.79   9.06   9.68   9.94      2  10.36\n",
      "D[3,5]       2.69    1.97    2.8  -1.19   0.16   2.59   4.81   7.24      2  20.38\n",
      "D[4,5]       4.81    0.66   1.48   0.79   4.85   5.42   5.64   6.14      5   2.73\n",
      "D[5,5]      16.25    1.34   1.99  12.26  14.34   17.2  17.57  18.54      2   4.85\n",
      "D[6,5]      19.61    1.38   2.23  17.64  17.92  18.65  20.13  25.56      3   3.32\n",
      "D[7,5]       7.96    2.99   4.35   2.16   3.66   7.91  11.69  15.02      2   8.96\n",
      "D[8,5]       3.93    2.66   3.97    0.7   1.31   1.79   4.87  12.75      2   7.68\n",
      "D[9,5]       1.75    2.44   3.46  -4.22  -0.98   2.77   4.64   5.38      2  12.95\n",
      "D[10,5]     15.98    2.26   3.21  10.26  13.64  17.15  18.04  19.43      2  10.14\n",
      "etaU[1,1]    1.05    1.19    1.8 4.9e-3   0.02   0.07   1.29   5.56      2   3.69\n",
      "etaU[2,1]    1.39     1.3   1.89   0.02    0.2   0.46   2.13   5.51      2   6.35\n",
      "etaU[3,1]    1.02    0.32   1.14   0.09   0.25   0.67   1.15   4.81     13   1.29\n",
      "etaU[4,1]    3.38    3.48   4.95    0.1   0.39   0.69    6.3  12.87      2  15.55\n",
      "etaU[5,1]    0.82    0.64   1.45   0.03   0.08   0.28   0.78   5.59      5   1.41\n",
      "etaU[6,1]    3.12    2.92   4.41    0.2   0.25   0.35    5.9  13.93      2   3.53\n",
      "etaU[7,1]    0.75    0.39   0.77   0.11   0.15   0.43   1.01    3.0      4   1.94\n",
      "etaU[8,1]    2.73    2.73   4.06   0.32   0.41   0.47   3.86  12.66      2   6.53\n",
      "etaU[9,1]    2.19    1.87   3.34    0.1   0.24   0.71   2.11  11.59      3   1.83\n",
      "etaU[10,1]   4.25    5.11   7.24 2.5e-3   0.02   0.09   8.56  17.66      2  48.51\n",
      "etaU[1,2]    3.18    1.32   2.23   0.08   0.79   3.07   4.56   7.62      3   2.22\n",
      "etaU[2,2]    5.97    5.16   7.32    0.4   0.78    2.5  12.16  19.08      2  18.76\n",
      "etaU[3,2]    4.59    3.85   5.64 2.2e-3   0.08   2.24   6.83  17.39      2   4.55\n",
      "etaU[4,2]    0.19    0.14   0.24 7.2e-5 3.5e-4   0.08   0.28   0.87      3   3.13\n",
      "etaU[5,2]    9.08    7.77  11.07   0.01   0.39    4.6  16.04  30.19      2  10.56\n",
      "etaU[6,2]    0.17    0.07   0.21   0.02   0.02   0.09    0.2   0.88      8   1.38\n",
      "etaU[7,2]    2.04     1.3   1.96   0.14   0.16   1.13   3.78   6.04      2   3.86\n",
      "etaU[8,2]    0.18    0.13   0.18   0.01   0.04   0.12   0.28    0.6      2   6.82\n",
      "etaU[9,2]    2.26    1.56   2.46   0.03   0.03   1.07   4.24   6.66      2   2.54\n",
      "etaU[10,2]   2.71    1.83    3.0   0.12   0.19   1.33   4.78   9.18      3   2.62\n",
      "etaU[1,3]    2.21    2.24    3.4   0.05   0.08   0.27   4.13  10.83      2   3.15\n",
      "etaU[2,3]    1.49    1.45   2.15 2.2e-4   0.14   0.32   3.77   6.42      2   3.65\n",
      "etaU[3,3]    2.19    1.66   2.39 5.2e-3   0.05   1.09   4.94   6.13      2   6.56\n",
      "etaU[4,3]    0.66    0.53   0.76   0.03   0.09   0.31   1.51    2.1      2   6.15\n",
      "etaU[5,3]    0.67    0.47   0.68 2.2e-4   0.16   0.46   0.92   2.15      2    5.2\n",
      "etaU[6,3]     4.0    3.07   4.48 4.2e-4   0.47   1.79   6.74   13.6      2   4.66\n",
      "etaU[7,3]    0.26    0.18   0.28 1.7e-4 5.1e-3   0.17   0.47   0.86      2   3.07\n",
      "etaU[8,3]   10.03    2.53    5.6   2.44   7.73   8.55  11.87   28.5      5   1.89\n",
      "etaU[9,3]    2.04     0.7   1.17   0.34    1.3   1.72   3.16   4.16      3   2.52\n",
      "etaU[10,3]   1.45    1.47   2.09   0.01    0.1   0.34   2.83   5.25      2  35.63\n",
      "etaU[1,4]    1.49    1.33   1.92   0.01   0.25   0.48   2.47   5.49      2   10.5\n",
      "etaU[2,4]    1.68    1.24   2.11 3.8e-3 7.5e-3   0.37    2.7   7.52      3   3.55\n",
      "etaU[3,4]    3.92     4.4   6.55 6.6e-3   0.25    0.5   4.49  18.11      2   4.02\n",
      "etaU[4,4]    4.77    4.17   6.01   0.05   0.21   1.41   9.91   16.9      2   7.59\n",
      "etaU[5,4]     0.6    0.33   0.53    0.1   0.25   0.35    0.8   2.07      3   2.73\n",
      "etaU[6,4]    1.08    1.18   1.68 6.6e-5   0.04   0.18   2.11   4.18      2  19.59\n",
      "etaU[7,4]     5.0    2.28   3.46   0.56   1.62   4.65   8.27  11.33      2   3.88\n",
      "etaU[8,4]    1.18    0.75   1.15   0.08   0.35   0.48   1.96   3.99      2   4.41\n",
      "etaU[9,4]    1.63    0.63   1.54   0.21   0.33   1.13   2.41   6.07      6   1.66\n",
      "etaU[10,4]   3.92    2.73   3.94   0.02   0.09   2.36   8.22   9.09      2  10.06\n",
      "etaU[1,5]    1.12    0.66   1.12   0.01    0.1   1.02   1.31   4.08      3   3.46\n",
      "etaU[2,5]    2.88    3.14   5.15 9.7e-5   0.12    0.4   2.27  17.75      3   3.19\n",
      "etaU[3,5]    1.25    0.56   0.82   0.01   0.42   1.41   1.67   2.74      2   4.66\n",
      "etaU[4,5]    8.95    6.16   8.73   0.11   0.24   8.27  17.28  20.16      2  17.16\n",
      "etaU[5,5]    1.07    0.99    2.2   0.04   0.08   0.21   0.37   8.22      5   2.23\n",
      "etaU[6,5]    1.56     1.5    2.6 1.0e-3   0.04    0.4   1.05   8.94      3   3.75\n",
      "etaU[7,5]    3.84    4.35   6.51   0.08   0.12   0.21   5.18  19.96      2    4.9\n",
      "etaU[8,5]    0.96    0.89   1.27    0.1   0.11   0.31   1.81   3.66      2    9.9\n",
      "etaU[9,5]    5.39    5.41   7.66 3.1e-3   0.09   1.59  10.83  19.91      2  17.87\n",
      "etaU[10,5]   0.21    0.14    0.2   0.01   0.02   0.19   0.34   0.62      2   6.38\n",
      "sigsqZ       3.23    0.09   0.38   2.55   3.02   3.14   3.45   4.19     17   1.19\n",
      "sigsqD[1]  132.73   35.24  50.71  66.71   81.5 139.35 182.26 193.89      2   6.44\n",
      "sigsqD[2]  242.26   76.81 123.53  71.13 103.38 274.12 328.53  455.8      3   2.79\n",
      "sigsqD[3]  110.83    5.93  18.72  82.82  99.19 109.79 117.03 161.04     10   1.66\n",
      "sigsqD[4]   301.5    82.6 131.93  98.78  181.6 277.51 398.81 560.04      3   3.33\n",
      "sigsqD[5]  164.27   22.24  61.24 112.93  121.4 141.06 183.48 345.89      8   2.06\n",
      "lp__       -339.9    7.33   12.2 -360.4 -348.6 -342.6 -330.9 -315.0      3   2.21\n",
      "\n",
      "Samples were drawn using NUTS at Tue Mar  3 12:52:58 2020.\n",
      "For each parameter, n_eff is a crude measure of effective sample size,\n",
      "and Rhat is the potential scale reduction factor on split chains (at \n",
      "convergence, Rhat=1).\n"
     ]
    }
   ],
   "source": [
    "control = dict(max_treedepth=10)\n",
    "start = time()\n",
    "fit = sm.sampling(data=data, thin=1, n_jobs=4, chains=4, iter=1_000, init=initfun, control=control)\n",
    "print(round((time()-start)/60,2), \"minutes to run\")\n",
    "print(fit)\n",
    "trace = fit.extract()"
   ]
  },
  {
   "cell_type": "markdown",
   "metadata": {},
   "source": [
    "#### Plot posterior samples of prediction probability:"
   ]
  },
  {
   "cell_type": "code",
   "execution_count": 15,
   "metadata": {},
   "outputs": [
    {
     "data": {
      "image/png": "[encoded data removed]",
      "text/plain": [
       "<Figure size 432x288 with 1 Axes>"
      ]
     },
     "metadata": {},
     "output_type": "display_data"
    }
   ],
   "source": [
    "n = 0\n",
    "\n",
    "Nsamples = np.shape(trace['U'])[0]\n",
    "ZUDU = np.zeros((Nsamples, m, m))\n",
    "for idx in range(Nsamples) :\n",
    "    ZUDU[idx] = np.matmul(np.matmul(trace['U'][idx], np.diag(trace['D'][idx,n])), trace['U'][idx].transpose())\n",
    "ZUDU += trace['Z']\n",
    "\n",
    "i, j = 1, 1\n",
    "predictive = 1/(1+np.exp(-ZUDU))\n",
    "plt.plot(predictive[:,i,j])\n",
    "plt.grid(True)"
   ]
  },
  {
   "cell_type": "markdown",
   "metadata": {},
   "source": [
    "#### Plot log-likelihoods of posterior samples:"
   ]
  },
  {
   "cell_type": "code",
   "execution_count": 16,
   "metadata": {
    "collapsed": true
   },
   "outputs": [],
   "source": [
    "def log_ll(X, Z, U, D) :\n",
    "    ll = 0\n",
    "    N = np.shape(X)[0]\n",
    "    prob = np.zeros(np.shape(X))\n",
    "    for n in range(N) :\n",
    "        ZUDU = Z + np.matmul(np.matmul(U, np.diag(D[n])), U.transpose())\n",
    "        probs = 1/(1+np.exp(-ZUDU))\n",
    "        probs[probs==1] = 1-1e-10\n",
    "        probs[probs==0] = 1e-10\n",
    "        ll += np.sum(X[n]*np.log(probs) + (1-X[n])*np.log(1-probs))\n",
    "        prob[n] = probs\n",
    "    return ll, prob"
   ]
  },
  {
   "cell_type": "code",
   "execution_count": 17,
   "metadata": {
    "collapsed": true
   },
   "outputs": [],
   "source": [
    "log_lls = np.zeros(Nsamples)\n",
    "probs = np.zeros((Nsamples,*np.shape(X[:N,:m,:m])))\n",
    "for i in range(Nsamples) :\n",
    "    log_lls[i], probs[i] = log_ll(X[:N,:m,:m], trace['Z'][i], trace['U'][i], trace['D'][i])"
   ]
  },
  {
   "cell_type": "code",
   "execution_count": 18,
   "metadata": {},
   "outputs": [
    {
     "data": {
      "image/png": "[encoded data removed]",
      "text/plain": [
       "<Figure size 432x288 with 1 Axes>"
      ]
     },
     "metadata": {},
     "output_type": "display_data"
    }
   ],
   "source": [
    "plt.plot(log_lls)\n",
    "plt.grid(True)\n",
    "plt.title(\"Log likelihoods\");\n",
    "plt.xlabel(\"MCMC sample\");\n",
    "plt.ylabel(\"loglikelihood\");"
   ]
  },
  {
   "cell_type": "code",
   "execution_count": 19,
   "metadata": {},
   "outputs": [
    {
     "data": {
      "text/plain": [
       "(0.999999999999782, 4.45840567220302e-05)"
      ]
     },
     "execution_count": 19,
     "metadata": {},
     "output_type": "execute_result"
    }
   ],
   "source": [
    "np.max(probs), np.min(probs)"
   ]
  },
  {
   "cell_type": "markdown",
   "metadata": {},
   "source": [
    "#### Plot posterior means of $U$'s:"
   ]
  },
  {
   "cell_type": "code",
   "execution_count": 20,
   "metadata": {},
   "outputs": [
    {
     "data": {
      "image/png": "[encoded data removed]",
      "text/plain": [
       "<Figure size 432x288 with 1 Axes>"
      ]
     },
     "metadata": {},
     "output_type": "display_data"
    }
   ],
   "source": [
    "plt.plot(np.sort(np.abs(np.mean(trace['U'],0)).flatten()), 'b-')\n",
    "plt.grid(True)"
   ]
  },
  {
   "cell_type": "code",
   "execution_count": null,
   "metadata": {
    "collapsed": true
   },
   "outputs": [],
   "source": []
  }
 ],
 "metadata": {
  "kernelspec": {
   "display_name": "Python 3",
   "language": "python",
   "name": "python3"
  },
  "language_info": {
   "codemirror_mode": {
    "name": "ipython",
    "version": 3
   },
   "file_extension": ".py",
   "mimetype": "text/x-python",
   "name": "python",
   "nbconvert_exporter": "python",
   "pygments_lexer": "ipython3",
   "version": "3.6.2"
  }
 },
 "nbformat": 4,
 "nbformat_minor": 2
}
