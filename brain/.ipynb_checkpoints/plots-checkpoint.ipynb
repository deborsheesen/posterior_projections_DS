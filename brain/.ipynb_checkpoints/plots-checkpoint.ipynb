{
 "cells": [
  {
   "cell_type": "code",
   "execution_count": 1,
   "metadata": {
    "collapsed": true
   },
   "outputs": [],
   "source": [
    "import matplotlib.pyplot as plt, numpy as np, numpy.random as npr, matplotlib.pyplot as plt, pickle\n",
    "from tqdm import trange\n",
    "import scipy, pystan as ps\n",
    "%matplotlib inline\n",
    "from time import time\n",
    "from pylab import plot, show, legend"
   ]
  },
  {
   "cell_type": "code",
   "execution_count": 3,
   "metadata": {},
   "outputs": [],
   "source": [
    "from numpy import loadtxt\n",
    "\n",
    "X = np.zeros((42,68,68))\n",
    "for i in range(42) :\n",
    "    name = \"/home/postdoc/dsen/Desktop/projeted_posterior/brain_data/data_column\"+str(i+1)\n",
    "    X[i] = loadtxt(name, comments=\"#\", delimiter=\" \", unpack=False)\n",
    "X = X.astype(int)\n",
    "\n",
    "N = 21 \n",
    "m = 68\n",
    "p = 10"
   ]
  },
  {
   "cell_type": "code",
   "execution_count": 4,
   "metadata": {
    "collapsed": true
   },
   "outputs": [],
   "source": [
    "name = '/xtmp/projected_posterior_data/brain_analysis/MCMC_output/trace_core'\n",
    "with open(name + '.pkl', 'rb') as f: trace_core = pickle.load(f)\n",
    "    \n",
    "name = '/xtmp/projected_posterior_data/brain_analysis/MCMC_output/trace_DL'\n",
    "with open(name + '.pkl', 'rb') as f: trace_unconstrained = pickle.load(f)"
   ]
  },
  {
   "cell_type": "code",
   "execution_count": 5,
   "metadata": {
    "collapsed": true
   },
   "outputs": [],
   "source": [
    "def project(U) :\n",
    "    m, p = np.shape(U)\n",
    "    assert p <= m\n",
    "    A, _, B = np.linalg.svd(U)\n",
    "    proj = np.zeros(np.shape(U))\n",
    "    for i in range(p) :\n",
    "        proj += np.matmul(np.reshape(A[i],(m,1)),np.reshape(B[i],(1,p)))\n",
    "    return proj"
   ]
  },
  {
   "cell_type": "code",
   "execution_count": 6,
   "metadata": {
    "collapsed": true
   },
   "outputs": [],
   "source": [
    "Nsamples = np.shape(trace_unconstrained['U'])[0]\n",
    "projU = np.zeros(np.shape(trace_unconstrained['U']))\n",
    "projD = np.zeros(np.shape(trace_unconstrained['D']))\n",
    "for i in range(Nsamples) :\n",
    "    projU[i] = project(trace_unconstrained['U'][i])\n",
    "    for n in range(np.shape(trace_unconstrained['D'])[1]) :\n",
    "        projD[i,n] = trace_unconstrained['D'][i,n]*np.linalg.norm(trace_unconstrained['U'][i], ord=2)**2"
   ]
  },
  {
   "cell_type": "code",
   "execution_count": 9,
   "metadata": {},
   "outputs": [
    {
     "data": {
      "text/plain": [
       "Text(0.5, 1.0, 'Posterior means of $|U_{ij}|$s')"
      ]
     },
     "execution_count": 9,
     "metadata": {},
     "output_type": "execute_result"
    },
    {
     "data": {
      "image/png": "[encoded data removed]",
      "text/plain": [
       "<Figure size 432x288 with 1 Axes>"
      ]
     },
     "metadata": {},
     "output_type": "display_data"
    }
   ],
   "source": [
    "plt.plot(np.sort(np.abs(np.mean(projU,0)).flatten()), 'b-', label=\"projected\")\n",
    "plt.plot(np.sort(np.abs(np.mean(trace_core['U'],0)).flatten()), 'r-', label=\"core\")\n",
    "plt.legend(ncol=2)\n",
    "plt.grid(True)\n",
    "plt.title(r\"Posterior means of $|U_{ij}|$s in ascending order\")"
   ]
  },
  {
   "cell_type": "code",
   "execution_count": 8,
   "metadata": {},
   "outputs": [
    {
     "data": {
      "text/plain": [
       "680"
      ]
     },
     "execution_count": 8,
     "metadata": {},
     "output_type": "execute_result"
    }
   ],
   "source": [
    "m*p"
   ]
  },
  {
   "cell_type": "code",
   "execution_count": null,
   "metadata": {
    "collapsed": true
   },
   "outputs": [],
   "source": []
  }
 ],
 "metadata": {
  "kernelspec": {
   "display_name": "Python 3",
   "language": "python",
   "name": "python3"
  },
  "language_info": {
   "codemirror_mode": {
    "name": "ipython",
    "version": 3
   },
   "file_extension": ".py",
   "mimetype": "text/x-python",
   "name": "python",
   "nbconvert_exporter": "python",
   "pygments_lexer": "ipython3",
   "version": "3.6.2"
  }
 },
 "nbformat": 4,
 "nbformat_minor": 2
}
