{
 "cells": [
  {
   "cell_type": "markdown",
   "metadata": {},
   "source": [
    "### Sayan Patra's code:"
   ]
  },
  {
   "cell_type": "code",
   "execution_count": 1,
   "metadata": {
    "collapsed": true
   },
   "outputs": [],
   "source": [
    "import matplotlib.pyplot as plt, numpy as np, numpy.random as npr, matplotlib.pyplot as plt, pickle\n",
    "from tqdm import trange\n",
    "import scipy, pystan as ps\n",
    "%matplotlib inline\n",
    "from time import time\n",
    "from pylab import plot, show, legend"
   ]
  },
  {
   "cell_type": "markdown",
   "metadata": {},
   "source": [
    "#### Compile Stan model:"
   ]
  },
  {
   "cell_type": "code",
   "execution_count": 2,
   "metadata": {},
   "outputs": [
    {
     "name": "stderr",
     "output_type": "stream",
     "text": [
      "INFO:pystan:COMPILING THE C++ CODE FOR MODEL anon_model_645c49c27c38e30a11e728857617fbb0 NOW.\n"
     ]
    }
   ],
   "source": [
    "sm = ps.StanModel(file=\"brain_sayan.stan\")"
   ]
  },
  {
   "cell_type": "markdown",
   "metadata": {},
   "source": [
    "#### Load data from file and prepare stan data list:"
   ]
  },
  {
   "cell_type": "code",
   "execution_count": 21,
   "metadata": {},
   "outputs": [
    {
     "name": "stdout",
     "output_type": "stream",
     "text": [
      "0.566\n"
     ]
    }
   ],
   "source": [
    "from numpy import loadtxt\n",
    "\n",
    "X = np.zeros((42,68,68))\n",
    "for i in range(42) :\n",
    "    name = \"/home/postdoc/dsen/Desktop/projeted_posterior/brain_data/data_column\"+str(i+1)\n",
    "    X[i] = loadtxt(name, comments=\"#\", delimiter=\" \", unpack=False)\n",
    "X = X.astype(int)\n",
    "\n",
    "# N = 21 \n",
    "# m = np.shape(X)[1]\n",
    "# p = 10\n",
    "# a = 1/m\n",
    "# data = dict(N=N, m=m, p=p, X=X[:N], alpha=1/m, lmbda=0.5)\n",
    "\n",
    "N = 10 \n",
    "m = 10\n",
    "p = 5\n",
    "data = dict(N=N, m=m, p=p, X=X[:N,:m,:m], alpha=1./m)\n",
    "\n",
    "print(np.mean(X[:N,:m,:m]))"
   ]
  },
  {
   "cell_type": "raw",
   "metadata": {
    "collapsed": true
   },
   "source": [
    "N = 21\n",
    "m = 10\n",
    "X = npr.binomial(n=1,p=0.3,size=(N,m,m))\n",
    "p = 5\n",
    "a = 1/m\n",
    "data = dict(N=N, p=p, m=m, X=X, alpha=1/m, lmbda=0.5)"
   ]
  },
  {
   "cell_type": "markdown",
   "metadata": {},
   "source": [
    "#### Initialise parameters for sampling:"
   ]
  },
  {
   "cell_type": "code",
   "execution_count": 22,
   "metadata": {
    "collapsed": true
   },
   "outputs": [],
   "source": [
    "Z_ini = npr.randn(m,m)\n",
    "pp = np.mean(X[:N,:m,:m],0)\n",
    "pp[pp==0] = 0.01\n",
    "pp[pp==1] = 0.99\n",
    "\n",
    "eg_p = np.linalg.eig(np.log(pp/(1-pp)))\n",
    "U_ini = eg_p[1][:,:p]\n",
    "D_ini = np.transpose(np.reshape(np.ravel([np.abs(eg_p[0][:p])]*N), (p,N), order='C'))\n",
    "\n",
    "etaU_ini= npr.rand(m,p)\n",
    "sigsqZ_ini = npr.rand()\n",
    "sigsqD_ini = npr.rand(p)\n",
    "\n",
    "def initfun():\n",
    "    return dict(Z=Z_ini, U=U_ini, D=D_ini, etaU=etaU_ini, sigsqZ=sigsqZ_ini, sigsqD=sigsqD_ini)"
   ]
  },
  {
   "cell_type": "markdown",
   "metadata": {
    "collapsed": true
   },
   "source": [
    "#### Sample using stan:"
   ]
  },
  {
   "cell_type": "code",
   "execution_count": 23,
   "metadata": {
    "scrolled": true
   },
   "outputs": [
    {
     "name": "stderr",
     "output_type": "stream",
     "text": [
      "WARNING:pystan:Rhat above 1.1 or below 0.9 indicates that the chains very likely have not mixed\n",
      "WARNING:pystan:2000 of 2000 iterations saturated the maximum tree depth of 10 (100 %)\n",
      "WARNING:pystan:Run again with max_treedepth larger than 10 to avoid saturation\n"
     ]
    },
    {
     "name": "stdout",
     "output_type": "stream",
     "text": [
      "2.05 minutes to run\n",
      "Inference for Stan model: anon_model_645c49c27c38e30a11e728857617fbb0.\n",
      "4 chains, each with iter=1000; warmup=500; thin=1; \n",
      "post-warmup draws per chain=500, total post-warmup draws=2000.\n",
      "\n",
      "             mean se_mean     sd   2.5%    25%    50%    75%  97.5%  n_eff   Rhat\n",
      "Z[1,1]      -0.27     0.8   1.38   -2.9   -1.4  -0.19    1.0   1.83      3   2.04\n",
      "Z[2,1]      -0.72    0.46   0.75  -1.69  -1.54  -0.77   0.12   0.38      3   2.75\n",
      "Z[3,1]       2.24    0.26   0.78   0.82   1.78   2.17   2.82   4.16      9   1.62\n",
      "Z[4,1]       0.99    0.35   0.57   0.39   0.58   0.72   1.42   2.49      3   2.96\n",
      "Z[5,1]       0.07    0.33    0.6   -0.6  -0.56   0.15   0.24   1.53      3   1.97\n",
      "Z[6,1]      -1.45    0.12   0.46  -2.59  -1.53  -1.36   -1.2  -0.69     14   1.49\n",
      "Z[7,1]       1.56    0.59   1.04  -0.87   1.02   1.68   2.73   2.81      3   2.14\n",
      "Z[8,1]      -0.29    1.01   1.47  -2.12   -1.5  -0.46   0.63   2.47      2   9.32\n",
      "Z[9,1]       0.51    0.92   1.42  -1.35  -0.83   0.16   1.61   3.26      2   4.71\n",
      "Z[10,1]      1.63    0.78   1.28  -0.61   0.56   1.35   3.11   3.54      3   3.15\n",
      "Z[1,2]      -0.66    0.32   0.69  -1.36  -1.22  -0.87  -0.35   0.98      4   2.21\n",
      "Z[2,2]       0.48    0.27   0.62  -0.61-6.9e-3   0.43   1.11    1.6      5   1.86\n",
      "Z[3,2]       0.82    0.44   0.83   0.03   0.11   0.37   1.32   2.85      3   3.21\n",
      "Z[4,2]       1.87    0.13   0.55    1.0    1.6   1.75   1.97   3.28     17   1.23\n",
      "Z[5,2]      -1.08    0.17   0.44  -2.31  -1.25  -1.01  -0.91  -0.19      6   1.61\n",
      "Z[6,2]       -1.8    0.76   1.19   -3.9  -2.51  -1.86  -0.66   0.06      2   3.07\n",
      "Z[7,2]      -0.41    0.88   1.31  -2.08  -1.43  -0.85   1.07   1.73      2   5.78\n",
      "Z[8,2]      -1.01    0.54   0.91  -1.91  -1.75  -1.46  -0.44   1.08      3   3.39\n",
      "Z[9,2]      -1.05    0.26   0.55  -2.14  -1.47  -1.18  -0.48  -0.23      4    2.0\n",
      "Z[10,2]      0.06    0.13    0.3  -0.44  -0.16   0.04    0.2   0.84      5   1.61\n",
      "Z[1,3]       0.03    0.63   0.98  -2.14  -0.49  -0.06   1.06   1.47      2   3.58\n",
      "Z[2,3]       0.47    0.62   1.25  -1.56  -0.72   0.12   1.24   3.03      4   2.11\n",
      "Z[3,3]       0.82     0.2   0.89  -1.34   0.48   0.77   1.16   3.15     19   1.33\n",
      "Z[4,3]       1.69     0.4   0.68   0.67   1.16   1.47   2.42   3.06      3   2.04\n",
      "Z[5,3]      -1.23    0.12   0.43  -2.06  -1.41  -1.33  -1.07  -0.25     12   1.37\n",
      "Z[6,3]      -0.83    0.28   0.47  -1.94  -1.13  -0.73  -0.51  -0.03      3   2.51\n",
      "Z[7,3]       0.68    0.54    0.8  -0.28 4.2e-3   0.44   1.68   2.01      2   4.22\n",
      "Z[8,3]       0.93    0.38   0.76-6.0e-3   0.13   0.93   1.49   2.78      4   2.21\n",
      "Z[9,3]      -0.79    0.35    0.6  -1.71  -1.63  -0.57   -0.4   0.22      3   2.77\n",
      "Z[10,3]     -0.09    0.39   0.67  -1.11  -0.63   -0.4   0.64   0.99      3   2.45\n",
      "Z[1,4]      -0.21    0.24   0.64  -0.97  -0.64  -0.29  -0.12   1.83      7   1.71\n",
      "Z[2,4]      -0.81    0.53   0.81  -2.06   -1.6  -0.83   0.05   0.48      2    4.5\n",
      "Z[3,4]       0.19    0.31   0.79  -1.34  -0.62   0.38   0.68    1.7      7   1.38\n",
      "Z[4,4]       0.31    0.99   1.56  -2.46  -0.84   0.02   2.19   2.47      2   3.43\n",
      "Z[5,4]       0.68    0.32   0.82   -1.2   0.01   0.96   1.31   1.89      7   3.09\n",
      "Z[6,4]      -1.31    0.23   0.59  -2.77  -1.63  -1.31  -0.82  -0.43      7   1.54\n",
      "Z[7,4]       0.25    0.59   0.87   -1.1  -0.59   0.42   1.01    1.6      2   3.73\n",
      "Z[8,4]       1.23    0.51   1.23  -0.29  -0.06   1.46   1.64   4.52      6   2.56\n",
      "Z[9,4]      -0.47    0.32   0.51  -1.52   -0.8  -0.42  -0.03   0.24      2   2.44\n",
      "Z[10,4]      1.63    0.11   0.41   0.83   1.51   1.59   1.73    2.8     14   1.25\n",
      "Z[1,5]      -0.05     0.5    0.8   -1.9  -0.52   0.21   0.49   0.98      3   2.57\n",
      "Z[2,5]       0.24    0.54   1.24  -2.16  -0.78  -0.02   1.61   1.88      5   2.33\n",
      "Z[3,5]      -0.59    0.66   1.23  -2.87  -1.93   0.14   0.28   1.08      3   2.82\n",
      "Z[4,5]      -0.22    0.71   1.35  -3.02   -0.8  -0.38   0.62   2.32      4   1.92\n",
      "Z[5,5]      -0.02    0.27   0.98  -2.66  -0.31  -0.18   0.56   2.09     13   1.69\n",
      "Z[6,5]      -0.88    0.86   1.26  -3.16   -1.7  -0.51   0.28   0.58      2   5.12\n",
      "Z[7,5]       0.73    0.39   0.65  -0.25   0.16   0.56   1.48   1.71      3   2.21\n",
      "Z[8,5]       0.14    0.13   0.65  -1.41  -0.21   0.29   0.35   1.59     25   1.18\n",
      "Z[9,5]       0.26    0.37   0.61  -0.73  -0.06   0.04    0.5   1.67      3   2.21\n",
      "Z[10,5]      1.11    0.29   0.69  -0.35   0.48   1.07   1.54   2.38      6   1.61\n",
      "Z[1,6]      -0.04     1.3   1.99  -3.21  -2.35  -0.21   1.65   3.11      2   2.92\n",
      "Z[2,6]       0.22    0.57   0.95  -1.56  -0.33   0.16   0.71   2.06      3   2.13\n",
      "Z[3,6]       -0.5    0.95    1.5  -2.55  -1.88  -0.58   1.29   1.95      3   4.36\n",
      "Z[4,6]        0.5    0.31   0.66  -0.15  -0.06   0.25   0.91   2.13      4   1.73\n",
      "Z[5,6]      -0.65    0.25   0.57  -1.62  -0.97  -0.92  -0.29   0.62      5   1.89\n",
      "Z[6,6]       0.13    0.59   0.98  -1.51  -1.15    0.4   0.78   1.78      3    3.1\n",
      "Z[7,6]       1.67    0.41   0.66   0.69   0.88   1.77   2.32   2.55      3   4.29\n",
      "Z[8,6]      -1.46    0.85   1.36  -3.46  -2.81  -1.27  -0.27   1.16      3   3.27\n",
      "Z[9,6]       1.18    0.54   0.83  -0.07   0.23    1.4   1.68   2.71      2   3.15\n",
      "Z[10,6]     -1.08    0.49   0.76  -2.43  -1.63  -1.12  -0.18   0.11      2   3.87\n",
      "Z[1,7]       0.22    0.31   0.86  -1.96  -0.29   0.52   0.71   1.38      7   1.44\n",
      "Z[2,7]       0.09    0.49    0.9  -1.67  -0.79   0.55   0.73   1.47      3   1.96\n",
      "Z[3,7]        0.3     0.2   0.61  -0.93  -0.22   0.35   0.82   1.41      9   1.32\n",
      "Z[4,7]      -0.22    0.74   1.08  -1.77  -1.35   0.05   0.62   1.39      2   4.16\n",
      "Z[5,7]      -0.49    0.67   1.07  -2.38  -1.15   -0.8   0.75    1.4      3   2.35\n",
      "Z[6,7]       0.35    0.91   1.65  -1.63  -1.35   0.26   1.03   4.24      3   2.83\n",
      "Z[7,7]       0.35    0.76   1.24  -1.09  -0.87   0.03   1.51   3.05      3   2.32\n",
      "Z[8,7]       1.14    0.75   1.29  -1.52   0.36   1.63   2.32   2.59      3   2.61\n",
      "Z[9,7]      -0.06    0.62   0.93  -1.55  -1.05-7.5e-3   0.68   1.38      2    4.5\n",
      "Z[10,7]      1.82    0.47   0.86   0.85   1.12   1.33   2.35   4.15      3    2.6\n",
      "Z[1,8]       0.23    0.79   1.18  -2.01  -0.42   0.47   1.48   1.67      2   3.26\n",
      "Z[2,8]      -0.87    0.78   1.39  -3.85  -2.26   0.16   0.24   0.33      3   2.56\n",
      "Z[3,8]       0.69    0.83   1.37  -1.25  -0.98   0.82   1.49   3.45      3   3.41\n",
      "Z[4,8]      -0.37    0.82   1.52  -1.83  -1.64  -1.24   0.92    2.8      3    2.8\n",
      "Z[5,8]     7.6e-3    0.25   0.91  -1.65  -0.68  -0.15    0.7   1.89     13   1.24\n",
      "Z[6,8]        0.2    0.41   0.72  -0.55  -0.29  -0.07   0.56   1.95      3   2.17\n",
      "Z[7,8]      -0.18    0.15   0.63  -1.22  -0.56  -0.24   0.09   1.47     18    1.2\n",
      "Z[8,8]       -0.1     0.5   0.79   -1.0  -0.61  -0.54   0.39    1.6      3   3.85\n",
      "Z[9,8]       1.07    0.22    0.6  -0.32   0.89   0.94   1.51   2.21      8   2.42\n",
      "Z[10,8]      0.83    0.41   0.83  -1.22    0.1   1.14   1.36   2.19      4   1.64\n",
      "Z[1,9]      -0.48    1.12   1.76   -3.1   -2.7   0.13    0.8   2.48      3   4.05\n",
      "Z[2,9]       0.79    0.28   0.84  -1.08   0.47   0.83   1.57   2.28      9   1.76\n",
      "Z[3,9]       0.19    0.44   0.81  -1.95   0.04   0.21   0.93   1.06      3   1.83\n",
      "Z[4,9]      -0.07     0.6   0.93   -1.7   -0.6  -0.24   0.52   1.88      2   4.74\n",
      "Z[5,9]      -0.01    0.62   1.16  -0.99  -0.69  -0.52   0.03   3.26      3   2.66\n",
      "Z[6,9]      -0.88    0.53   0.81  -2.18  -1.83  -0.72  -0.16   0.34      2   4.24\n",
      "Z[7,9]      -0.18    0.21   0.75  -2.32  -0.57   -0.2   0.48   0.95     12   1.31\n",
      "Z[8,9]      -0.27    0.66   0.99  -2.18   -0.8  -0.05   0.76   0.85      2   3.82\n",
      "Z[9,9]       0.58    0.75   1.23  -1.41  -0.22   0.08    2.1   2.62      3    2.7\n",
      "Z[10,9]      1.14    0.67   1.01  -0.53   0.02    1.4   2.05    2.5      2   4.96\n",
      "Z[1,10]     -0.43    0.69   1.03   -1.8  -1.65   -0.3   0.65   1.23      2   3.93\n",
      "Z[2,10]      0.54    0.93   1.45  -2.18  -0.02   0.18   0.92   3.85      2   2.73\n",
      "Z[3,10]      0.24    0.31   0.76  -0.99  -0.34   0.17   0.78   2.14      6   1.49\n",
      "Z[4,10]      0.14     0.6   1.38  -2.94  -0.87  -0.21   1.53   2.72      5   1.88\n",
      "Z[5,10]     -0.02    0.64   1.15  -2.53  -1.03    0.2   1.13   1.46      3   2.17\n",
      "Z[6,10]     -0.25    0.46    1.0  -1.96  -1.04  -0.53   0.83   1.17      5    1.6\n",
      "Z[7,10]      0.57     0.5   0.87  -1.29  -0.05   0.75    1.5   1.77      3   2.18\n",
      "Z[8,10]      0.15    0.11    0.6  -0.96  -0.19   0.09   0.46   1.84     29   1.18\n",
      "Z[9,10]     -0.03    0.56    1.0  -1.31  -1.08  -0.15   0.62   2.29      3   2.48\n",
      "Z[10,10]    -0.27    0.67   1.19  -1.65   -1.5  -0.35   0.24   2.64      3   1.88\n",
      "U[1,1]      -0.26    0.28   0.39  -0.96  -0.62  -0.02-1.4e-7 6.4e-3      2  14.45\n",
      "U[2,1]     1.1e-3  1.8e-3 5.1e-3  -0.01-9.8e-5 1.3e-4 4.3e-3 9.1e-3      9   1.36\n",
      "U[3,1]      -0.02    0.02   0.08  -0.35-6.6e-3-2.6e-3 7.3e-4   0.02     11   1.42\n",
      "U[4,1]      -0.11    0.09   0.14  -0.34   -0.3-7.5e-3 1.3e-3   0.02      3   4.18\n",
      "U[5,1]      -0.24    0.18   0.29  -0.84  -0.51  -0.01 5.6e-3   0.02      3   2.67\n",
      "U[6,1]       0.11    0.07   0.13  -0.02 1.8e-3   0.04   0.17   0.44      3   2.01\n",
      "U[7,1]    -2.3e-3  1.8e-3 6.4e-3  -0.02-5.2e-3-3.4e-4 1.2e-4   0.01     12   1.42\n",
      "U[8,1]      -0.78     0.6   0.95   -1.7  -1.65  -1.01  -0.45   1.58      3   4.89\n",
      "U[9,1]      -0.18    0.24   0.35  -0.79  -0.46-5.1e-3 8.0e-3   0.19      2   9.87\n",
      "U[10,1]     -0.26    0.24   0.35  -0.84  -0.63  -0.01   0.02   0.02      2    8.8\n",
      "U[1,2]       0.02    0.02   0.04  -0.03-5.8e-6 4.7e-6 1.3e-3   0.14      5   1.58\n",
      "U[2,2]       0.06    0.06   0.09  -0.03 4.1e-4   0.02   0.19   0.22      2   3.75\n",
      "U[3,2]    -7.4e-3    0.04   0.14  -0.29  -0.05  -0.02 8.5e-4   0.38     13   1.38\n",
      "U[4,2]    -8.0e-4  2.0e-3 3.7e-3-8.3e-3-2.7e-3-2.7e-4 4.0e-4 8.8e-3      4    2.1\n",
      "U[5,2]     8.2e-3  9.5e-3   0.01-1.6e-3-4.8e-5 1.4e-4   0.01   0.04      2   5.62\n",
      "U[6,2]      -0.05     0.2   0.29  -0.52  -0.28 1.5e-4   0.15   0.32      2  22.29\n",
      "U[7,2]      -0.24    0.27   0.39  -0.91  -0.54  -0.02 8.2e-5   0.03      2   26.9\n",
      "U[8,2]    -8.5e-3  9.7e-3   0.04  -0.12-7.5e-3-2.1e-3 2.1e-4   0.08     17    1.2\n",
      "U[9,2]      -0.03    0.68    1.0  -1.51  -1.27   0.17   0.82   1.48      2   6.54\n",
      "U[10,2]      0.06     0.1   0.14  -0.09  -0.01 1.4e-4   0.15   0.32      2  15.73\n",
      "U[1,3]    -7.4e-4    0.24   0.42  -0.51   -0.4  -0.04 3.6e-3   1.09      3   1.97\n",
      "U[2,3]       0.07    0.06   0.09-6.0e-3 1.8e-4   0.05   0.14   0.24      2   8.63\n",
      "U[3,3]       0.01  9.2e-3   0.05  -0.01-1.5e-3 2.6e-3   0.01   0.11     31   1.13\n",
      "U[4,3]      -0.04    0.02   0.07  -0.21  -0.07  -0.03  -0.01   0.13     14   1.47\n",
      "U[5,3]      -0.25    0.28    0.4  -0.96  -0.66  -0.02-4.5e-3   0.06      2  10.57\n",
      "U[6,3]       0.05    0.06   0.08  -0.02 6.6e-4 9.0e-3   0.15    0.2      2   7.63\n",
      "U[7,3]      -0.03    0.12   0.18  -0.35  -0.15 3.7e-4    0.1   0.19      2   9.89\n",
      "U[8,3]      -0.41    0.33   0.51  -1.27  -1.06  -0.22-6.6e-4   0.11      2   4.05\n",
      "U[9,3]      -0.26    0.37   0.53   -1.3  -0.58  -0.02   0.06   0.22      2  12.99\n",
      "U[10,3]     -0.06    0.07    0.1  -0.24  -0.15-6.5e-4 4.9e-4   0.02      2   8.11\n",
      "U[1,4]      -0.02    0.03   0.04  -0.09  -0.07-1.5e-3 2.9e-4 5.9e-3      2   7.71\n",
      "U[2,4]      -0.14    0.36   0.57  -1.47  -0.07 7.5e-3   0.03   0.76      2    3.6\n",
      "U[3,4]      -0.03    0.03   0.06  -0.22  -0.02-2.5e-3 5.6e-3   0.01      5   3.08\n",
      "U[4,4]     4.0e-4  4.8e-3   0.01  -0.03-2.8e-3-4.5e-5 8.8e-3   0.01      4   2.26\n",
      "U[5,4]       0.12    0.15   0.29  -0.06  -0.02   0.01   0.03    1.1      4   2.32\n",
      "U[6,4]    -1.3e-3  3.3e-3   0.02  -0.04-2.2e-3-1.6e-4 1.2e-3   0.04     24    1.1\n",
      "U[7,4]    -5.2e-3    0.14   0.22  -0.58  -0.01-2.1e-4   0.13   0.31      2    2.8\n",
      "U[8,4]       -0.3    0.33   0.49   -1.1  -0.89  -0.04 2.6e-3   0.34      2   5.82\n",
      "U[9,4]      -0.25    0.28    0.5  -1.89  -0.23  -0.03   0.03   0.23      3   2.05\n",
      "U[10,4]      0.04    0.04   0.05  -0.01-3.8e-5   0.02   0.09   0.15      2   7.35\n",
      "U[1,5]      -0.34    0.28   0.43  -1.22   -0.6  -0.18   0.03   0.08      2   3.44\n",
      "U[2,5]       0.15    0.18   0.26  -0.05 3.7e-4   0.01   0.33   0.62      2  21.87\n",
      "U[3,5]       0.14    0.17   0.25  -0.02-3.2e-3 6.8e-4   0.31   0.59      2  34.57\n",
      "U[4,5]      -0.07    0.08   0.12  -0.28  -0.14-3.4e-4 3.6e-3 6.5e-3      2  30.81\n",
      "U[5,5]      -0.03    0.04   0.06  -0.17  -0.08 9.2e-5   0.02   0.03      2    3.1\n",
      "U[6,5]      -0.07    0.08   0.12  -0.29  -0.17-1.6e-3 2.8e-3   0.02      2  16.07\n",
      "U[7,5]      -0.23    0.14   0.27  -0.83   -0.4  -0.16 4.2e-5   0.03      4   2.03\n",
      "U[8,5]      -0.45    0.55   0.84  -2.71  -0.69-7.9e-4 1.2e-3   0.21      2    5.3\n",
      "U[9,5]      -0.31    0.21   0.42  -1.21  -0.62-6.3e-3   0.01   0.03      4   2.04\n",
      "U[10,5]     -0.21    0.19    0.3  -0.79  -0.47  -0.06 6.9e-4   0.23      2   3.19\n",
      "D[1,1]       17.7    2.17   3.36  12.67  13.99  18.01  19.73  24.37      2    3.4\n",
      "D[2,1]       6.46    5.13   7.45 -10.32   3.63   9.61  11.23  12.35      2   9.75\n",
      "D[3,1]       9.78     5.8   9.68   1.33   2.11   3.42  15.27  35.87      3   2.62\n",
      "D[4,1]       6.92    1.88    4.0   2.87   3.97   4.23  10.33  15.56      5   2.02\n",
      "D[5,1]      23.68    6.84   9.84  16.13  16.46  19.05  28.05  44.99      2   7.14\n",
      "D[6,1]      17.74    1.05   2.22   15.3  16.16  16.66  18.72  23.87      4   3.32\n",
      "D[7,1]      10.86     2.8   4.01   4.58   7.72  11.42  12.43  17.66      2   6.86\n",
      "D[8,1]       3.74    1.52   2.39   -0.6   0.87   4.38   5.66   7.34      2   2.95\n",
      "D[9,1]       3.76    2.65   4.15  -4.33   1.05   4.14   5.85  10.89      2   5.29\n",
      "D[10,1]     15.06    2.16   3.17   9.19  12.81   14.7  18.21  19.71      2   6.53\n",
      "D[1,2]       14.5    2.98   5.53  -2.24  15.13  15.85  19.19  19.34      3   1.88\n",
      "D[2,2]       9.05    3.19   4.61  -0.88   6.61  11.58  12.16  12.52      2  10.55\n",
      "D[3,2]       5.47    1.08    3.0  -0.61   4.03   6.34   6.59  13.38      8   1.89\n",
      "D[4,2]       5.23    3.41   4.93  -0.72   1.82   3.32   9.63  13.78      2   7.88\n",
      "D[5,2]      14.89    1.59   3.68   3.38  15.04  15.91  17.47  18.42      5   2.67\n",
      "D[6,2]      20.02    0.93    2.6   13.9  17.69  19.97  21.88   24.7      8   1.67\n",
      "D[7,2]       9.27     2.1   4.26  -2.57   9.72   11.3  11.44   12.2      4   2.51\n",
      "D[8,2]       4.04    2.61   6.08  -7.96   0.19   4.79  10.16  13.83      5   1.68\n",
      "D[9,2]       4.62    0.86   1.29   2.06   4.08   4.88   5.42   6.86      2   5.28\n",
      "D[10,2]      14.0    4.24   6.37  -1.72  14.99  17.14   17.6  18.48      2   4.85\n",
      "D[1,3]      16.32    1.91   4.31   3.21  15.14  18.79  19.39  19.45      5   2.35\n",
      "D[2,3]      10.53     1.1   1.75   6.13  10.77  11.09  11.67  12.13      3   3.14\n",
      "D[3,3]      -3.11    5.59   8.05 -20.27  -6.35   0.58   2.23    2.9      2   7.42\n",
      "D[4,3]        6.7    1.29   1.84   4.01    5.4   6.61   8.17   9.58      2   10.6\n",
      "D[5,3]      18.09    4.38    6.3  11.08  12.46  16.73  21.56  30.44      2   9.04\n",
      "D[6,3]      16.36    3.05   4.51   8.23   14.0  15.58  19.86  23.66      2   7.62\n",
      "D[7,3]       9.07     3.0   5.51  -5.06  10.08  10.68  12.76  13.63      3   3.09\n",
      "D[8,3]        1.9    0.79   1.16  -0.35   0.79   2.44   2.88   2.98      2   5.53\n",
      "D[9,3]       6.63    1.91   3.98   -2.1    3.3   8.83   9.36  10.89      4    2.0\n",
      "D[10,3]     15.37    1.53    2.3   9.81  14.97  16.14  17.14  17.82      2   3.28\n",
      "D[1,4]      14.87    3.16   4.51   8.49  11.38  14.33  19.21  21.75      2  10.38\n",
      "D[2,4]      10.92    2.17   3.28   5.43   8.97  10.71  12.03   17.6      2   6.35\n",
      "D[3,4]       3.51     3.2   5.57  -2.22  -1.83  -0.05   7.06   15.8      3   3.32\n",
      "D[4,4]       3.44    1.65   2.55  -2.35   2.83   3.93   5.87   6.47      2   3.05\n",
      "D[5,4]      20.33    3.48    5.1  15.72  16.45  18.17  20.94  31.53      2   4.57\n",
      "D[6,4]       13.2    4.16   5.91   2.52   9.24  15.33  17.51  19.19      2  14.58\n",
      "D[7,4]      13.53    5.69   8.21   4.78   7.64  11.66  17.48  30.72      2    6.1\n",
      "D[8,4]       2.71     0.6   0.98   0.92   2.07   2.49   3.61   4.14      3   2.72\n",
      "D[9,4]       5.51     0.3   0.85   4.31   4.71   5.72   6.06   7.27      8   1.53\n",
      "D[10,4]     17.48    3.43   5.74  11.78  13.36  15.02  16.84  32.28      3   2.69\n",
      "D[1,5]      15.91    4.24   6.06   8.12  10.59  15.56  20.84  25.63      2  10.26\n",
      "D[2,5]      11.23    0.33    1.1    9.0  10.74  11.23  12.03  12.98     11   1.43\n",
      "D[3,5]       2.89    1.15   1.74   -0.8   2.36   3.17   4.28   5.58      2    4.7\n",
      "D[4,5]       4.92    1.89   2.92  -2.13   4.65   6.04   6.49   8.13      2   3.57\n",
      "D[5,5]      14.61    1.67   3.66    5.1  12.85  14.19  17.31  21.17      5   1.69\n",
      "D[6,5]      16.61    5.82   8.78  -5.89  17.42  20.04  21.99  23.72      2   4.08\n",
      "D[7,5]      10.37    3.44   5.23   -1.3  10.96   11.9  12.26  17.31      2   3.44\n",
      "D[8,5]       6.19    3.47   5.71   0.57   1.09   4.52   7.89  19.43      3   5.13\n",
      "D[9,5]       5.39    0.69   1.17   4.21   4.33   5.23   5.31   8.53      3   2.08\n",
      "D[10,5]     12.27    4.15   6.33  -3.16  11.42  14.36  16.99  17.73      2   3.63\n",
      "etaU[1,1]    2.22    1.43   2.81 5.7e-6 5.3e-3   0.61   4.57   9.65      4   2.04\n",
      "etaU[2,1]    0.12    0.06   0.21 1.1e-3 1.7e-3   0.09   0.14   0.58     13   1.21\n",
      "etaU[3,1]    0.67    0.43    1.4   0.01   0.14    0.2   0.54   6.25     10   1.55\n",
      "etaU[4,1]    1.19    0.75   1.34    0.1   0.11   0.37   2.33   3.56      3    2.5\n",
      "etaU[5,1]    1.75    1.13   1.72   0.03   0.13   0.78   3.37   4.53      2   3.23\n",
      "etaU[6,1]    1.65    0.85   1.67   0.28    0.4   0.96   2.26    6.6      4   1.76\n",
      "etaU[7,1]    0.17    0.14   0.42 7.5e-4 4.7e-3   0.04    0.1   1.22      9   1.41\n",
      "etaU[8,1]    8.21     2.1    3.6   4.41    5.1   7.14  10.22   16.2      3   2.09\n",
      "etaU[9,1]    2.36    1.43   2.74   0.03    0.3   0.53   5.26   8.61      4    2.3\n",
      "etaU[10,1]   1.93    1.24   2.03    0.1    0.2   0.77   3.17   6.97      3   2.43\n",
      "etaU[1,2]     0.7    0.83   1.28 4.9e-5 9.7e-5   0.02   0.67   3.93      2   5.74\n",
      "etaU[2,2]    2.13    1.19   1.71   0.15   0.44   2.56   3.81   4.72      2   8.93\n",
      "etaU[3,2]    1.52    1.08   2.11   0.02    0.2   0.66   1.95    8.9      4   2.49\n",
      "etaU[4,2]    0.13    0.07   0.24 1.6e-3   0.02   0.06   0.13    0.9     13   1.45\n",
      "etaU[5,2]    0.14    0.13   0.19 7.9e-5 3.9e-3   0.04   0.41   0.49      2   3.21\n",
      "etaU[6,2]    2.54    1.78   2.54 2.7e-3   0.06   2.75   4.75   6.42      2  10.22\n",
      "etaU[7,2]    4.07    3.22   4.62 2.9e-3   0.25   2.51   7.32   13.2      2  17.66\n",
      "etaU[8,2]    1.35    1.52   2.34   0.03   0.08   0.09   1.66   7.96      2   3.21\n",
      "etaU[9,2]   10.53    3.06   5.36   4.66   5.05   9.15  13.64  24.02      3   1.87\n",
      "etaU[10,2]   2.36     1.6   2.88 6.3e-4   0.03    0.4    4.7   9.47      3   1.94\n",
      "etaU[1,3]    5.61    4.09   6.16   0.05   0.86   3.24   7.32   20.4      2   3.33\n",
      "etaU[2,3]    1.01    0.69   0.98 5.6e-3   0.22   0.96   1.84   2.68      2  11.26\n",
      "etaU[3,3]    0.47    0.27   0.95   0.02   0.05   0.16   0.47   3.63     12   1.37\n",
      "etaU[4,3]    2.78    1.49   2.57   0.14   0.98   2.59   3.14    9.6      3   2.11\n",
      "etaU[5,3]    3.22     1.4   2.65   0.42   1.09   1.91   6.17    8.1      4   1.85\n",
      "etaU[6,3]    0.53    0.36   0.55   0.02   0.13   0.22   1.38    1.4      2   3.41\n",
      "etaU[7,3]    2.28    1.07   2.04   0.14    0.2   2.31    3.2   8.09      4   1.79\n",
      "etaU[8,3]    3.92    2.14   3.82   0.02    0.2   2.06   7.99  11.04      3   2.76\n",
      "etaU[9,3]    3.39    1.86   3.61 2.0e-3   0.53   2.47   6.29  12.45      4   2.12\n",
      "etaU[10,3]   2.45    2.65   3.76 1.1e-3   0.07    0.3   4.97   9.51      2  17.55\n",
      "etaU[1,4]     0.7    0.72   1.02   0.03   0.08   0.11   1.51   2.66      2  13.69\n",
      "etaU[2,4]    3.37    1.74    3.7   0.63    0.9   1.19   5.14  14.59      5   1.78\n",
      "etaU[3,4]    0.44     0.2   0.32 1.1e-3   0.27   0.33   0.69   1.15      3    3.3\n",
      "etaU[4,4]    0.32    0.14   0.59 9.7e-3   0.08   0.09   0.44   1.68     18   1.24\n",
      "etaU[5,4]    1.86    1.66   2.74   0.25   0.26   0.52   2.88  10.97      3   2.18\n",
      "etaU[6,4]    0.41    0.37   0.92 4.1e-3   0.03   0.04   0.22   3.11      6   1.97\n",
      "etaU[7,4]    1.93    1.11   1.95 3.0e-4   0.36   0.76   4.05   5.97      3   2.77\n",
      "etaU[8,4]    4.22    1.88   2.94   0.51   2.21   2.79   8.43   9.18      2   3.64\n",
      "etaU[9,4]    3.81    1.99   3.78   0.38   0.48   3.49   4.62  14.45      4   1.66\n",
      "etaU[10,4]   5.39    3.84   5.45 1.3e-3   0.02   4.59  10.03  12.92      2  19.55\n",
      "etaU[1,5]    4.57    2.43   3.62    0.5   0.55   3.61   8.33  10.52      2   4.45\n",
      "etaU[2,5]    1.34    0.77   1.18   0.06   0.31    1.2   2.39    4.0      2   3.49\n",
      "etaU[3,5]     1.7    1.83    2.6   0.01   0.13   0.21   4.59   6.45      2  12.92\n",
      "etaU[4,5]    1.32    1.49   2.11   0.02   0.06   0.08   3.58   5.36      2  10.48\n",
      "etaU[5,5]    1.22    0.48   1.01   0.01   0.15   1.21    2.1   3.05      5   2.44\n",
      "etaU[6,5]     2.0    1.53   2.21   0.03   0.09   2.09   3.36    6.4      2   5.27\n",
      "etaU[7,5]    2.78    1.03   2.25   0.06   0.16   3.31   4.11   7.27      5   2.42\n",
      "etaU[8,5]    2.33    1.81   2.79   0.03   0.09   0.58   4.69   8.76      2    3.8\n",
      "etaU[9,5]    2.35    1.37   2.47    0.3   0.33    0.6   4.26   8.25      3   2.78\n",
      "etaU[10,5]    3.1    1.58   3.43   0.02   0.25   1.57    4.6  12.81      5   2.15\n",
      "sigsqZ       1.51    0.31   0.63   1.01   1.16    1.2    1.6   3.46      4   3.05\n",
      "sigsqD[1]  266.72  119.96 232.55  77.68  144.5 196.48 256.65 962.88      4   1.69\n",
      "sigsqD[2]  173.05   33.75  52.63  72.78 114.32 195.16  210.2 253.02      2   2.63\n",
      "sigsqD[3]  130.28   16.31  47.39  69.87 102.51 129.28 141.08  279.1      8   1.35\n",
      "sigsqD[4]   161.5   42.24  90.91  92.77 101.29  107.3 200.74 456.77      5   1.68\n",
      "sigsqD[5]  225.28    59.3  94.53  84.26 146.76 234.33 271.02 433.58      3   2.68\n",
      "lp__       -332.4    7.28  12.61 -349.9 -343.3 -331.9 -326.6 -303.1      3   2.01\n",
      "\n",
      "Samples were drawn using NUTS at Tue Mar  3 12:53:09 2020.\n",
      "For each parameter, n_eff is a crude measure of effective sample size,\n",
      "and Rhat is the potential scale reduction factor on split chains (at \n",
      "convergence, Rhat=1).\n"
     ]
    }
   ],
   "source": [
    "control = dict(max_treedepth=10)\n",
    "start = time()\n",
    "fit = sm.sampling(data=data, thin=1, n_jobs=4, chains=4, iter=1_000, init=initfun, control=control)\n",
    "print(round((time()-start)/60,2), \"minutes to run\")\n",
    "print(fit)\n",
    "trace = fit.extract()"
   ]
  },
  {
   "cell_type": "markdown",
   "metadata": {},
   "source": [
    "#### Project using SVD:"
   ]
  },
  {
   "cell_type": "code",
   "execution_count": 24,
   "metadata": {
    "collapsed": true
   },
   "outputs": [],
   "source": [
    "def project(U) :\n",
    "    m, p = np.shape(U)\n",
    "    assert p <= m\n",
    "    assert np.linalg.matrix_rank(U) == p\n",
    "    A, _, B = np.linalg.svd(U)\n",
    "    proj = np.zeros(np.shape(U))\n",
    "    for i in range(p) : proj += np.matmul(np.reshape(A[i],(m,1)),np.reshape(B[i],(1,p)))\n",
    "    return proj"
   ]
  },
  {
   "cell_type": "code",
   "execution_count": 40,
   "metadata": {
    "collapsed": true
   },
   "outputs": [],
   "source": [
    "Nsamples = np.shape(trace['U'])[0]\n",
    "projU = np.zeros(np.shape(trace['U']))\n",
    "projD = np.zeros(np.shape(trace['D']))\n",
    "for i in range(Nsamples) :\n",
    "    projU[i] = project(trace['U'][i])\n",
    "#     projU[i] = trace['U'][i]\n",
    "    for n in range(np.shape(trace['D'])[1]) :\n",
    "        projD[i,n] = trace['D'][i,n]*np.linalg.norm(trace['U'][i], ord=2)#**2"
   ]
  },
  {
   "cell_type": "markdown",
   "metadata": {},
   "source": [
    "#### Plot log-likelihoods of posterior samples:"
   ]
  },
  {
   "cell_type": "code",
   "execution_count": 41,
   "metadata": {
    "collapsed": true
   },
   "outputs": [],
   "source": [
    "def log_ll(X, Z, U, D) :\n",
    "    ll = 0\n",
    "    N = np.shape(X)[0]\n",
    "    prob = np.zeros(np.shape(X))\n",
    "    for n in range(N) :\n",
    "        ZUDU = Z + np.matmul(np.matmul(U, np.diag(D[n])), U.transpose())\n",
    "        probs = 1/(1+np.exp(-ZUDU))\n",
    "        probs[probs==1] = 1-1e-10\n",
    "        probs[probs==0] = 1e-10\n",
    "        ll += np.sum(X[n]*np.log(probs) + (1-X[n])*np.log(1-probs))\n",
    "        prob[n] = probs\n",
    "    return ll, prob"
   ]
  },
  {
   "cell_type": "code",
   "execution_count": 42,
   "metadata": {},
   "outputs": [
    {
     "data": {
      "image/png": "[encoded data removed]",
      "text/plain": [
       "<Figure size 432x288 with 1 Axes>"
      ]
     },
     "metadata": {},
     "output_type": "display_data"
    }
   ],
   "source": [
    "log_lls = np.zeros(Nsamples)\n",
    "probs = np.zeros((Nsamples,*np.shape(X[:N,:m,:m])))\n",
    "for i in range(Nsamples) :\n",
    "    log_lls[i], probs[i] = log_ll(X[:N,:m,:m], trace['Z'][i], projU[i], projD[i])\n",
    "\n",
    "plt.plot(log_lls)\n",
    "plt.grid(True)\n",
    "plt.title(\"Log likelihoods\");\n",
    "plt.xlabel(\"MCMC sample\");\n",
    "plt.ylabel(\"loglikelihood\");"
   ]
  },
  {
   "cell_type": "code",
   "execution_count": 36,
   "metadata": {},
   "outputs": [
    {
     "data": {
      "text/plain": [
       "(0.9999999999999998, 4.755046053973518e-59)"
      ]
     },
     "execution_count": 36,
     "metadata": {},
     "output_type": "execute_result"
    }
   ],
   "source": [
    "np.max(probs), np.min(probs)"
   ]
  },
  {
   "cell_type": "markdown",
   "metadata": {},
   "source": [
    "#### Plot posterior samples of $\\|U\\|_\\text{sp}$:"
   ]
  },
  {
   "cell_type": "code",
   "execution_count": 33,
   "metadata": {},
   "outputs": [
    {
     "data": {
      "image/png": "[encoded data removed]",
      "text/plain": [
       "<Figure size 432x288 with 1 Axes>"
      ]
     },
     "metadata": {},
     "output_type": "display_data"
    }
   ],
   "source": [
    "norms = np.zeros(Nsamples)\n",
    "for i in range(Nsamples) :\n",
    "    norms[i] = np.linalg.norm(trace['U'][i], ord=2)\n",
    "plt.plot(norms)\n",
    "plt.grid(True)"
   ]
  },
  {
   "cell_type": "markdown",
   "metadata": {},
   "source": [
    "#### Plot posterior means of $U$'s:"
   ]
  },
  {
   "cell_type": "code",
   "execution_count": 31,
   "metadata": {},
   "outputs": [
    {
     "data": {
      "text/plain": [
       "<matplotlib.legend.Legend at 0x7fe74b2d9f60>"
      ]
     },
     "execution_count": 31,
     "metadata": {},
     "output_type": "execute_result"
    },
    {
     "data": {
      "image/png": "[encoded data removed]",
      "text/plain": [
       "<Figure size 432x288 with 1 Axes>"
      ]
     },
     "metadata": {},
     "output_type": "display_data"
    }
   ],
   "source": [
    "plt.plot(np.sort(np.abs(np.mean(trace['U'],0)).flatten()), 'b-', label=\"unprojected\")\n",
    "plt.plot(np.sort(np.abs(np.mean(projU,0)).flatten()), 'r-', label=\"projected\")\n",
    "plt.grid(True)\n",
    "plt.legend(ncol=2)"
   ]
  },
  {
   "cell_type": "code",
   "execution_count": null,
   "metadata": {
    "collapsed": true
   },
   "outputs": [],
   "source": []
  }
 ],
 "metadata": {
  "kernelspec": {
   "display_name": "Python 3",
   "language": "python",
   "name": "python3"
  },
  "language_info": {
   "codemirror_mode": {
    "name": "ipython",
    "version": 3
   },
   "file_extension": ".py",
   "mimetype": "text/x-python",
   "name": "python",
   "nbconvert_exporter": "python",
   "pygments_lexer": "ipython3",
   "version": "3.6.2"
  }
 },
 "nbformat": 4,
 "nbformat_minor": 2
}
